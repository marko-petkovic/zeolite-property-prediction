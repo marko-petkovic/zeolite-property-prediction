{
 "cells": [
  {
   "cell_type": "code",
   "execution_count": 1,
   "id": "f3efd022-431e-4c99-9062-f61ef85fa695",
   "metadata": {},
   "outputs": [],
   "source": [
    "import os\n",
    "import sys\n",
    "sys.path.append(os.getcwd())\n",
    "sys.path.insert(0, \"../zeolite-property-prediction/code/\")\n",
    "sys.path.insert(0, \"../zeolite-property-prediction/\")\n",
    "\n",
    "\n",
    "import numpy as np\n",
    "import pandas as pd\n",
    "import torch\n",
    "import torch.nn as nn\n",
    "import torch.nn.functional as F\n",
    "\n",
    "import torch.optim as optim\n",
    "\n",
    "import matplotlib.pyplot as plt\n",
    "import matplotlib.ticker as tick\n",
    "\n",
    "from tqdm import tqdm\n",
    "\n",
    "\n",
    "from models.equivariant_mpnn import MPNN, MPNNPORE\n",
    "from utils.ZeoliteData import get_zeolite, get_data_pore, get_data_graph, get_data_megnet\n",
    "from utils.dataloading import get_data, get_graph_data\n",
    "\n",
    "#import tueplots \n",
    "\n",
    "from models.megnet import MEGNet\n",
    "from models.cgcnn import CGCNN\n",
    "from models.schnet import SchNet\n",
    "from models.dimenet import DimeNetPlusPlus as DimeNet"
   ]
  },
  {
   "cell_type": "code",
   "execution_count": 2,
   "id": "2c0b07e6-76a3-416a-a251-adc2c7819176",
   "metadata": {},
   "outputs": [],
   "source": [
    "import matplotlib as mpl"
   ]
  },
  {
   "cell_type": "code",
   "execution_count": 3,
   "id": "6ff58c30-008d-4638-b374-ed14dfae9ed3",
   "metadata": {},
   "outputs": [],
   "source": [
    "plt.rc('font', family='serif',)\n"
   ]
  },
  {
   "cell_type": "code",
   "execution_count": 4,
   "id": "fb7220d8-320b-4679-a4ae-32f014a675be",
   "metadata": {},
   "outputs": [],
   "source": [
    "from matplotlib import rc"
   ]
  },
  {
   "cell_type": "code",
   "execution_count": 5,
   "id": "9a7b3a46-df85-42dc-b5bf-04c4cf4f2ec0",
   "metadata": {},
   "outputs": [],
   "source": [
    "data = get_zeolite('RHO', True)\n",
    "    \n",
    "ref = data['ref'] # reflections\n",
    "tra = data['tra'] # translations\n",
    "l = data['l'] # scale of the unit cell\n",
    "\n",
    "# specific for MOR\n",
    "atoms, hoa, X, A, d, X_pore, A_pore, d_pore, pore = get_data(l, 'RHO')\n",
    "\n",
    "edges, idx1, idx2, idx2_oh = get_graph_data(A, d)\n",
    "edges_sp, idx1_sp, idx2_sp, idx2_oh_sp = get_graph_data(A_pore, d_pore)\n",
    "edges_ps, idx1_ps, idx2_ps, idx2_oh_ps = get_graph_data(A_pore.T, d_pore.T)"
   ]
  },
  {
   "cell_type": "code",
   "execution_count": 6,
   "id": "99d1e285-d1db-47c6-83a8-68d00b0ec164",
   "metadata": {},
   "outputs": [],
   "source": [
    "_, testloader, trainloader = get_data_pore(atoms, hoa, edges, pore, edges_sp, edges_ps, bs=32, random=True)\n",
    "_, testloader2, trainloader2 = get_data_graph(atoms, hoa, edges, bs=32, random=True)\n",
    "_, testloader3, trainloader3 = get_data_megnet(atoms, hoa, edges, bs=32, random=True)"
   ]
  },
  {
   "cell_type": "code",
   "execution_count": 7,
   "id": "7d0fabe0-3ea5-44e9-b918-f4c40492c82e",
   "metadata": {},
   "outputs": [],
   "source": [
    "trainX = trainloader.dataset.X.sum((1,2))[:,None].numpy()\n",
    "trainy = trainloader.dataset.y[:,None].numpy()\n",
    "testX = testloader.dataset.X.sum((1,2))[:,None].numpy()\n",
    "testy = testloader.dataset.y[:,None].numpy()"
   ]
  },
  {
   "cell_type": "code",
   "execution_count": 8,
   "id": "0c1678ff-9b63-4775-a55b-d397c6857476",
   "metadata": {},
   "outputs": [],
   "source": [
    "from sklearn.linear_model import LinearRegression as LR"
   ]
  },
  {
   "cell_type": "code",
   "execution_count": 9,
   "id": "e30695e3-91b8-40fd-a3a7-7f6780ce64d8",
   "metadata": {},
   "outputs": [
    {
     "data": {
      "text/html": [
       "<style>#sk-container-id-1 {color: black;}#sk-container-id-1 pre{padding: 0;}#sk-container-id-1 div.sk-toggleable {background-color: white;}#sk-container-id-1 label.sk-toggleable__label {cursor: pointer;display: block;width: 100%;margin-bottom: 0;padding: 0.3em;box-sizing: border-box;text-align: center;}#sk-container-id-1 label.sk-toggleable__label-arrow:before {content: \"▸\";float: left;margin-right: 0.25em;color: #696969;}#sk-container-id-1 label.sk-toggleable__label-arrow:hover:before {color: black;}#sk-container-id-1 div.sk-estimator:hover label.sk-toggleable__label-arrow:before {color: black;}#sk-container-id-1 div.sk-toggleable__content {max-height: 0;max-width: 0;overflow: hidden;text-align: left;background-color: #f0f8ff;}#sk-container-id-1 div.sk-toggleable__content pre {margin: 0.2em;color: black;border-radius: 0.25em;background-color: #f0f8ff;}#sk-container-id-1 input.sk-toggleable__control:checked~div.sk-toggleable__content {max-height: 200px;max-width: 100%;overflow: auto;}#sk-container-id-1 input.sk-toggleable__control:checked~label.sk-toggleable__label-arrow:before {content: \"▾\";}#sk-container-id-1 div.sk-estimator input.sk-toggleable__control:checked~label.sk-toggleable__label {background-color: #d4ebff;}#sk-container-id-1 div.sk-label input.sk-toggleable__control:checked~label.sk-toggleable__label {background-color: #d4ebff;}#sk-container-id-1 input.sk-hidden--visually {border: 0;clip: rect(1px 1px 1px 1px);clip: rect(1px, 1px, 1px, 1px);height: 1px;margin: -1px;overflow: hidden;padding: 0;position: absolute;width: 1px;}#sk-container-id-1 div.sk-estimator {font-family: monospace;background-color: #f0f8ff;border: 1px dotted black;border-radius: 0.25em;box-sizing: border-box;margin-bottom: 0.5em;}#sk-container-id-1 div.sk-estimator:hover {background-color: #d4ebff;}#sk-container-id-1 div.sk-parallel-item::after {content: \"\";width: 100%;border-bottom: 1px solid gray;flex-grow: 1;}#sk-container-id-1 div.sk-label:hover label.sk-toggleable__label {background-color: #d4ebff;}#sk-container-id-1 div.sk-serial::before {content: \"\";position: absolute;border-left: 1px solid gray;box-sizing: border-box;top: 0;bottom: 0;left: 50%;z-index: 0;}#sk-container-id-1 div.sk-serial {display: flex;flex-direction: column;align-items: center;background-color: white;padding-right: 0.2em;padding-left: 0.2em;position: relative;}#sk-container-id-1 div.sk-item {position: relative;z-index: 1;}#sk-container-id-1 div.sk-parallel {display: flex;align-items: stretch;justify-content: center;background-color: white;position: relative;}#sk-container-id-1 div.sk-item::before, #sk-container-id-1 div.sk-parallel-item::before {content: \"\";position: absolute;border-left: 1px solid gray;box-sizing: border-box;top: 0;bottom: 0;left: 50%;z-index: -1;}#sk-container-id-1 div.sk-parallel-item {display: flex;flex-direction: column;z-index: 1;position: relative;background-color: white;}#sk-container-id-1 div.sk-parallel-item:first-child::after {align-self: flex-end;width: 50%;}#sk-container-id-1 div.sk-parallel-item:last-child::after {align-self: flex-start;width: 50%;}#sk-container-id-1 div.sk-parallel-item:only-child::after {width: 0;}#sk-container-id-1 div.sk-dashed-wrapped {border: 1px dashed gray;margin: 0 0.4em 0.5em 0.4em;box-sizing: border-box;padding-bottom: 0.4em;background-color: white;}#sk-container-id-1 div.sk-label label {font-family: monospace;font-weight: bold;display: inline-block;line-height: 1.2em;}#sk-container-id-1 div.sk-label-container {text-align: center;}#sk-container-id-1 div.sk-container {/* jupyter's `normalize.less` sets `[hidden] { display: none; }` but bootstrap.min.css set `[hidden] { display: none !important; }` so we also need the `!important` here to be able to override the default hidden behavior on the sphinx rendered scikit-learn.org. See: https://github.com/scikit-learn/scikit-learn/issues/21755 */display: inline-block !important;position: relative;}#sk-container-id-1 div.sk-text-repr-fallback {display: none;}</style><div id=\"sk-container-id-1\" class=\"sk-top-container\"><div class=\"sk-text-repr-fallback\"><pre>LinearRegression()</pre><b>In a Jupyter environment, please rerun this cell to show the HTML representation or trust the notebook. <br />On GitHub, the HTML representation is unable to render, please try loading this page with nbviewer.org.</b></div><div class=\"sk-container\" hidden><div class=\"sk-item\"><div class=\"sk-estimator sk-toggleable\"><input class=\"sk-toggleable__control sk-hidden--visually\" id=\"sk-estimator-id-1\" type=\"checkbox\" checked><label for=\"sk-estimator-id-1\" class=\"sk-toggleable__label sk-toggleable__label-arrow\">LinearRegression</label><div class=\"sk-toggleable__content\"><pre>LinearRegression()</pre></div></div></div></div></div>"
      ],
      "text/plain": [
       "LinearRegression()"
      ]
     },
     "execution_count": 9,
     "metadata": {},
     "output_type": "execute_result"
    }
   ],
   "source": [
    "lr = LR()\n",
    "lr.fit(trainX, trainy)"
   ]
  },
  {
   "cell_type": "code",
   "execution_count": 10,
   "id": "4fbb26f2-3c57-413f-b4c4-785253da8d9a",
   "metadata": {},
   "outputs": [],
   "source": [
    "yhat = lr.predict(testX)"
   ]
  },
  {
   "cell_type": "code",
   "execution_count": 11,
   "id": "b40b646f-734e-4682-b43f-7b87be6bbfd9",
   "metadata": {},
   "outputs": [
    {
     "data": {
      "text/plain": [
       "((122, 1), (122, 1))"
      ]
     },
     "execution_count": 11,
     "metadata": {},
     "output_type": "execute_result"
    }
   ],
   "source": [
    "yhat.shape, testy.shape"
   ]
  },
  {
   "cell_type": "code",
   "execution_count": 12,
   "id": "bb7bc0e6-217d-4bb3-b43f-c52e5ce17a14",
   "metadata": {},
   "outputs": [],
   "source": [
    "lr_mse, lr_mae = np.mean((testy - yhat)**2), np.mean(np.abs(testy - yhat))"
   ]
  },
  {
   "cell_type": "code",
   "execution_count": 13,
   "id": "e46e64d1-5f63-4d8d-b4f7-6b334abb33dd",
   "metadata": {},
   "outputs": [
    {
     "data": {
      "text/plain": [
       "(2.5148465284277153, 1.2432516166796264)"
      ]
     },
     "execution_count": 13,
     "metadata": {},
     "output_type": "execute_result"
    }
   ],
   "source": [
    "lr_mse, lr_mae"
   ]
  },
  {
   "cell_type": "code",
   "execution_count": 15,
   "id": "0359b780-9dbf-4952-8ec7-978bfd7a3673",
   "metadata": {},
   "outputs": [
    {
     "data": {
      "text/plain": [
       "(17.526, 39.5594)"
      ]
     },
     "execution_count": 15,
     "metadata": {},
     "output_type": "execute_result"
    }
   ],
   "source": [
    "hoa.min(), hoa.max()"
   ]
  },
  {
   "cell_type": "code",
   "execution_count": 14,
   "id": "47419a91-fc9a-4744-a300-d0d733c24c1e",
   "metadata": {},
   "outputs": [],
   "source": [
    "title_size=7.5\n",
    "label_size=7"
   ]
  },
  {
   "cell_type": "code",
   "execution_count": 18,
   "id": "fea42040-dc95-4d30-ab01-2ac836b207fa",
   "metadata": {},
   "outputs": [
    {
     "data": {
      "image/png": "[encoded data removed]",
      "text/plain": [
       "<Figure size 225x175 with 1 Axes>"
      ]
     },
     "metadata": {},
     "output_type": "display_data"
    }
   ],
   "source": [
    "plt.figure(figsize=(2.25,1.75))\n",
    "plt.hist(hoa, bins=np.arange(15,41,1))\n",
    "plt.xlabel('CO$_2$ heat of adsorption (kJ/mol)', fontsize=label_size)\n",
    "plt.ylabel('Count', fontsize=label_size)\n",
    "plt.xticks(fontsize=6)\n",
    "plt.yticks(fontsize=6, rotation='vertical')\n",
    "plt.title('HoA distribution for ITW dataset', fontsize=title_size)\n",
    "plt.xlim(20,40)\n",
    "plt.savefig('figures/datadist_rho.pdf', dpi=1200, bbox_inches=\"tight\")\n",
    "tikzz = plt.xticks()[0]"
   ]
  },
  {
   "cell_type": "code",
   "execution_count": 19,
   "id": "1f214754-f4d4-45df-9832-a1142a9d2824",
   "metadata": {},
   "outputs": [
    {
     "data": {
      "text/plain": [
       "array([ 0,  1,  2,  3,  4,  5,  6,  7,  8,  9, 10, 11, 12])"
      ]
     },
     "execution_count": 19,
     "metadata": {},
     "output_type": "execute_result"
    }
   ],
   "source": [
    "uniq = np.unique(atoms.sum(1))\n",
    "uniq"
   ]
  },
  {
   "cell_type": "code",
   "execution_count": 20,
   "id": "f7b4bf14-7c93-4e76-bc9b-be98df6f4a40",
   "metadata": {},
   "outputs": [],
   "source": [
    "hoa_x = np.tile(np.linspace(15,41,27)[:,None], (1,12))\n",
    "hoa_y = np.tile(np.arange(0,12,1)[None], (hoa_x.shape[0],1))\n"
   ]
  },
  {
   "cell_type": "code",
   "execution_count": 21,
   "id": "0e4ff3a9-f339-4d99-ae40-25b92e026296",
   "metadata": {},
   "outputs": [
    {
     "data": {
      "text/plain": [
       "(27, 12)"
      ]
     },
     "execution_count": 21,
     "metadata": {},
     "output_type": "execute_result"
    }
   ],
   "source": [
    "hoa_x.shape"
   ]
  },
  {
   "cell_type": "code",
   "execution_count": 22,
   "id": "ec2daf83-a462-453b-b86a-01845571e31e",
   "metadata": {},
   "outputs": [],
   "source": [
    "zi = np.zeros((len(hoa_x),12))\n",
    "\n",
    "for i in range(len(atoms)):\n",
    "    \n",
    "    curr_h = hoa[i]\n",
    "    \n",
    "    n_als = atoms[i].sum() -1\n",
    "    if n_als == -1:\n",
    "        n_als = 0\n",
    "\n",
    "    for _x in range(len(hoa_x)):\n",
    "        if hoa_x[_x, n_als] < curr_h <= hoa_x[_x+1, n_als]:\n",
    "            zi[_x, n_als] += 1"
   ]
  },
  {
   "cell_type": "code",
   "execution_count": 23,
   "id": "9af2d1a7-77b0-4aa1-b2f2-424cb8f553ff",
   "metadata": {},
   "outputs": [
    {
     "data": {
      "text/plain": [
       "array([2, 2, 4, 7, 6, 8, 8, 9, 8, 6, 7, 9])"
      ]
     },
     "execution_count": 23,
     "metadata": {},
     "output_type": "execute_result"
    }
   ],
   "source": [
    "sum(zi > 0)"
   ]
  },
  {
   "cell_type": "code",
   "execution_count": 24,
   "id": "a7947391-72e8-49bc-8a97-b607da3529a0",
   "metadata": {},
   "outputs": [],
   "source": [
    "zi = zi/zi.sum(0)[None]"
   ]
  },
  {
   "cell_type": "code",
   "execution_count": 61,
   "id": "10b54fb1-adc0-40ee-adc5-46729820e45f",
   "metadata": {},
   "outputs": [
    {
     "data": {
      "text/plain": [
       "array([ 1,  2,  3,  4,  5,  6,  8, 10, 12])"
      ]
     },
     "execution_count": 61,
     "metadata": {},
     "output_type": "execute_result"
    }
   ],
   "source": [
    "uniq"
   ]
  },
  {
   "cell_type": "code",
   "execution_count": 26,
   "id": "0c99e7a8-f619-49b3-a86a-6abe6a9f0f0e",
   "metadata": {},
   "outputs": [
    {
     "data": {
      "image/png": "[encoded data removed]",
      "text/plain": [
       "<Figure size 225x175 with 2 Axes>"
      ]
     },
     "metadata": {},
     "output_type": "display_data"
    }
   ],
   "source": [
    "fig, ax = plt.subplots(figsize=(2.25,1.75))\n",
    "CS = plt.pcolormesh(hoa_x, hoa_y, zi,\n",
    "                  vmax=zi.max(), vmin=0, cmap='Blues')\n",
    "\n",
    "plt.xlabel(f\"CO$_2$ heat of adsorption (kJ/mol)\", fontsize=label_size)\n",
    "plt.ylabel(f\"Amount of Al atoms\", fontsize=label_size)\n",
    "plt.title(\"HoA distribution per Al atoms\", fontsize=title_size)\n",
    "cbar = plt.colorbar()\n",
    "plt.yticks(np.arange(0.,12,1), ['0/1',2,3,4,5,6,7,8,9,10,11,12], fontsize=6, rotation='horizontal')\n",
    "plt.xticks(tikzz)\n",
    "plt.xticks(fontsize=6)\n",
    "plt.xlim(15,40)\n",
    "plt.ylim(-0.5,11.5)\n",
    "cbar.ax.tick_params(labelsize=6, rotation=270,pad=0)\n",
    "cbar.ax.get_yaxis().labelpad = 8\n",
    "cbar.ax.yaxis.set_major_formatter(tick.FormatStrFormatter('%.1f'))\n",
    "cbar.set_label('Proportion', rotation=270, fontsize=label_size)\n",
    "plt.savefig('figures/aldist_rho.pdf', dpi=1200, bbox_inches=\"tight\")"
   ]
  },
  {
   "cell_type": "code",
   "execution_count": 27,
   "id": "4b332147-9e5c-4724-beb7-33869abafeaa",
   "metadata": {},
   "outputs": [
    {
     "data": {
      "text/plain": [
       "((27, 12), (27, 12), (27, 12))"
      ]
     },
     "execution_count": 27,
     "metadata": {},
     "output_type": "execute_result"
    }
   ],
   "source": [
    "hoa_x.shape, hoa_y.shape, zi.shape"
   ]
  },
  {
   "cell_type": "code",
   "execution_count": 28,
   "id": "63460339-6aae-44b2-81c3-a2d339a158c7",
   "metadata": {},
   "outputs": [],
   "source": [
    "mpnn = MPNNPORE(idx1.to('cuda'), idx2.to('cuda'), idx2_oh.to('cuda'), X, X_pore, ref, tra,\n",
    "                    idx1_sp.to('cuda'), idx2_sp.to('cuda'), idx2_oh_sp.to('cuda'), \n",
    "                    idx1_ps.to('cuda'), idx2_ps.to('cuda'), idx2_oh_ps.to('cuda'),\n",
    "                    hid_size=[8]*6, site_emb_size=8, edge_emb_size=8, mlp_size=24,\n",
    "                    centers=10, mx_d=6, width=1, pool='sum', pool_pore=True).to('cuda')"
   ]
  },
  {
   "cell_type": "code",
   "execution_count": 29,
   "id": "0749c5ec-1880-4bc6-8743-5177aa36d57f",
   "metadata": {},
   "outputs": [],
   "source": [
    "def get_95_CI(x):\n",
    "    \n",
    "    ci = 1.96*np.std(x)/np.sqrt(len(x))\n",
    "    return ci"
   ]
  },
  {
   "cell_type": "code",
   "execution_count": 30,
   "id": "910f3219-dc8f-49f6-a927-b30b1cc28dc3",
   "metadata": {},
   "outputs": [
    {
     "name": "stderr",
     "output_type": "stream",
     "text": [
      "100%|██████████████████████████████████████████████████████████████████████████████████| 10/10 [00:05<00:00,  1.97it/s]\n"
     ]
    }
   ],
   "source": [
    "_mae_p = []\n",
    "_mse_p = []\n",
    "    \n",
    "for j in tqdm(range(1,11)):\n",
    "\n",
    "    mpnn.load_state_dict(torch.load(f'model_data_random/RHO/1.0/pore/model_{j}/model.pth'))\n",
    "    y_pred, y_true = mpnn.predict(testloader)\n",
    "\n",
    "    _mse = ((y_pred - y_true)**2).mean().item()\n",
    "    _mae = (y_pred - y_true).abs().mean().item()\n",
    "\n",
    "    _mae_p.append(_mae)\n",
    "    _mse_p.append(_mse)\n",
    "\n",
    "\n",
    "mae_p=(np.mean(_mae_p))\n",
    "mse_p=(np.mean(_mse_p))\n",
    "\n",
    "\n",
    "mae_p_ci=(get_95_CI(_mae_p))\n",
    "mse_p_ci=(get_95_CI(_mse_p))\n"
   ]
  },
  {
   "cell_type": "code",
   "execution_count": 31,
   "id": "c5ef8b2b-def1-403c-bef2-877238b11c6f",
   "metadata": {},
   "outputs": [
    {
     "data": {
      "text/plain": [
       "(4.761098194122314, 29.122571802139284, 1.3935917828618183, 16.32408267389537)"
      ]
     },
     "execution_count": 31,
     "metadata": {},
     "output_type": "execute_result"
    }
   ],
   "source": [
    "mae_p, mse_p, mae_p_ci, mse_p_ci"
   ]
  },
  {
   "cell_type": "code",
   "execution_count": 32,
   "id": "a6e7d2fc-4af0-4203-97bc-2047ec2bb01c",
   "metadata": {},
   "outputs": [],
   "source": [
    "best_idx = np.argmin(_mae_p)\n",
    "mpnn.load_state_dict(torch.load(f'model_data_random/RHO/1.0/pore/model_{best_idx+1}/model.pth'))\n",
    "y_pred, y_true = mpnn.predict(testloader)"
   ]
  },
  {
   "cell_type": "code",
   "execution_count": 33,
   "id": "48f2ee40-4ce0-4080-8b36-a57d5f4d7da1",
   "metadata": {},
   "outputs": [],
   "source": [
    "from scipy.interpolate import griddata"
   ]
  },
  {
   "cell_type": "code",
   "execution_count": 34,
   "id": "b1a66634-c794-4e8c-8cb2-845c30c1cf1b",
   "metadata": {},
   "outputs": [
    {
     "data": {
      "text/plain": [
       "(tensor(20.3020), tensor(32.5014), tensor(22.3559), tensor(36.6065))"
      ]
     },
     "execution_count": 34,
     "metadata": {},
     "output_type": "execute_result"
    }
   ],
   "source": [
    "y_pred.min(), y_pred.max(), y_true.min(), y_true.max()"
   ]
  },
  {
   "cell_type": "code",
   "execution_count": 35,
   "id": "f9da6dd8-182a-47d7-a5dc-d012cd94daba",
   "metadata": {},
   "outputs": [],
   "source": [
    "Z = torch.ones_like(y_pred)"
   ]
  },
  {
   "cell_type": "code",
   "execution_count": 36,
   "id": "a821a4bc-71aa-4710-b522-289eae3844b1",
   "metadata": {},
   "outputs": [],
   "source": [
    "nn = 60\n",
    "xmin = 20\n",
    "xmax = 37\n",
    "xi = np.linspace(xmin, xmax, nn)\n",
    "yi = np.linspace(xmin, xmax, nn)"
   ]
  },
  {
   "cell_type": "code",
   "execution_count": 37,
   "id": "5cbb4cdf-d733-479f-9823-fba8f5786d32",
   "metadata": {},
   "outputs": [],
   "source": [
    "#xi.shape, yi.shape, xi, yi"
   ]
  },
  {
   "cell_type": "code",
   "execution_count": 38,
   "id": "701adc9b-c415-4b5e-a60f-2ef721f3b177",
   "metadata": {},
   "outputs": [],
   "source": [
    "zi = np.zeros((nn,nn))\n",
    "\n",
    "for i in range(len(y_pred)):\n",
    "    \n",
    "    curr_p = y_pred[i].item()\n",
    "    curr_t = y_true[i].item()\n",
    "    \n",
    "    for _x in range(0,nn-1):\n",
    "        \n",
    "        if xi[_x] < curr_p <= xi[_x+1]:\n",
    "            \n",
    "            for _y in range(0,nn-1):\n",
    "                \n",
    "                if yi[_y] < curr_t <= xi[_y+1]:\n",
    "                    \n",
    "                    zi[_x,_y] += 1"
   ]
  },
  {
   "cell_type": "code",
   "execution_count": 39,
   "id": "554bb8f6-f026-475a-b1be-74eb3d4cd544",
   "metadata": {},
   "outputs": [],
   "source": [
    "n_colors = int(zi.max())"
   ]
  },
  {
   "cell_type": "code",
   "execution_count": 40,
   "id": "29bd91db-c620-49fe-94f3-bd097c376a33",
   "metadata": {},
   "outputs": [
    {
     "name": "stderr",
     "output_type": "stream",
     "text": [
      "C:\\Users\\20175552\\AppData\\Local\\Temp\\ipykernel_24200\\4064518472.py:2: MatplotlibDeprecationWarning: The get_cmap function was deprecated in Matplotlib 3.7 and will be removed two minor releases later. Use ``matplotlib.colormaps[name]`` or ``matplotlib.colormaps.get_cmap(obj)`` instead.\n",
      "  cmap = plt.cm.get_cmap('Blues', n_colors+1)\n"
     ]
    },
    {
     "data": {
      "image/png": "[encoded data removed]",
      "text/plain": [
       "<Figure size 225x175 with 2 Axes>"
      ]
     },
     "metadata": {},
     "output_type": "display_data"
    }
   ],
   "source": [
    "fig, ax = plt.subplots(figsize=(2.25,1.75))\n",
    "cmap = plt.cm.get_cmap('Blues', n_colors+1)\n",
    "CS = plt.pcolormesh(xi, yi, zi,\n",
    "                  vmax=zi.max(), vmin=0, cmap=cmap)\n",
    "plt.xlabel(f\"True CO$_2$ HoA (kJ/mol)\", fontsize=label_size)\n",
    "plt.ylabel(f\"Pred. CO$_2$ HoA (kJ/mol)\", fontsize=label_size)\n",
    "plt.title(\"Model performance on testing set\", fontsize=title_size)\n",
    "ax.plot(ax.get_xlim(), ax.get_ylim(), ls=\"--\", c=\".5\", lw=.5)\n",
    "cbar = plt.colorbar()\n",
    "cbar.ax.get_yaxis().labelpad = 12\n",
    "cbar.set_label('Count', rotation=270, fontsize=label_size)\n",
    "cbar.ax.get_yaxis().set_ticks(np.arange(n_colors/(2*(n_colors+1)), n_colors, n_colors/(n_colors+1)), np.arange(n_colors+1) )\n",
    "cbar.ax.tick_params(labelsize=6)\n",
    "plt.xticks(plt.yticks()[0])\n",
    "plt.xticks(fontsize=6)\n",
    "plt.yticks(fontsize=6)\n",
    "plt.xlim(xmin,xmax)\n",
    "plt.ylim(xmin,xmax)\n",
    "\n",
    "#plt.savefig('figures/truepred.svg', dpi=1200, bbox_inches=\"tight\")\n",
    "plt.savefig('figures/truepred_itw.pdf', dpi=1200, bbox_inches=\"tight\")"
   ]
  },
  {
   "cell_type": "code",
   "execution_count": null,
   "id": "b9c04017-7ee5-40a1-8371-a934eed1018a",
   "metadata": {},
   "outputs": [],
   "source": []
  }
 ],
 "metadata": {
  "kernelspec": {
   "display_name": "Python 3 (ipykernel)",
   "language": "python",
   "name": "python3"
  },
  "language_info": {
   "codemirror_mode": {
    "name": "ipython",
    "version": 3
   },
   "file_extension": ".py",
   "mimetype": "text/x-python",
   "name": "python",
   "nbconvert_exporter": "python",
   "pygments_lexer": "ipython3",
   "version": "3.10.12"
  }
 },
 "nbformat": 4,
 "nbformat_minor": 5
}
