{
 "cells": [
  {
   "cell_type": "code",
   "execution_count": 2,
   "id": "f3efd022-431e-4c99-9062-f61ef85fa695",
   "metadata": {},
   "outputs": [],
   "source": [
    "import os\n",
    "import sys\n",
    "sys.path.append(os.getcwd())\n",
    "sys.path.insert(0, \"../zeolite-property-prediction/code/\")\n",
    "sys.path.insert(0, \"../zeolite-property-prediction/\")\n",
    "\n",
    "\n",
    "import numpy as np\n",
    "import pandas as pd\n",
    "import torch\n",
    "import torch.nn as nn\n",
    "import torch.nn.functional as F\n",
    "\n",
    "import torch.optim as optim\n",
    "\n",
    "import matplotlib.pyplot as plt\n",
    "import matplotlib.ticker as tick\n",
    "\n",
    "from tqdm import tqdm\n",
    "from sklearn.metrics import r2_score\n",
    "from pygad import GA\n",
    "\n",
    "from models.equivariant_mpnn import MPNNPORE\n",
    "from utils.ZeoliteData import get_zeolite, get_data_pore, get_data_graph, get_data_megnet\n",
    "from utils.dataloading import get_data, get_graph_data"
   ]
  },
  {
   "cell_type": "code",
   "execution_count": 3,
   "id": "2c0b07e6-76a3-416a-a251-adc2c7819176",
   "metadata": {},
   "outputs": [],
   "source": [
    "import matplotlib as mpl"
   ]
  },
  {
   "cell_type": "code",
   "execution_count": 4,
   "id": "6ff58c30-008d-4638-b374-ed14dfae9ed3",
   "metadata": {},
   "outputs": [],
   "source": [
    "plt.rc('font', family='serif',)"
   ]
  },
  {
   "cell_type": "code",
   "execution_count": 5,
   "id": "fb7220d8-320b-4679-a4ae-32f014a675be",
   "metadata": {},
   "outputs": [],
   "source": [
    "from matplotlib import rc"
   ]
  },
  {
   "cell_type": "code",
   "execution_count": 6,
   "id": "9a7b3a46-df85-42dc-b5bf-04c4cf4f2ec0",
   "metadata": {},
   "outputs": [],
   "source": [
    "data = get_zeolite('MFI', True)\n",
    "    \n",
    "ref = data['ref'] # reflections\n",
    "tra = data['tra'] # translations\n",
    "l = data['l'] # scale of the unit cell\n",
    "\n",
    "# specific for MOR\n",
    "atoms, hoa, X, A, d, X_pore, A_pore, d_pore, pore = get_data(l, 'MFI')\n",
    "\n",
    "edges, idx1, idx2, idx2_oh = get_graph_data(A, d)\n",
    "edges_sp, idx1_sp, idx2_sp, idx2_oh_sp = get_graph_data(A_pore, d_pore)\n",
    "edges_ps, idx1_ps, idx2_ps, idx2_oh_ps = get_graph_data(A_pore.T, d_pore.T)"
   ]
  },
  {
   "cell_type": "code",
   "execution_count": 7,
   "id": "99d1e285-d1db-47c6-83a8-68d00b0ec164",
   "metadata": {},
   "outputs": [],
   "source": [
    "_, testloader, trainloader = get_data_pore(atoms, hoa, edges, pore, edges_sp, edges_ps, bs=32, random=True)"
   ]
  },
  {
   "cell_type": "code",
   "execution_count": 8,
   "id": "e46e64d1-5f63-4d8d-b4f7-6b334abb33dd",
   "metadata": {},
   "outputs": [
    {
     "data": {
      "text/plain": [
       "3296"
      ]
     },
     "execution_count": 8,
     "metadata": {},
     "output_type": "execute_result"
    }
   ],
   "source": [
    "atoms.shape[0]"
   ]
  },
  {
   "cell_type": "code",
   "execution_count": 9,
   "id": "47419a91-fc9a-4744-a300-d0d733c24c1e",
   "metadata": {},
   "outputs": [],
   "source": [
    "title_size=7.5\n",
    "label_size=7"
   ]
  },
  {
   "cell_type": "code",
   "execution_count": 10,
   "id": "63460339-6aae-44b2-81c3-a2d339a158c7",
   "metadata": {},
   "outputs": [],
   "source": [
    "mpnn = MPNNPORE(idx1.to('cuda'), idx2.to('cuda'), idx2_oh.to('cuda'), X, X_pore, ref, tra,\n",
    "                    idx1_sp.to('cuda'), idx2_sp.to('cuda'), idx2_oh_sp.to('cuda'), \n",
    "                    idx1_ps.to('cuda'), idx2_ps.to('cuda'), idx2_oh_ps.to('cuda'),\n",
    "                    hid_size=[8]*6, site_emb_size=8, edge_emb_size=8, mlp_size=24,\n",
    "                    centers=10, mx_d=6, width=1, pool='sum', pool_pore=True, out_size=2).to('cuda')\n",
    "\n",
    "mpnn2 = MPNNPORE(idx1.to('cuda'), idx2.to('cuda'), idx2_oh.to('cuda'), X, X_pore, ref, tra,\n",
    "                    idx1_sp.to('cuda'), idx2_sp.to('cuda'), idx2_oh_sp.to('cuda'), \n",
    "                    idx1_ps.to('cuda'), idx2_ps.to('cuda'), idx2_oh_ps.to('cuda'),\n",
    "                    hid_size=[8]*6, site_emb_size=8, edge_emb_size=8, mlp_size=24,\n",
    "                    centers=10, mx_d=6, width=1, pool='sum', pool_pore=True, site_pred=True, out_size=2).to('cuda')"
   ]
  },
  {
   "cell_type": "code",
   "execution_count": 11,
   "id": "0749c5ec-1880-4bc6-8743-5177aa36d57f",
   "metadata": {},
   "outputs": [],
   "source": [
    "def get_95_CI(x):\n",
    "    \n",
    "    ci = 1.96*np.std(x)/np.sqrt(len(x))\n",
    "    return ci"
   ]
  },
  {
   "cell_type": "code",
   "execution_count": null,
   "id": "f8d5f680-deaf-4516-ae04-24348c9de57d",
   "metadata": {},
   "outputs": [],
   "source": []
  },
  {
   "cell_type": "code",
   "execution_count": 12,
   "id": "910f3219-dc8f-49f6-a927-b30b1cc28dc3",
   "metadata": {},
   "outputs": [
    {
     "name": "stderr",
     "output_type": "stream",
     "text": [
      "100%|██████████████████████████████████████████████████████████████████████████████████| 10/10 [01:41<00:00, 10.15s/it]\n"
     ]
    }
   ],
   "source": [
    "_mae_p_hoa = []\n",
    "_mae_p_henry = []\n",
    "_mse_p_hoa = []\n",
    "_mse_p_henry = []\n",
    "_r2_p_hoa = []\n",
    "_r2_p_henry = []\n",
    "\n",
    "\n",
    "_mae_p2_hoa = []\n",
    "_mse_p2_hoa = []\n",
    "_mae_p2_henry = []\n",
    "_mse_p2_henry = []\n",
    "_r2_p2_hoa = []\n",
    "_r2_p2_henry = []\n",
    "    \n",
    "for j in tqdm(range(1,11)):\n",
    "\n",
    "    mpnn.load_state_dict(torch.load(f'model_data_random/MFI/1.0/pore/model_{j}/model.pth'))\n",
    "    y_pred, y_true = mpnn.predict(testloader)\n",
    "    y_true[:,1] = torch.log10(y_true[:,1])\n",
    "\n",
    "    _mse = ((y_pred - y_true)**2)#.mean().item()\n",
    "    _mae = (y_pred - y_true).abs()#.mean().item()\n",
    "\n",
    "    _r2_hoa = r2_score(y_true[:,0].numpy(), y_pred[:,0].numpy())\n",
    "    _r2_henry = r2_score(y_true[:,1].numpy(), y_pred[:,1].numpy())\n",
    "\n",
    "    _mae_hoa = _mae[:,0].mean().item()\n",
    "    _mae_henry = _mae[:,1].mean().item()\n",
    "    _mse_hoa = _mse[:,0].mean().item()\n",
    "    _mse_henry = _mse[:,1].mean().item()\n",
    "    \n",
    "    _mae_p_hoa.append(_mae_hoa)\n",
    "    _mae_p_henry.append(_mae_henry)\n",
    "    _mse_p_hoa.append(_mse_hoa)\n",
    "    _mse_p_henry.append(_mse_henry)\n",
    "    _r2_p_hoa.append(_r2_hoa)\n",
    "    _r2_p_henry.append(_r2_henry)\n",
    "\n",
    "    mpnn2.load_state_dict(torch.load(f'model_data_random2/MFI/1.0/pore/model_{j}/model.pth'))\n",
    "    y_pred, y_true = mpnn2.predict(testloader)\n",
    "    y_true[:,1] = torch.log10(y_true[:,1])\n",
    "    \n",
    "    _mse = ((y_pred - y_true)**2)#.mean().item()\n",
    "    _mae = (y_pred - y_true).abs()#.mean().item()\n",
    "\n",
    "\n",
    "    _r2_hoa = r2_score(y_true[:,0].numpy(), y_pred[:,0].numpy())\n",
    "    _r2_henry = r2_score(y_true[:,1].numpy(), y_pred[:,1].numpy())\n",
    "\n",
    "    _mae_hoa = _mae[:,0].mean().item()\n",
    "    _mae_henry = _mae[:,1].mean().item()\n",
    "    _mse_hoa = _mse[:,0].mean().item()\n",
    "    _mse_henry = _mse[:,1].mean().item()\n",
    "    \n",
    "    \n",
    "    _mae_p2_hoa.append(_mae_hoa)\n",
    "    _mae_p2_henry.append(_mae_henry)\n",
    "    _mse_p2_hoa.append(_mse_hoa)\n",
    "    _mse_p2_henry.append(_mse_henry)\n",
    "    _r2_p2_hoa.append(_r2_hoa)\n",
    "    _r2_p2_henry.append(_r2_henry)\n",
    "\n",
    "mae_p_hoa  = np.mean(_mae_p_hoa)\n",
    "mse_p_hoa = np.mean(_mse_p_hoa)\n",
    "r2_p_hoa = np.mean(_r2_p_hoa)\n",
    "mae_p2_hoa  = np.mean(_mae_p2_hoa)\n",
    "mse_p2_hoa = np.mean(_mse_p2_hoa)\n",
    "r2_p2_hoa = np.mean(_r2_p2_hoa)\n",
    "\n",
    "mae_p_henry  = np.mean(_mae_p_henry)\n",
    "mse_p_henry = np.mean(_mse_p_henry)\n",
    "r2_p_henry = np.mean(_r2_p_henry)\n",
    "mae_p2_henry  = np.mean(_mae_p2_henry)\n",
    "mse_p2_henry = np.mean(_mse_p2_henry)\n",
    "r2_p2_henry = np.mean(_r2_p2_henry)"
   ]
  },
  {
   "cell_type": "code",
   "execution_count": 13,
   "id": "13a503d1-f6f2-49f7-b22c-fcbeb7ff570b",
   "metadata": {},
   "outputs": [],
   "source": [
    "maes = [_mae_p_hoa, _mae_p2_hoa, _mae_p_henry, _mae_p2_henry]\n",
    "mses = [_mse_p_hoa, _mse_p2_hoa, _mse_p_henry, _mse_p2_henry]\n",
    "r2s = [_r2_p_hoa, _r2_p2_hoa, _r2_p_henry, _r2_p2_henry]"
   ]
  },
  {
   "cell_type": "code",
   "execution_count": 14,
   "id": "9dbbe70f-e4b3-4e64-91ef-d8043b228fca",
   "metadata": {},
   "outputs": [],
   "source": [
    "df = pd.DataFrame(columns = ['MAE','MSE','R2'], index=['EPCN (hoa)','Ours (hoa)','EPCN (henry)', 'Ours (henry)'])\n",
    "for i in range(len(df.index)):\n",
    "\n",
    "    mu_a = np.mean(maes[i]).round(2)\n",
    "    mu_s = np.mean(mses[i]).round(2)\n",
    "    mu_r = np.mean(r2s[i]).round(2)\n",
    "    \n",
    "    ci_a = get_95_CI(maes[i]).round(2)\n",
    "    ci_s = get_95_CI(mses[i]).round(2)\n",
    "    ci_r = get_95_CI(r2s[i]).round(2)\n",
    "    \n",
    "    a = fr'{mu_a} $$\\pm$$ {ci_a}'\n",
    "    s = fr'{mu_s} $$\\pm$$ {ci_s}'\n",
    "    r = fr'{mu_r} $$\\pm$$ {ci_r}'\n",
    "    \n",
    "    df.loc[df.index[i]] = [a,s,r]"
   ]
  },
  {
   "cell_type": "code",
   "execution_count": 15,
   "id": "d87c27ab-dec2-42bd-962c-390fc87219b1",
   "metadata": {},
   "outputs": [
    {
     "data": {
      "text/html": [
       "<div>\n",
       "<style scoped>\n",
       "    .dataframe tbody tr th:only-of-type {\n",
       "        vertical-align: middle;\n",
       "    }\n",
       "\n",
       "    .dataframe tbody tr th {\n",
       "        vertical-align: top;\n",
       "    }\n",
       "\n",
       "    .dataframe thead th {\n",
       "        text-align: right;\n",
       "    }\n",
       "</style>\n",
       "<table border=\"1\" class=\"dataframe\">\n",
       "  <thead>\n",
       "    <tr style=\"text-align: right;\">\n",
       "      <th></th>\n",
       "      <th>MAE</th>\n",
       "      <th>MSE</th>\n",
       "      <th>R2</th>\n",
       "    </tr>\n",
       "  </thead>\n",
       "  <tbody>\n",
       "    <tr>\n",
       "      <th>EPCN (hoa)</th>\n",
       "      <td>2.0 $$\\pm$$ 0.04</td>\n",
       "      <td>8.76 $$\\pm$$ 0.31</td>\n",
       "      <td>0.83 $$\\pm$$ 0.01</td>\n",
       "    </tr>\n",
       "    <tr>\n",
       "      <th>Ours (hoa)</th>\n",
       "      <td>2.06 $$\\pm$$ 0.04</td>\n",
       "      <td>9.52 $$\\pm$$ 0.43</td>\n",
       "      <td>0.81 $$\\pm$$ 0.01</td>\n",
       "    </tr>\n",
       "    <tr>\n",
       "      <th>EPCN (henry)</th>\n",
       "      <td>0.16 $$\\pm$$ 0.01</td>\n",
       "      <td>0.05 $$\\pm$$ 0.01</td>\n",
       "      <td>0.88 $$\\pm$$ 0.02</td>\n",
       "    </tr>\n",
       "    <tr>\n",
       "      <th>Ours (henry)</th>\n",
       "      <td>0.16 $$\\pm$$ 0.02</td>\n",
       "      <td>0.05 $$\\pm$$ 0.01</td>\n",
       "      <td>0.87 $$\\pm$$ 0.02</td>\n",
       "    </tr>\n",
       "  </tbody>\n",
       "</table>\n",
       "</div>"
      ],
      "text/plain": [
       "                            MAE                MSE                 R2\n",
       "EPCN (hoa)     2.0 $$\\pm$$ 0.04  8.76 $$\\pm$$ 0.31  0.83 $$\\pm$$ 0.01\n",
       "Ours (hoa)    2.06 $$\\pm$$ 0.04  9.52 $$\\pm$$ 0.43  0.81 $$\\pm$$ 0.01\n",
       "EPCN (henry)  0.16 $$\\pm$$ 0.01  0.05 $$\\pm$$ 0.01  0.88 $$\\pm$$ 0.02\n",
       "Ours (henry)  0.16 $$\\pm$$ 0.02  0.05 $$\\pm$$ 0.01  0.87 $$\\pm$$ 0.02"
      ]
     },
     "execution_count": 15,
     "metadata": {},
     "output_type": "execute_result"
    }
   ],
   "source": [
    "df"
   ]
  },
  {
   "cell_type": "code",
   "execution_count": 16,
   "id": "a6e7d2fc-4af0-4203-97bc-2047ec2bb01c",
   "metadata": {},
   "outputs": [],
   "source": [
    "best_idx = np.argmin(_mae_p2_hoa)\n",
    "mpnn2.load_state_dict(torch.load(f'model_data_random2/MFI/1.0/pore/model_{best_idx+1}/model.pth'))\n",
    "y_pred, y_true = mpnn2.predict(testloader)\n",
    "y_pred = y_pred.numpy()\n",
    "y_true = y_true.numpy()\n",
    "y_true[:,1] = np.log10(y_true[:,1])"
   ]
  },
  {
   "cell_type": "code",
   "execution_count": 17,
   "id": "ef6024e9-bae4-421c-8bb2-02261214a4fe",
   "metadata": {},
   "outputs": [],
   "source": [
    "np.save('pred_mfi.npy', y_pred)"
   ]
  },
  {
   "cell_type": "code",
   "execution_count": 18,
   "id": "9e1ed8d4-823a-4878-a800-5d09ad4f6fa0",
   "metadata": {},
   "outputs": [],
   "source": [
    "np.save('true_mfi.npy', y_true)"
   ]
  },
  {
   "cell_type": "code",
   "execution_count": 19,
   "id": "04f04f55-f043-4f05-8ca1-6f713262cb3b",
   "metadata": {},
   "outputs": [],
   "source": [
    "np.save('ats_mfi.npy',testloader.dataset.X.numpy())"
   ]
  },
  {
   "cell_type": "code",
   "execution_count": 20,
   "id": "48f2ee40-4ce0-4080-8b36-a57d5f4d7da1",
   "metadata": {},
   "outputs": [],
   "source": [
    "from scipy.interpolate import griddata\n",
    "from scipy.stats import gaussian_kde"
   ]
  },
  {
   "cell_type": "code",
   "execution_count": 21,
   "id": "463cce5b-5536-4d8c-9444-65f9144aa884",
   "metadata": {},
   "outputs": [],
   "source": [
    "_X = X[X[:,1]>0.75]\n",
    "\n",
    "color = np.zeros((_X.shape[0],))\n",
    "for i in range(len(_X)):\n",
    "\n",
    "    yy = False\n",
    "    for j in range(12):\n",
    "        \n",
    "        for k in range(ref.shape[0]):\n",
    "            \n",
    "            if np.abs(_X[i] - (np.mod(ref[k]*X[j] + tra[k], 1))).sum() < 0.01:\n",
    "            # if (X[i] == (np.mod(ref[k]*X[j] + tra[k], 1))).all():\n",
    "                \n",
    "                color[i] = j\n",
    "                yy = True  \n",
    "                break\n",
    "\n",
    "    if yy is not True:\n",
    "        color[i] = -1\n"
   ]
  },
  {
   "cell_type": "code",
   "execution_count": 22,
   "id": "130707a1-9454-4faa-a523-2091eb760af3",
   "metadata": {},
   "outputs": [],
   "source": [
    "color2 = np.zeros((X_pore.shape[0]-2,))\n",
    "for i in range(len(X_pore)-2):\n",
    "    \n",
    "    for j in range(len(X_pore)-2):\n",
    "        \n",
    "        for k in range(ref.shape[0]):\n",
    "\n",
    "            if np.abs(X_pore[i] - (np.mod(ref[k]*X_pore[j] + tra[k], 1))).sum() < 0.001:\n",
    "                \n",
    "                color2[i] = j\n",
    "                \n",
    "                break\n",
    "        "
   ]
  },
  {
   "cell_type": "code",
   "execution_count": 23,
   "id": "5b7b1290-196f-486a-a01e-1aec5bcb2c2e",
   "metadata": {},
   "outputs": [],
   "source": [
    "_A = A[X[:,1]>0.75]\n",
    "_A = _A[:,X[:,1]>0.75]"
   ]
  },
  {
   "cell_type": "code",
   "execution_count": 24,
   "id": "6d3ac222-3c99-4a72-a145-4b3284b16008",
   "metadata": {},
   "outputs": [],
   "source": [
    "ce_dict = {}\n",
    "row, col = np.nonzero(_A)\n",
    "n_c = 0\n",
    "for i in range(len(row)):\n",
    "    \n",
    "    added = False\n",
    "    \n",
    "    r,c = row[i], col[i]\n",
    "    \n",
    "    for j in ce_dict:\n",
    "        \n",
    "        if added: break\n",
    "        \n",
    "        test = ce_dict[j][0]\n",
    "        \n",
    "        test_r = _X[test[0]]\n",
    "        test_c = _X[test[1]]\n",
    "        \n",
    "        \n",
    "        for k in range(ref.shape[0]):\n",
    "            \n",
    "            r1 = np.mod(ref[k]*_X[r] + tra[k], 1)\n",
    "            r2 = np.mod(ref[k]*_X[c] + tra[k], 1)\n",
    "            \n",
    "            if np.abs(r1-test_r).sum() < 0.001 and np.abs(r2-test_c).sum() < 0.001:\n",
    "                \n",
    "                ce_dict[j].append((r,c))\n",
    "                \n",
    "                added = True\n",
    "                break\n",
    "        \n",
    "    if not added:\n",
    "        ce_dict[n_c] = [(r,c)]\n",
    "        n_c += 1"
   ]
  },
  {
   "cell_type": "code",
   "execution_count": 25,
   "id": "94b467c9-5d4b-41db-99fb-06d2581da276",
   "metadata": {},
   "outputs": [],
   "source": [
    "_A_pore = A_pore[X[:,1]>0.75]"
   ]
  },
  {
   "cell_type": "code",
   "execution_count": 26,
   "id": "438c1aa5-a12f-4050-b1ea-8acb0b57ae0c",
   "metadata": {},
   "outputs": [],
   "source": [
    "cp_dict = {}\n",
    "row, col = np.nonzero(_A_pore[:,:12])\n",
    "n_c = 0\n",
    "for i in range(len(row)):\n",
    "    \n",
    "    added = False\n",
    "    \n",
    "    r,c = row[i], col[i]\n",
    "    \n",
    "    for j in cp_dict:\n",
    "        \n",
    "        if added: break\n",
    "        \n",
    "        test = cp_dict[j][0]\n",
    "        \n",
    "        test_r = _X[test[0]]\n",
    "        test_c = X_pore[test[1]]\n",
    "        \n",
    "        \n",
    "        for k in range(ref.shape[0]):\n",
    "            \n",
    "            r1 = np.mod(ref[k]*_X[r] + tra[k], 1)\n",
    "            r2 = np.mod(ref[k]*X_pore[c] + tra[k], 1)\n",
    "            \n",
    "            if np.abs(r1-test_r).sum() < 0.001 and np.abs(r2-test_c).sum() < 0.001:\n",
    "                \n",
    "                cp_dict[j].append((r,c))\n",
    "                \n",
    "                added = True\n",
    "                break\n",
    "        \n",
    "    if not added:\n",
    "        cp_dict[n_c] = [(r,c)]\n",
    "        n_c += 1"
   ]
  },
  {
   "cell_type": "code",
   "execution_count": 27,
   "id": "eee6b7a2-199a-4781-890f-1535046051a1",
   "metadata": {},
   "outputs": [],
   "source": [
    "import matplotlib.patheffects as pe"
   ]
  },
  {
   "cell_type": "code",
   "execution_count": 28,
   "id": "56b29754-e56b-4459-9fb6-fb27d22685f0",
   "metadata": {},
   "outputs": [
    {
     "data": {
      "image/png": "[encoded data removed]",
      "text/plain": [
       "<Figure size 328.55x502.25 with 1 Axes>"
      ]
     },
     "metadata": {},
     "output_type": "display_data"
    }
   ],
   "source": [
    "plt.figure(figsize=(13.142/4,20.09/4))\n",
    "for i in ce_dict:\n",
    "    x = 0\n",
    "    for j in ce_dict[i]:\n",
    "        \n",
    "        x1, x2 = _X[j[0]].copy(), _X[j[1]].copy()\n",
    "        \n",
    "        d = x2-x1\n",
    "        \n",
    "        for _d in range(3):\n",
    "            \n",
    "            if d[_d] > 0.5:\n",
    "                \n",
    "                x2[_d] -= 1\n",
    "            \n",
    "            elif d[_d] < -.5:\n",
    "                \n",
    "                x2[_d] += 1\n",
    "            \n",
    "        \n",
    "        \n",
    "        \n",
    "        if x == 0:\n",
    "            \n",
    "            line = plt.plot([x1[2], x2[2]], [x1[0], x2[0]], lw=4, zorder=5)\n",
    "            plt.plot([x1[2], x2[2]], [x1[0], x2[0]], lw=6, c='black', zorder=4)\n",
    "\n",
    "            plt.plot([x1[2]-1, x2[2]-1], [x1[0], x2[0]], c= line[0].get_c(), lw=4, zorder=5)\n",
    "            plt.plot([x1[2]-1, x2[2]-1], [x1[0], x2[0]], lw=6, c='black', zorder=4)\n",
    "\n",
    "            plt.plot([x1[2]+1, x2[2]+1], [x1[0], x2[0]], c= line[0].get_c(), lw=4, zorder=5)\n",
    "            plt.plot([x1[2]+1, x2[2]+1], [x1[0], x2[0]], lw=6, c='black', zorder=4)\n",
    "        \n",
    "        plt.plot([x1[2], x2[2]], [x1[0], x2[0]], c= line[0].get_c(),lw=4, zorder=5)\n",
    "        plt.plot([x1[2], x2[2]], [x1[0], x2[0]], c= 'black',lw=6, zorder=4)\n",
    "        plt.plot([x1[2]-1, x2[2]-1], [x1[0], x2[0]], c= line[0].get_c(),lw=4, zorder=5)\n",
    "        plt.plot([x1[2]-1, x2[2]-1], [x1[0], x2[0]], c= 'black',lw=6, zorder=4)\n",
    "        plt.plot([x1[2]+1, x2[2]+1], [x1[0], x2[0]], c= line[0].get_c(),lw=4, zorder=5)\n",
    "        plt.plot([x1[2]+1, x2[2]+1], [x1[0], x2[0]], c= 'black',lw=6, zorder=4)\n",
    "        x+=1\n",
    "        \n",
    "        \n",
    "for i in cp_dict:\n",
    "    x = 0\n",
    "    for j in cp_dict[i]:\n",
    "        \n",
    "        x1, x2 = _X[j[0]].copy(), X_pore[j[1]].copy()\n",
    "        \n",
    "        d = x2-x1\n",
    "        \n",
    "        for _d in range(3):\n",
    "            \n",
    "            if d[_d] > 0.5:\n",
    "                \n",
    "                x2[_d] -= 1\n",
    "            \n",
    "            elif d[_d] < -.5:\n",
    "                \n",
    "                x2[_d] += 1\n",
    "            \n",
    "        \n",
    "        \n",
    "        \n",
    "        if x == 0:\n",
    "            line = plt.plot([x1[2], x2[2]], [x1[0], x2[0]],lw=2,ls='--', path_effects=[pe.Stroke(linewidth=4, foreground='black'), pe.Normal()])\n",
    "            plt.plot([x1[2]-1, x2[2]-1], [x1[0], x2[0]],lw=2,ls='--', c= line[0].get_c(), path_effects=[pe.Stroke(linewidth=4, foreground='black'), pe.Normal()])\n",
    "            plt.plot([x1[2]+1, x2[2]+1], [x1[0], x2[0]],lw=2,ls='--', c= line[0].get_c(), path_effects=[pe.Stroke(linewidth=4, foreground='black'), pe.Normal()])\n",
    "        \n",
    "        plt.plot([x1[2], x2[2]], [x1[0], x2[0]], c= line[0].get_c(),lw=2,ls='--', path_effects=[pe.Stroke(linewidth=4, foreground='black'), pe.Normal()])\n",
    "        plt.plot([x1[2]-1, x2[2]-1], [x1[0], x2[0]], c= line[0].get_c(),lw=2,ls='--', path_effects=[pe.Stroke(linewidth=4, foreground='black'), pe.Normal()])\n",
    "        plt.plot([x1[2]+1, x2[2]+1], [x1[0], x2[0]], c= line[0].get_c(),lw=2,ls='--', path_effects=[pe.Stroke(linewidth=4, foreground='black'), pe.Normal()])\n",
    "        #     line = plt.plot([x1[0], x2[0]], [x1[1], x2[1]],lw=2,ls='--', path_effects=[pe.Stroke(linewidth=4, foreground='black')])\n",
    "        \n",
    "        # plt.plot([x1[0], x2[0]], [x1[1], x2[1]], c= line[0].get_c(),lw=2,ls='--', path_effects=[pe.Stroke(linewidth=4, foreground='black')])\n",
    "        x+=1\n",
    "        \n",
    "\n",
    "plt.scatter(X_pore[:12,2], X_pore[:12,0], s=150, zorder=10, c=color2, marker='s', edgecolors='black')\n",
    "plt.scatter(X_pore[:12,2]+1, X_pore[:12,0], s=150, zorder=10, c=color2, marker='s', edgecolors='black')\n",
    "plt.scatter(X_pore[:12,2], X_pore[:12,0]+1, s=150, zorder=10, c=color2, marker='s', edgecolors='black')\n",
    "plt.scatter(X_pore[:12,2]+1, X_pore[:12,0]+1, s=150, zorder=10, c=color2, marker='s', edgecolors='black')\n",
    "plt.xlim(0,1)\n",
    "plt.ylim(0,1)\n",
    "plt.xticks([],[])\n",
    "plt.yticks([],[])\n",
    "plt.scatter(_X[:,2], _X[:,0], c=color, s=350, zorder=10, edgecolors='black')\n",
    "# plt.scatter(X[:,0], X[:,1], c='black', s=500, zorder=9)\n",
    "plt.savefig('figures/weight_sharing_pore_mfi.pdf', bbox_inches='tight', dpi=1200);\n",
    "plt.savefig('figures/weight_sharing_pore_mfi.png', bbox_inches='tight', dpi=1200);"
   ]
  },
  {
   "cell_type": "code",
   "execution_count": 29,
   "id": "1bf17c06-629e-4b6d-8033-69f1437efda8",
   "metadata": {},
   "outputs": [],
   "source": [
    "atsum = trainloader.dataset.X.sum((1,2))"
   ]
  },
  {
   "cell_type": "code",
   "execution_count": 30,
   "id": "1d994f4a-d838-4826-abbf-cd94406f91d1",
   "metadata": {},
   "outputs": [],
   "source": [
    "hoa_train = trainloader.dataset.y"
   ]
  },
  {
   "cell_type": "code",
   "execution_count": 31,
   "id": "609cd4dd-1aa4-45bf-97a3-a3095087edd6",
   "metadata": {},
   "outputs": [],
   "source": [
    "uniq = atsum.unique()"
   ]
  },
  {
   "cell_type": "code",
   "execution_count": 32,
   "id": "654f112c-a577-4fda-8b55-30fe97986264",
   "metadata": {},
   "outputs": [],
   "source": [
    "hoa_min = np.zeros_like(uniq, dtype=float)\n",
    "hoa_max = np.zeros_like(uniq, dtype=float)"
   ]
  },
  {
   "cell_type": "code",
   "execution_count": 33,
   "id": "a1388ca3-1278-4c61-97af-f07a79558791",
   "metadata": {},
   "outputs": [],
   "source": [
    "for ue in range(len(uniq)):\n",
    "    hoa_min[ue] = hoa_train[atsum==uniq[ue]].min()\n",
    "    hoa_max[ue] = hoa_train[atsum==uniq[ue]].max()"
   ]
  },
  {
   "cell_type": "code",
   "execution_count": 34,
   "id": "8e032937-6585-4085-8721-88abaea33863",
   "metadata": {},
   "outputs": [],
   "source": [
    "beta = 1\n",
    "def fitness_function(ga_instance, solution, solution_idx):\n",
    "    atoms = torch.tensor(solution)[None,:,None].repeat(2,1,1).float().cuda()\n",
    "    gen_net.eval()\n",
    "    with torch.no_grad():\n",
    "        curr_hoa = gen_net.forward(atoms).item()\n",
    "    fitness = - (curr_hoa-target_hoa)**2 - beta*sum(solution)\n",
    "    return fitness"
   ]
  },
  {
   "cell_type": "code",
   "execution_count": 35,
   "id": "dcdce781-869d-4c63-ab08-33c394111e61",
   "metadata": {},
   "outputs": [],
   "source": [
    "# n_pops =32\n",
    "struct_per_hoa = 10\n",
    "target_hoas = np.arange(40, 71)"
   ]
  },
  {
   "cell_type": "code",
   "execution_count": 36,
   "id": "eb877cc5-96c2-4ed2-8d3b-13c7e5b85e4d",
   "metadata": {},
   "outputs": [],
   "source": [
    "new_structures = np.zeros((struct_per_hoa*len(target_hoas), 96))\n",
    "pred_hoas = np.zeros((struct_per_hoa*len(target_hoas)))"
   ]
  },
  {
   "cell_type": "code",
   "execution_count": 37,
   "id": "c63a85b7-dc77-4d10-88a4-c65af5b62a96",
   "metadata": {},
   "outputs": [],
   "source": [
    "import torch.nn as nn\n",
    "class GeneticNet(nn.Module):\n",
    "\n",
    "    def __init__(self, mpnn, edges, pore, bonds_sp, bonds_ps):\n",
    "        \n",
    "        super().__init__()\n",
    "        self.bonds = edges[None].float().cuda().repeat(2,1,1)\n",
    "        self.sites_p = torch.tensor(pore[None]).float().cuda().repeat(2,1,1)\n",
    "        self.bonds_sp = edges_sp[None].float().cuda().repeat(2,1,1)\n",
    "        self.bonds_ps = edges_ps[None].float().cuda().repeat(2,1,1)\n",
    "\n",
    "        self.mpnn = mpnn\n",
    "    @torch.no_grad()\n",
    "    def forward(self, atoms):\n",
    "        return self.mpnn(atoms, self.bonds, self.sites_p, self.bonds_sp, self.bonds_ps)[0,:,0].sum()\n",
    "gen_net = GeneticNet(mpnn2, edges, pore, edges_sp, edges_ps,).cuda()"
   ]
  },
  {
   "cell_type": "code",
   "execution_count": 38,
   "id": "bf9da624-11f4-46f9-a6a6-a7058e0c168c",
   "metadata": {},
   "outputs": [
    {
     "name": "stderr",
     "output_type": "stream",
     "text": [
      "  0%|                                                                                           | 0/31 [00:00<?, ?it/s]C:\\Users\\20175552\\.conda\\envs\\torch4\\lib\\site-packages\\pygad\\pygad.py:1151: UserWarning: Use the 'save_best_solutions' parameter with caution as it may cause memory overflow when either the number of generations or number of genes is large.\n",
      "  warnings.warn(\"Use the 'save_best_solutions' parameter with caution as it may cause memory overflow when either the number of generations or number of genes is large.\")\n",
      "100%|███████████████████████████████████████████████████████████████████████████████| 31/31 [4:12:04<00:00, 487.89s/it]\n"
     ]
    }
   ],
   "source": [
    "for i in tqdm(range(len(target_hoas))):\n",
    "    for j in range(struct_per_hoa):\n",
    "\n",
    "        target_hoa = target_hoas[i]\n",
    "        n_pops = 32\n",
    "        initial_population = np.zeros((n_pops, 96))\n",
    "        for k in range(len(initial_population)):\n",
    "            n_atoms = uniq[np.logical_and(hoa_min <= target_hoa, hoa_max >= target_hoa)]\n",
    "            if target_hoa > hoa_max.max():\n",
    "                n_atoms=[12]\n",
    "            elif target_hoa < hoa_min.min():\n",
    "                n_atoms=[0]\n",
    "            n = np.random.choice(n_atoms)\n",
    "            idxes = np.random.choice(np.arange(96), size=n, replace=False)\n",
    "        \n",
    "            for l in idxes:\n",
    "                initial_population[k,l] = 1\n",
    "        \n",
    "        ga_instance = GA(num_generations=50,\n",
    "                 num_parents_mating=2,\n",
    "                 initial_population=initial_population,\n",
    "                 fitness_func=fitness_function,\n",
    "                 crossover_probability=0.2,\n",
    "                 keep_elitism=5,\n",
    "                 save_best_solutions=True,\n",
    "                 gene_space=[0, 1])\n",
    "        \n",
    "        ga_instance.run()\n",
    "        solution = ga_instance.best_solutions[-1]\n",
    "        atoms = torch.tensor(solution)[None,:,None].repeat(2,1,1).float().cuda()\n",
    "        gen_net.eval()\n",
    "        curr_hoa = gen_net.forward(atoms).item()\n",
    "\n",
    "        idx = i*struct_per_hoa + j\n",
    "        new_structures[idx] = solution\n",
    "        pred_hoas[idx] = curr_hoa\n",
    "\n",
    "np.save('Genetic Algorithm Results/structures_mfi.npy', new_structures)\n",
    "np.save('Genetic Algorithm Results/pred_hoas_mfi.npy', pred_hoas)"
   ]
  },
  {
   "cell_type": "code",
   "execution_count": 39,
   "id": "f92323d3-262b-42f9-91ee-e77d8ab78e5e",
   "metadata": {},
   "outputs": [],
   "source": [
    "def create_cif(ex_cif, atoms, target_cif):\n",
    "\n",
    "    with open(ex_cif, 'r') as f:\n",
    "        lines = f.readlines()\n",
    "\n",
    "    cnt = 0\n",
    "    for i in range(len(lines)):\n",
    "\n",
    "        trgt = 'Al' if atoms[cnt] == 0 else 'Si'\n",
    "        rplc = 'Al' if trgt =='Si' else 'Si'\n",
    "\n",
    "        \n",
    "        \n",
    "        if lines[i].startswith('Si') or lines[i].startswith('Al'):\n",
    "\n",
    "            lines[i] = lines[i].replace(trgt, rplc)\n",
    "            cnt += 1 \n",
    "\n",
    "    with open(target_cif, 'w') as f:\n",
    "        f.writelines(lines)"
   ]
  },
  {
   "cell_type": "code",
   "execution_count": 41,
   "id": "3be0abc9-67a2-4f2a-b98c-c329f1405300",
   "metadata": {},
   "outputs": [],
   "source": [
    "for i in range(len(new_structures)):\n",
    "\n",
    "    create_cif('Genetic Algorithm Results/MFI_example.cif', new_structures[i], f'Genetic Algorithm Results/GA_mfis/MFI_{i}.cif')"
   ]
  },
  {
   "cell_type": "code",
   "execution_count": null,
   "id": "ae3f1a6a-036d-4d75-b8bc-0a8c3d5b09cc",
   "metadata": {},
   "outputs": [],
   "source": []
  }
 ],
 "metadata": {
  "kernelspec": {
   "display_name": "Python 3 (ipykernel)",
   "language": "python",
   "name": "python3"
  },
  "language_info": {
   "codemirror_mode": {
    "name": "ipython",
    "version": 3
   },
   "file_extension": ".py",
   "mimetype": "text/x-python",
   "name": "python",
   "nbconvert_exporter": "python",
   "pygments_lexer": "ipython3",
   "version": "3.10.12"
  }
 },
 "nbformat": 4,
 "nbformat_minor": 5
}
