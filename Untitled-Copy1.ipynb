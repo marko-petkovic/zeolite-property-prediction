{
 "cells": [
  {
   "cell_type": "code",
   "execution_count": 1,
   "id": "fb17a516-45b7-4c27-9232-b2f386d244c7",
   "metadata": {},
   "outputs": [],
   "source": [
    "import numpy as np\n",
    "import os \n",
    "\n",
    "from scipy.spatial.distance import cdist\n"
   ]
  },
  {
   "cell_type": "code",
   "execution_count": 19,
   "id": "c652200f-0fd4-4ebc-82d8-3bdb673dade6",
   "metadata": {},
   "outputs": [],
   "source": [
    "import os\n",
    "import sys\n",
    "sys.path.append(os.getcwd())\n",
    "sys.path.insert(0, \"../zeolite-property-prediction/code/\")\n",
    "sys.path.insert(0, \"../zeolite-property-prediction/\")"
   ]
  },
  {
   "cell_type": "code",
   "execution_count": 2,
   "id": "a9b48556-e815-4557-93b0-ad92a6875a87",
   "metadata": {},
   "outputs": [],
   "source": [
    "with open('untitled.txt', 'r') as f:\n",
    "    lines = f.readlines()"
   ]
  },
  {
   "cell_type": "code",
   "execution_count": 3,
   "id": "acc8b81f-2f87-4228-8ae3-c2bf45e965fa",
   "metadata": {},
   "outputs": [],
   "source": [
    "a = np.array([[1,2,3],\n",
    "              [2,3,4]])\n",
    "b = np.array([[ 0.,  1.,  0.],\n",
    "        [ 0.,  0.,  1.],\n",
    "        [ 1.,  0.,  0.]])"
   ]
  },
  {
   "cell_type": "code",
   "execution_count": 4,
   "id": "c2fb365c-0a16-4818-9cbd-cc91b64f16c0",
   "metadata": {},
   "outputs": [
    {
     "data": {
      "text/plain": [
       "(array([0, 1, 2], dtype=int64), array([1, 2, 0], dtype=int64))"
      ]
     },
     "execution_count": 4,
     "metadata": {},
     "output_type": "execute_result"
    }
   ],
   "source": [
    "np.where(b==1)"
   ]
  },
  {
   "cell_type": "code",
   "execution_count": 5,
   "id": "e10ab5f4-2d6a-48d8-8e04-37c7487f82ab",
   "metadata": {},
   "outputs": [
    {
     "data": {
      "text/plain": [
       "array([[3., 1., 2.],\n",
       "       [4., 2., 3.]])"
      ]
     },
     "execution_count": 5,
     "metadata": {},
     "output_type": "execute_result"
    }
   ],
   "source": [
    "a @ b"
   ]
  },
  {
   "cell_type": "code",
   "execution_count": 6,
   "id": "19499cca-6a25-4dbc-95f1-83041f04cb11",
   "metadata": {},
   "outputs": [],
   "source": [
    "l2 = np.array([i.strip().split(',') for i in lines])"
   ]
  },
  {
   "cell_type": "code",
   "execution_count": 7,
   "id": "2fef5b25-c671-44c6-b8dd-0d1cbf48f59b",
   "metadata": {},
   "outputs": [],
   "source": [
    "ref = np.zeros((len(l2), 3, 3))\n",
    "tra = np.zeros((len(l2), 3))"
   ]
  },
  {
   "cell_type": "code",
   "execution_count": 8,
   "id": "2a446f34-310f-42d9-b726-d255d2c51376",
   "metadata": {},
   "outputs": [],
   "source": [
    "for i in range(len(l2)):\n",
    "    for j in range(l2.shape[1]):\n",
    "        if 'x' in l2[i,j]:\n",
    "            y = 0\n",
    "        elif 'y' in l2[i,j]:\n",
    "            y = 1\n",
    "        else:\n",
    "            y = 2\n",
    "\n",
    "        if '+' in l2[i,j]:\n",
    "            ref[i, y, j] = 1\n",
    "        else:\n",
    "            ref[i, y, j] = -1\n",
    "\n",
    "        if '1/2' in l2[i,j]:\n",
    "            tra[i,j] = 0.5"
   ]
  },
  {
   "cell_type": "code",
   "execution_count": 10,
   "id": "0ca46e66-8214-4142-8f61-ac8ca4ec2cff",
   "metadata": {},
   "outputs": [],
   "source": [
    "with open(\"output_itw/hoa.dat\", \"r\") as f:\n",
    "\n",
    "    lines = f.readlines()[1:]"
   ]
  },
  {
   "cell_type": "code",
   "execution_count": 11,
   "id": "10f0ef68-c7c7-4096-9c7a-113b638bf2f4",
   "metadata": {},
   "outputs": [],
   "source": [
    "rho_hoa = np.array([float(i.strip().split()[1]) for i in lines])"
   ]
  },
  {
   "cell_type": "code",
   "execution_count": 59,
   "id": "746cd15c-f1e2-40c3-99fd-b55ee222d850",
   "metadata": {},
   "outputs": [
    {
     "data": {
      "text/plain": [
       "(27.7353, 101.381)"
      ]
     },
     "execution_count": 59,
     "metadata": {},
     "output_type": "execute_result"
    }
   ],
   "source": [
    "rho_hoa.min(), rho_hoa.max()"
   ]
  },
  {
   "cell_type": "code",
   "execution_count": 56,
   "id": "54ce2988-7dee-48d2-b19d-5b4626aa438f",
   "metadata": {},
   "outputs": [],
   "source": [
    "import matplotlib.pyplot as plt"
   ]
  },
  {
   "cell_type": "code",
   "execution_count": 60,
   "id": "9280e851-ec04-4b27-9434-a730a3c9b8b3",
   "metadata": {},
   "outputs": [
    {
     "data": {
      "text/plain": [
       "(array([ 0.,  0.,  0.,  0.,  0.,  0.,  0.,  0.,  0.,  0.,  0.,  0.,  0.,\n",
       "         0.,  0.,  0.,  0.,  0.,  0.,  0.,  0.,  0.,  0.,  0.,  0.,  0.,\n",
       "         0.,  1.,  0.,  0.,  0.,  0.,  4.,  2.,  4., 18., 31., 34., 26.,\n",
       "        38., 50., 56., 45., 28., 50., 51., 49., 43., 45., 34., 31., 23.,\n",
       "        18.,  8.,  6.,  9.,  8.,  5.,  4.,  1.,  4.,  5.,  1.,  2.,  2.,\n",
       "         3.,  1.,  2.,  3.,  2.,  3.,  2.,  0.,  0.,  1.,  3.,  0.,  0.,\n",
       "         2.,  1.,  0.,  0.,  0.,  1.,  1.,  0.,  0.,  0.,  0.,  0.,  0.,\n",
       "         0.,  0.,  0.,  0.,  0.,  0.,  0.,  0.,  0.,  0.,  1.,  0.,  0.]),\n",
       " array([  0.,   1.,   2.,   3.,   4.,   5.,   6.,   7.,   8.,   9.,  10.,\n",
       "         11.,  12.,  13.,  14.,  15.,  16.,  17.,  18.,  19.,  20.,  21.,\n",
       "         22.,  23.,  24.,  25.,  26.,  27.,  28.,  29.,  30.,  31.,  32.,\n",
       "         33.,  34.,  35.,  36.,  37.,  38.,  39.,  40.,  41.,  42.,  43.,\n",
       "         44.,  45.,  46.,  47.,  48.,  49.,  50.,  51.,  52.,  53.,  54.,\n",
       "         55.,  56.,  57.,  58.,  59.,  60.,  61.,  62.,  63.,  64.,  65.,\n",
       "         66.,  67.,  68.,  69.,  70.,  71.,  72.,  73.,  74.,  75.,  76.,\n",
       "         77.,  78.,  79.,  80.,  81.,  82.,  83.,  84.,  85.,  86.,  87.,\n",
       "         88.,  89.,  90.,  91.,  92.,  93.,  94.,  95.,  96.,  97.,  98.,\n",
       "         99., 100., 101., 102., 103., 104.]),\n",
       " <BarContainer object of 104 artists>)"
      ]
     },
     "execution_count": 60,
     "metadata": {},
     "output_type": "execute_result"
    },
    {
     "data": {
      "image/png": "[encoded data removed]",
      "text/plain": [
       "<Figure size 640x480 with 1 Axes>"
      ]
     },
     "metadata": {},
     "output_type": "display_data"
    }
   ],
   "source": [
    "plt.hist(rho_hoa, bins=np.arange(0,105,1))"
   ]
  },
  {
   "cell_type": "code",
   "execution_count": 12,
   "id": "8856c8f8-a70b-4969-8892-8ba935a28aeb",
   "metadata": {},
   "outputs": [],
   "source": [
    "np.save(\"Data/ITW/hoa.npy\", rho_hoa)"
   ]
  },
  {
   "cell_type": "code",
   "execution_count": 38,
   "id": "953bed3d-d742-47c2-9f14-dc6ec3b427e6",
   "metadata": {},
   "outputs": [],
   "source": [
    "with open(\"output_itw/0/ITW_0.cif\", \"r\") as f:\n",
    "\n",
    "    lines = f.readlines()"
   ]
  },
  {
   "cell_type": "code",
   "execution_count": 16,
   "id": "22f2a038-f3ee-4a37-9911-f60388cbbd95",
   "metadata": {},
   "outputs": [],
   "source": [
    "l = np.array([10.450, 15.028, 8.954])\n",
    "ang = np.array([90,105.64,90])"
   ]
  },
  {
   "cell_type": "code",
   "execution_count": 20,
   "id": "e8770ddf-903a-4eb6-bb9a-3dc6299803f2",
   "metadata": {},
   "outputs": [],
   "source": [
    "from utils.dataloading import get_transform_matrix"
   ]
  },
  {
   "cell_type": "code",
   "execution_count": 21,
   "id": "d518b811-0a3e-4824-8dab-cb3571289a63",
   "metadata": {},
   "outputs": [],
   "source": [
    "M = get_transform_matrix(*l, *ang)"
   ]
  },
  {
   "cell_type": "code",
   "execution_count": 22,
   "id": "84ed18d4-97d5-43c2-be0a-ac242bc3df33",
   "metadata": {},
   "outputs": [
    {
     "data": {
      "text/plain": [
       "array([[ 1.04500000e+01,  9.20199605e-16, -2.41392828e+00],\n",
       "       [ 0.00000000e+00,  1.50280000e+01,  6.96084849e-16],\n",
       "       [ 0.00000000e+00,  0.00000000e+00,  8.62247448e+00]])"
      ]
     },
     "execution_count": 22,
     "metadata": {},
     "output_type": "execute_result"
    }
   ],
   "source": [
    "M"
   ]
  },
  {
   "cell_type": "code",
   "execution_count": 23,
   "id": "bb81e9c3-6a9e-4d48-b89a-d85f8b0e8779",
   "metadata": {},
   "outputs": [],
   "source": [
    "def distance(x1, x2):\n",
    "    '''\n",
    "    d = x2 - x1\n",
    "    fixed for periodic boundary\n",
    "    '''\n",
    "    d = x2 - x1\n",
    "    d = np.where(d > 0.5, d - 1, d)\n",
    "    d = np.where(d < -0.5, d + 1, d)\n",
    "\n",
    "    return d"
   ]
  },
  {
   "cell_type": "code",
   "execution_count": 36,
   "id": "c3c1db2b-92e0-49b2-9f71-c0ff75ee3867",
   "metadata": {},
   "outputs": [
    {
     "data": {
      "text/plain": [
       "array([[1, 3],\n",
       "       [4, 6]])"
      ]
     },
     "execution_count": 36,
     "metadata": {},
     "output_type": "execute_result"
    }
   ],
   "source": [
    "a = np.array([[1,2,3],\n",
    "              [4,5,6]])\n",
    "np.delete(a, 1,axis=1)"
   ]
  },
  {
   "cell_type": "code",
   "execution_count": 39,
   "id": "02012959-96da-47e7-8b60-4128422e7433",
   "metadata": {},
   "outputs": [],
   "source": [
    "lines = [i.strip().split() for i in lines]"
   ]
  },
  {
   "cell_type": "code",
   "execution_count": 40,
   "id": "02d0afe3-eb70-4952-83ba-e5fdd3141960",
   "metadata": {},
   "outputs": [],
   "source": [
    "lines1 = [i for i in lines if len(i) > 1 and i[1] in ['Si','Al']]"
   ]
  },
  {
   "cell_type": "code",
   "execution_count": 41,
   "id": "0d28b8d5-01a0-49d1-9fcb-d1a89f37ec11",
   "metadata": {},
   "outputs": [],
   "source": [
    "lines2 = [i for i in lines if len(i) > 1 and i[1] == 'O']"
   ]
  },
  {
   "cell_type": "code",
   "execution_count": 42,
   "id": "669bbc67-7fb5-4483-8b78-7e158d93c11f",
   "metadata": {},
   "outputs": [],
   "source": [
    "pos = np.array([i[2:5] for i in lines1], dtype=float)"
   ]
  },
  {
   "cell_type": "code",
   "execution_count": 43,
   "id": "4bd04d6f-0eee-47cd-994f-3c76983032b6",
   "metadata": {},
   "outputs": [],
   "source": [
    "pos_o = np.array([i[2:5] for i in lines2], dtype=float)"
   ]
  },
  {
   "cell_type": "code",
   "execution_count": 44,
   "id": "bb82d90e-b40f-4a01-b96c-7eeebdb35229",
   "metadata": {},
   "outputs": [
    {
     "data": {
      "text/plain": [
       "array([[0.352, 0.244, 0.894],\n",
       "       [0.307, 0.398, 0.332],\n",
       "       [0.404, 0.398, 0.686],\n",
       "       [0.648, 0.244, 0.106],\n",
       "       [0.693, 0.398, 0.668],\n",
       "       [0.596, 0.398, 0.314],\n",
       "       [0.648, 0.755, 0.106],\n",
       "       [0.693, 0.602, 0.668],\n",
       "       [0.596, 0.602, 0.314],\n",
       "       [0.352, 0.755, 0.894],\n",
       "       [0.307, 0.602, 0.332],\n",
       "       [0.404, 0.602, 0.686],\n",
       "       [0.852, 0.745, 0.894],\n",
       "       [0.807, 0.898, 0.332],\n",
       "       [0.904, 0.898, 0.686],\n",
       "       [0.148, 0.745, 0.106],\n",
       "       [0.193, 0.898, 0.668],\n",
       "       [0.096, 0.898, 0.314],\n",
       "       [0.148, 0.256, 0.106],\n",
       "       [0.193, 0.102, 0.668],\n",
       "       [0.096, 0.102, 0.314],\n",
       "       [0.852, 0.256, 0.894],\n",
       "       [0.807, 0.102, 0.332],\n",
       "       [0.904, 0.102, 0.686]])"
      ]
     },
     "execution_count": 44,
     "metadata": {},
     "output_type": "execute_result"
    }
   ],
   "source": [
    "pos"
   ]
  },
  {
   "cell_type": "code",
   "execution_count": 46,
   "id": "e60bdcb8-0c04-4e69-b401-33d9c75d28f9",
   "metadata": {},
   "outputs": [
    {
     "data": {
      "text/plain": [
       "((24, 3), (48, 3))"
      ]
     },
     "execution_count": 46,
     "metadata": {},
     "output_type": "execute_result"
    }
   ],
   "source": [
    "pos.shape, pos_o.shape"
   ]
  },
  {
   "cell_type": "code",
   "execution_count": 48,
   "id": "c3a6e732-7a44-4bae-9146-80f11a89215d",
   "metadata": {},
   "outputs": [],
   "source": [
    "\n",
    "atoms = np.zeros((762, 24))\n",
    "\n",
    "for i in range(762):\n",
    "\n",
    "    with open(f\"output_itw/{i}/ITW_{i}.cif\", \"r\") as f:\n",
    "\n",
    "        lines = f.readlines()\n",
    "\n",
    "    lines = [i.strip().split() for i in lines]\n",
    "    lines = [i for i in lines if len(i) > 1 and i[1] in ['Si','Al']]\n",
    "    ats = [1 if i[1] == 'Al' else 0 for i in lines]\n",
    "\n",
    "    atoms[i] = ats"
   ]
  },
  {
   "cell_type": "code",
   "execution_count": 51,
   "id": "1ac61779-c8ce-439f-84c1-39853b368cf0",
   "metadata": {},
   "outputs": [],
   "source": [
    "np.save('Data/ITW/atoms.npy', atoms)"
   ]
  },
  {
   "cell_type": "code",
   "execution_count": 117,
   "id": "8ec67430-2d1d-4db3-aef6-1e754cedc629",
   "metadata": {},
   "outputs": [
    {
     "data": {
      "text/plain": [
       "((48, 3), (96, 3))"
      ]
     },
     "execution_count": 117,
     "metadata": {},
     "output_type": "execute_result"
    }
   ],
   "source": [
    "pos.shape, pos_o.shape"
   ]
  },
  {
   "cell_type": "code",
   "execution_count": 52,
   "id": "d3034afa-1c03-48c3-8ccc-4d0a492066ba",
   "metadata": {},
   "outputs": [],
   "source": [
    "d_o_a = np.zeros((24,48))\n",
    "\n",
    "for i in range(d_o_a.shape[0]):\n",
    "    for j in range(d_o_a.shape[1]):\n",
    "        d = distance(pos[i], pos_o[j])\n",
    "        d = np.sqrt(((d*l)**2).sum())\n",
    "        d_o_a[i,j] = d"
   ]
  },
  {
   "cell_type": "code",
   "execution_count": 53,
   "id": "8b18f65a-bf76-4aaf-ba6a-b8b623781d5b",
   "metadata": {},
   "outputs": [],
   "source": [
    "A = np.zeros((len(d_o_a),len(d_o_a)))\n",
    "for i in range(len(d_o_a)):\n",
    "\n",
    "    ind = np.argpartition(d_o_a[i], 4)[:4]\n",
    "\n",
    "    for idx in ind:\n",
    "\n",
    "        ind2 = np.argpartition(d_o_a[:,idx], 2)[:2]\n",
    "        j = ind2[ind2!=i]\n",
    "        A[i,j] = 1"
   ]
  },
  {
   "cell_type": "code",
   "execution_count": 54,
   "id": "9db7fa0f-dd64-4d9b-9036-58ba5948fd49",
   "metadata": {},
   "outputs": [
    {
     "data": {
      "text/plain": [
       "(array([4., 4., 4., 4., 4., 4., 4., 4., 4., 4., 4., 4., 4., 4., 4., 4., 4.,\n",
       "        4., 4., 4., 4., 4., 4., 4.]),\n",
       " array([4., 4., 4., 4., 4., 4., 4., 4., 4., 4., 4., 4., 4., 4., 4., 4., 4.,\n",
       "        4., 4., 4., 4., 4., 4., 4.]))"
      ]
     },
     "execution_count": 54,
     "metadata": {},
     "output_type": "execute_result"
    }
   ],
   "source": [
    "A.sum(1), A.sum(0)"
   ]
  },
  {
   "cell_type": "code",
   "execution_count": 55,
   "id": "b69f5fc4-6588-47c7-93ea-515a491dd6a2",
   "metadata": {},
   "outputs": [],
   "source": [
    "np.save('Data/ITW/adj.npy', A)"
   ]
  },
  {
   "cell_type": "code",
   "execution_count": 128,
   "id": "fabbfaea-5eef-4e54-a693-58d66097376b",
   "metadata": {},
   "outputs": [
    {
     "data": {
      "text/plain": [
       "array([[ 1, 79],\n",
       "       [73,  3],\n",
       "       [75,  5],\n",
       "       [77,  7],\n",
       "       [ 9, 67],\n",
       "       [11, 69],\n",
       "       [13, 71],\n",
       "       [15, 65],\n",
       "       [17, 63],\n",
       "       [57, 19],\n",
       "       [21, 59],\n",
       "       [23, 61],\n",
       "       [51, 25],\n",
       "       [53, 27],\n",
       "       [29, 55],\n",
       "       [49, 31],\n",
       "       [33, 89],\n",
       "       [35, 95],\n",
       "       [91, 37],\n",
       "       [93, 39],\n",
       "       [81, 41],\n",
       "       [43, 85],\n",
       "       [87, 45],\n",
       "       [47, 83],\n",
       "       [15, 81],\n",
       "       [ 9, 95],\n",
       "       [11, 91],\n",
       "       [13, 93],\n",
       "       [83,  3],\n",
       "       [85,  5],\n",
       "       [87,  7],\n",
       "       [ 1, 89],\n",
       "       [49, 41],\n",
       "       [35, 51],\n",
       "       [53, 37],\n",
       "       [55, 39],\n",
       "       [47, 57],\n",
       "       [43, 59],\n",
       "       [61, 45],\n",
       "       [33, 63],\n",
       "       [31, 65],\n",
       "       [73, 19],\n",
       "       [21, 75],\n",
       "       [23, 77],\n",
       "       [79, 17],\n",
       "       [69, 27],\n",
       "       [29, 71],\n",
       "       [67, 25]], dtype=int64)"
      ]
     },
     "execution_count": 128,
     "metadata": {},
     "output_type": "execute_result"
    }
   ],
   "source": [
    "np.argsort(d_o_a, 1)[:, :2]"
   ]
  },
  {
   "cell_type": "code",
   "execution_count": 59,
   "id": "18b84fa7-3e29-44c0-94f9-31fd0bb5b3a6",
   "metadata": {},
   "outputs": [],
   "source": [
    "neighs = np.argsort(dist_o_a, axis=-1)[:,:2]"
   ]
  },
  {
   "cell_type": "code",
   "execution_count": 60,
   "id": "00046eee-1e21-49b2-adef-2726d9f86ea7",
   "metadata": {},
   "outputs": [
    {
     "data": {
      "text/plain": [
       "array([[ 1, 79],\n",
       "       [73,  3],\n",
       "       [75,  5],\n",
       "       [77,  7],\n",
       "       [ 9, 67],\n",
       "       [11, 69],\n",
       "       [13, 71],\n",
       "       [65, 15],\n",
       "       [17, 63],\n",
       "       [57, 19],\n",
       "       [21, 59],\n",
       "       [23, 61],\n",
       "       [51, 25],\n",
       "       [53, 27],\n",
       "       [29, 55],\n",
       "       [31, 49],\n",
       "       [33, 89],\n",
       "       [35, 95],\n",
       "       [91, 37],\n",
       "       [93, 39],\n",
       "       [41, 81],\n",
       "       [43, 85],\n",
       "       [87, 45],\n",
       "       [47, 83],\n",
       "       [81, 15],\n",
       "       [ 9, 95],\n",
       "       [11, 91],\n",
       "       [13, 93],\n",
       "       [83,  3],\n",
       "       [85,  5],\n",
       "       [ 7, 87],\n",
       "       [ 1, 89],\n",
       "       [41, 49],\n",
       "       [35, 51],\n",
       "       [53, 37],\n",
       "       [55, 39],\n",
       "       [47, 57],\n",
       "       [43, 59],\n",
       "       [61, 45],\n",
       "       [63, 33],\n",
       "       [65, 31],\n",
       "       [73, 19],\n",
       "       [21, 75],\n",
       "       [23, 77],\n",
       "       [17, 79],\n",
       "       [69, 27],\n",
       "       [29, 71],\n",
       "       [67, 25]], dtype=int64)"
      ]
     },
     "execution_count": 60,
     "metadata": {},
     "output_type": "execute_result"
    }
   ],
   "source": [
    "neighs"
   ]
  },
  {
   "cell_type": "code",
   "execution_count": null,
   "id": "d16c3bc5-0503-440b-b868-eabf08a63586",
   "metadata": {},
   "outputs": [],
   "source": []
  }
 ],
 "metadata": {
  "kernelspec": {
   "display_name": "Python 3 (ipykernel)",
   "language": "python",
   "name": "python3"
  },
  "language_info": {
   "codemirror_mode": {
    "name": "ipython",
    "version": 3
   },
   "file_extension": ".py",
   "mimetype": "text/x-python",
   "name": "python",
   "nbconvert_exporter": "python",
   "pygments_lexer": "ipython3",
   "version": "3.10.12"
  }
 },
 "nbformat": 4,
 "nbformat_minor": 5
}
