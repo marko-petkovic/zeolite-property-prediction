{
 "cells": [
  {
   "cell_type": "code",
   "execution_count": 1,
   "id": "fb17a516-45b7-4c27-9232-b2f386d244c7",
   "metadata": {},
   "outputs": [],
   "source": [
    "import numpy as np\n",
    "import os \n",
    "\n",
    "from scipy.spatial.distance import cdist\n"
   ]
  },
  {
   "cell_type": "code",
   "execution_count": 2,
   "id": "a9b48556-e815-4557-93b0-ad92a6875a87",
   "metadata": {},
   "outputs": [],
   "source": [
    "with open('untitled.txt', 'r') as f:\n",
    "    lines = f.readlines()"
   ]
  },
  {
   "cell_type": "code",
   "execution_count": 29,
   "id": "acc8b81f-2f87-4228-8ae3-c2bf45e965fa",
   "metadata": {},
   "outputs": [],
   "source": [
    "a = np.array([[1,2,3],\n",
    "              [2,3,4]])\n",
    "b = np.array([[ 0.,  1.,  0.],\n",
    "        [ 0.,  0.,  1.],\n",
    "        [ 1.,  0.,  0.]])"
   ]
  },
  {
   "cell_type": "code",
   "execution_count": 30,
   "id": "c2fb365c-0a16-4818-9cbd-cc91b64f16c0",
   "metadata": {},
   "outputs": [
    {
     "data": {
      "text/plain": [
       "(array([0, 1, 2], dtype=int64), array([1, 2, 0], dtype=int64))"
      ]
     },
     "execution_count": 30,
     "metadata": {},
     "output_type": "execute_result"
    }
   ],
   "source": [
    "np.where(b==1)"
   ]
  },
  {
   "cell_type": "code",
   "execution_count": 31,
   "id": "e10ab5f4-2d6a-48d8-8e04-37c7487f82ab",
   "metadata": {},
   "outputs": [
    {
     "data": {
      "text/plain": [
       "array([[3., 1., 2.],\n",
       "       [4., 2., 3.]])"
      ]
     },
     "execution_count": 31,
     "metadata": {},
     "output_type": "execute_result"
    }
   ],
   "source": [
    "a @ b"
   ]
  },
  {
   "cell_type": "code",
   "execution_count": 5,
   "id": "19499cca-6a25-4dbc-95f1-83041f04cb11",
   "metadata": {},
   "outputs": [],
   "source": [
    "l2 = np.array([i.strip().split(',') for i in lines])"
   ]
  },
  {
   "cell_type": "code",
   "execution_count": 32,
   "id": "2fef5b25-c671-44c6-b8dd-0d1cbf48f59b",
   "metadata": {},
   "outputs": [],
   "source": [
    "ref = np.zeros((len(l2), 3, 3))\n",
    "tra = np.zeros((len(l2), 3))"
   ]
  },
  {
   "cell_type": "code",
   "execution_count": 33,
   "id": "2a446f34-310f-42d9-b726-d255d2c51376",
   "metadata": {},
   "outputs": [],
   "source": [
    "for i in range(len(l2)):\n",
    "    for j in range(l2.shape[1]):\n",
    "        if 'x' in l2[i,j]:\n",
    "            y = 0\n",
    "        elif 'y' in l2[i,j]:\n",
    "            y = 1\n",
    "        else:\n",
    "            y = 2\n",
    "\n",
    "        if '+' in l2[i,j]:\n",
    "            ref[i, y, j] = 1\n",
    "        else:\n",
    "            ref[i, y, j] = -1\n",
    "\n",
    "        if '1/2' in l2[i,j]:\n",
    "            tra[i,j] = 0.5"
   ]
  },
  {
   "cell_type": "code",
   "execution_count": 37,
   "id": "67dbe7b6-db8b-45d8-a038-8f9a287fe205",
   "metadata": {},
   "outputs": [
    {
     "data": {
      "text/plain": [
       "array([[0. , 0. , 0. ],\n",
       "       [0.5, 0.5, 0.5],\n",
       "       [0. , 0. , 0. ],\n",
       "       [0.5, 0.5, 0.5],\n",
       "       [0. , 0. , 0. ],\n",
       "       [0.5, 0.5, 0.5],\n",
       "       [0. , 0. , 0. ],\n",
       "       [0.5, 0.5, 0.5],\n",
       "       [0. , 0. , 0. ],\n",
       "       [0.5, 0.5, 0.5],\n",
       "       [0. , 0. , 0. ],\n",
       "       [0.5, 0.5, 0.5],\n",
       "       [0. , 0. , 0. ],\n",
       "       [0.5, 0.5, 0.5],\n",
       "       [0. , 0. , 0. ],\n",
       "       [0.5, 0.5, 0.5],\n",
       "       [0. , 0. , 0. ],\n",
       "       [0.5, 0.5, 0.5],\n",
       "       [0. , 0. , 0. ],\n",
       "       [0.5, 0.5, 0.5],\n",
       "       [0. , 0. , 0. ],\n",
       "       [0.5, 0.5, 0.5],\n",
       "       [0. , 0. , 0. ],\n",
       "       [0.5, 0.5, 0.5],\n",
       "       [0. , 0. , 0. ],\n",
       "       [0.5, 0.5, 0.5],\n",
       "       [0. , 0. , 0. ],\n",
       "       [0.5, 0.5, 0.5],\n",
       "       [0. , 0. , 0. ],\n",
       "       [0.5, 0.5, 0.5],\n",
       "       [0. , 0. , 0. ],\n",
       "       [0.5, 0.5, 0.5],\n",
       "       [0. , 0. , 0. ],\n",
       "       [0.5, 0.5, 0.5],\n",
       "       [0. , 0. , 0. ],\n",
       "       [0.5, 0.5, 0.5],\n",
       "       [0. , 0. , 0. ],\n",
       "       [0.5, 0.5, 0.5],\n",
       "       [0. , 0. , 0. ],\n",
       "       [0.5, 0.5, 0.5],\n",
       "       [0. , 0. , 0. ],\n",
       "       [0.5, 0.5, 0.5],\n",
       "       [0. , 0. , 0. ],\n",
       "       [0.5, 0.5, 0.5],\n",
       "       [0. , 0. , 0. ],\n",
       "       [0.5, 0.5, 0.5],\n",
       "       [0. , 0. , 0. ],\n",
       "       [0.5, 0.5, 0.5],\n",
       "       [0. , 0. , 0. ],\n",
       "       [0.5, 0.5, 0.5],\n",
       "       [0. , 0. , 0. ],\n",
       "       [0.5, 0.5, 0.5],\n",
       "       [0. , 0. , 0. ],\n",
       "       [0.5, 0.5, 0.5],\n",
       "       [0. , 0. , 0. ],\n",
       "       [0.5, 0.5, 0.5],\n",
       "       [0. , 0. , 0. ],\n",
       "       [0.5, 0.5, 0.5],\n",
       "       [0. , 0. , 0. ],\n",
       "       [0.5, 0.5, 0.5],\n",
       "       [0. , 0. , 0. ],\n",
       "       [0.5, 0.5, 0.5],\n",
       "       [0. , 0. , 0. ],\n",
       "       [0.5, 0.5, 0.5],\n",
       "       [0. , 0. , 0. ],\n",
       "       [0.5, 0.5, 0.5],\n",
       "       [0. , 0. , 0. ],\n",
       "       [0.5, 0.5, 0.5],\n",
       "       [0. , 0. , 0. ],\n",
       "       [0.5, 0.5, 0.5],\n",
       "       [0. , 0. , 0. ],\n",
       "       [0.5, 0.5, 0.5],\n",
       "       [0. , 0. , 0. ],\n",
       "       [0.5, 0.5, 0.5],\n",
       "       [0. , 0. , 0. ],\n",
       "       [0.5, 0.5, 0.5],\n",
       "       [0. , 0. , 0. ],\n",
       "       [0.5, 0.5, 0.5],\n",
       "       [0. , 0. , 0. ],\n",
       "       [0.5, 0.5, 0.5],\n",
       "       [0. , 0. , 0. ],\n",
       "       [0.5, 0.5, 0.5],\n",
       "       [0. , 0. , 0. ],\n",
       "       [0.5, 0.5, 0.5],\n",
       "       [0. , 0. , 0. ],\n",
       "       [0.5, 0.5, 0.5],\n",
       "       [0. , 0. , 0. ],\n",
       "       [0.5, 0.5, 0.5],\n",
       "       [0. , 0. , 0. ],\n",
       "       [0.5, 0.5, 0.5],\n",
       "       [0. , 0. , 0. ],\n",
       "       [0.5, 0.5, 0.5],\n",
       "       [0. , 0. , 0. ],\n",
       "       [0.5, 0.5, 0.5],\n",
       "       [0. , 0. , 0. ],\n",
       "       [0.5, 0.5, 0.5]])"
      ]
     },
     "execution_count": 37,
     "metadata": {},
     "output_type": "execute_result"
    }
   ],
   "source": [
    "tra"
   ]
  },
  {
   "cell_type": "code",
   "execution_count": 2,
   "id": "0ca46e66-8214-4142-8f61-ac8ca4ec2cff",
   "metadata": {},
   "outputs": [],
   "source": [
    "with open(\"output/hoa.dat\", \"r\") as f:\n",
    "\n",
    "    lines = f.readlines()[1:]"
   ]
  },
  {
   "cell_type": "code",
   "execution_count": 8,
   "id": "10f0ef68-c7c7-4096-9c7a-113b638bf2f4",
   "metadata": {},
   "outputs": [],
   "source": [
    "rho_hoa = np.array([float(i.strip().split()[1]) for i in lines])"
   ]
  },
  {
   "cell_type": "code",
   "execution_count": 10,
   "id": "8856c8f8-a70b-4969-8892-8ba935a28aeb",
   "metadata": {},
   "outputs": [],
   "source": [
    "np.save(\"Data/RHO/hoa.npy\", rho_hoa)"
   ]
  },
  {
   "cell_type": "code",
   "execution_count": 108,
   "id": "953bed3d-d742-47c2-9f14-dc6ec3b427e6",
   "metadata": {},
   "outputs": [],
   "source": [
    "with open(\"output/0/RHO_0.cif\", \"r\") as f:\n",
    "\n",
    "    lines = f.readlines()"
   ]
  },
  {
   "cell_type": "code",
   "execution_count": 109,
   "id": "22f2a038-f3ee-4a37-9911-f60388cbbd95",
   "metadata": {},
   "outputs": [],
   "source": [
    "l = np.array([15.031, 15.031, 15.031])"
   ]
  },
  {
   "cell_type": "code",
   "execution_count": 110,
   "id": "bb81e9c3-6a9e-4d48-b89a-d85f8b0e8779",
   "metadata": {},
   "outputs": [],
   "source": [
    "def distance(x1, x2):\n",
    "    '''\n",
    "    d = x2 - x1\n",
    "    fixed for periodic boundary\n",
    "    '''\n",
    "    d = x2 - x1\n",
    "    d = np.where(d > 0.5, d - 1, d)\n",
    "    d = np.where(d < -0.5, d + 1, d)\n",
    "\n",
    "    return d"
   ]
  },
  {
   "cell_type": "code",
   "execution_count": null,
   "id": "c3c1db2b-92e0-49b2-9f71-c0ff75ee3867",
   "metadata": {},
   "outputs": [],
   "source": []
  },
  {
   "cell_type": "code",
   "execution_count": 111,
   "id": "02012959-96da-47e7-8b60-4128422e7433",
   "metadata": {},
   "outputs": [],
   "source": [
    "lines = [i.strip().split() for i in lines]"
   ]
  },
  {
   "cell_type": "code",
   "execution_count": 112,
   "id": "02d0afe3-eb70-4952-83ba-e5fdd3141960",
   "metadata": {},
   "outputs": [],
   "source": [
    "lines1 = [i for i in lines if len(i) > 1 and i[1] in ['Si','Al']]"
   ]
  },
  {
   "cell_type": "code",
   "execution_count": 113,
   "id": "0d28b8d5-01a0-49d1-9fcb-d1a89f37ec11",
   "metadata": {},
   "outputs": [],
   "source": [
    "lines2 = [i for i in lines if len(i) > 1 and i[1] == 'O']"
   ]
  },
  {
   "cell_type": "code",
   "execution_count": 114,
   "id": "669bbc67-7fb5-4483-8b78-7e158d93c11f",
   "metadata": {},
   "outputs": [],
   "source": [
    "pos = np.array([i[2:5] for i in lines1], dtype=float)"
   ]
  },
  {
   "cell_type": "code",
   "execution_count": 115,
   "id": "4bd04d6f-0eee-47cd-994f-3c76983032b6",
   "metadata": {},
   "outputs": [],
   "source": [
    "pos_o = np.array([i[2:5] for i in lines2], dtype=float)"
   ]
  },
  {
   "cell_type": "code",
   "execution_count": 116,
   "id": "c3a6e732-7a44-4bae-9146-80f11a89215d",
   "metadata": {},
   "outputs": [],
   "source": [
    "\n",
    "atoms = np.zeros((1211, 48))\n",
    "\n",
    "for i in range(1211):\n",
    "\n",
    "    with open(f\"output/{i}/RHO_{i}.cif\", \"r\") as f:\n",
    "\n",
    "        lines = f.readlines()\n",
    "\n",
    "    lines = [i.strip().split() for i in lines]\n",
    "    lines = [i for i in lines if len(i) > 1 and i[1] in ['Si','Al']]\n",
    "    ats = [1 if i[1] == 'Al' else 0 for i in lines]\n",
    "\n",
    "    atoms[i] = ats"
   ]
  },
  {
   "cell_type": "code",
   "execution_count": null,
   "id": "1ac61779-c8ce-439f-84c1-39853b368cf0",
   "metadata": {},
   "outputs": [],
   "source": []
  },
  {
   "cell_type": "code",
   "execution_count": 117,
   "id": "8ec67430-2d1d-4db3-aef6-1e754cedc629",
   "metadata": {},
   "outputs": [
    {
     "data": {
      "text/plain": [
       "((48, 3), (96, 3))"
      ]
     },
     "execution_count": 117,
     "metadata": {},
     "output_type": "execute_result"
    }
   ],
   "source": [
    "pos.shape, pos_o.shape"
   ]
  },
  {
   "cell_type": "code",
   "execution_count": 121,
   "id": "d3034afa-1c03-48c3-8ccc-4d0a492066ba",
   "metadata": {},
   "outputs": [],
   "source": [
    "d_o_a = np.zeros((48,96))\n",
    "\n",
    "for i in range(d_o_a.shape[0]):\n",
    "    for j in range(d_o_a.shape[1]):\n",
    "        d = distance(pos[i], pos_o[j])\n",
    "        d = np.sqrt(((d*l)**2).sum())\n",
    "        d_o_a[i,j] = d"
   ]
  },
  {
   "cell_type": "code",
   "execution_count": 132,
   "id": "8b18f65a-bf76-4aaf-ba6a-b8b623781d5b",
   "metadata": {},
   "outputs": [],
   "source": [
    "A = np.zeros((len(d_o_a),len(d_o_a)))\n",
    "for i in range(len(d_o_a)):\n",
    "\n",
    "    ind = np.argpartition(d_o_a[i], 4)[:4]\n",
    "\n",
    "    for idx in ind:\n",
    "\n",
    "        ind2 = np.argpartition(d_o_a[:,idx], 2)[:2]\n",
    "        j = ind2[ind2!=i]\n",
    "        A[i,j] = 1"
   ]
  },
  {
   "cell_type": "code",
   "execution_count": 136,
   "id": "9db7fa0f-dd64-4d9b-9036-58ba5948fd49",
   "metadata": {},
   "outputs": [
    {
     "data": {
      "text/plain": [
       "(array([4., 4., 4., 4., 4., 4., 4., 4., 4., 4., 4., 4., 4., 4., 4., 4., 4.,\n",
       "        4., 4., 4., 4., 4., 4., 4., 4., 4., 4., 4., 4., 4., 4., 4., 4., 4.,\n",
       "        4., 4., 4., 4., 4., 4., 4., 4., 4., 4., 4., 4., 4., 4.]),\n",
       " array([4., 4., 4., 4., 4., 4., 4., 4., 4., 4., 4., 4., 4., 4., 4., 4., 4.,\n",
       "        4., 4., 4., 4., 4., 4., 4., 4., 4., 4., 4., 4., 4., 4., 4., 4., 4.,\n",
       "        4., 4., 4., 4., 4., 4., 4., 4., 4., 4., 4., 4., 4., 4.]))"
      ]
     },
     "execution_count": 136,
     "metadata": {},
     "output_type": "execute_result"
    }
   ],
   "source": [
    "A.sum(1), A.sum(0)"
   ]
  },
  {
   "cell_type": "code",
   "execution_count": 128,
   "id": "fabbfaea-5eef-4e54-a693-58d66097376b",
   "metadata": {},
   "outputs": [
    {
     "data": {
      "text/plain": [
       "array([[ 1, 79],\n",
       "       [73,  3],\n",
       "       [75,  5],\n",
       "       [77,  7],\n",
       "       [ 9, 67],\n",
       "       [11, 69],\n",
       "       [13, 71],\n",
       "       [15, 65],\n",
       "       [17, 63],\n",
       "       [57, 19],\n",
       "       [21, 59],\n",
       "       [23, 61],\n",
       "       [51, 25],\n",
       "       [53, 27],\n",
       "       [29, 55],\n",
       "       [49, 31],\n",
       "       [33, 89],\n",
       "       [35, 95],\n",
       "       [91, 37],\n",
       "       [93, 39],\n",
       "       [81, 41],\n",
       "       [43, 85],\n",
       "       [87, 45],\n",
       "       [47, 83],\n",
       "       [15, 81],\n",
       "       [ 9, 95],\n",
       "       [11, 91],\n",
       "       [13, 93],\n",
       "       [83,  3],\n",
       "       [85,  5],\n",
       "       [87,  7],\n",
       "       [ 1, 89],\n",
       "       [49, 41],\n",
       "       [35, 51],\n",
       "       [53, 37],\n",
       "       [55, 39],\n",
       "       [47, 57],\n",
       "       [43, 59],\n",
       "       [61, 45],\n",
       "       [33, 63],\n",
       "       [31, 65],\n",
       "       [73, 19],\n",
       "       [21, 75],\n",
       "       [23, 77],\n",
       "       [79, 17],\n",
       "       [69, 27],\n",
       "       [29, 71],\n",
       "       [67, 25]], dtype=int64)"
      ]
     },
     "execution_count": 128,
     "metadata": {},
     "output_type": "execute_result"
    }
   ],
   "source": [
    "np.argsort(d_o_a, 1)[:, :2]"
   ]
  },
  {
   "cell_type": "code",
   "execution_count": 59,
   "id": "18b84fa7-3e29-44c0-94f9-31fd0bb5b3a6",
   "metadata": {},
   "outputs": [],
   "source": [
    "neighs = np.argsort(dist_o_a, axis=-1)[:,:2]"
   ]
  },
  {
   "cell_type": "code",
   "execution_count": 60,
   "id": "00046eee-1e21-49b2-adef-2726d9f86ea7",
   "metadata": {},
   "outputs": [
    {
     "data": {
      "text/plain": [
       "array([[ 1, 79],\n",
       "       [73,  3],\n",
       "       [75,  5],\n",
       "       [77,  7],\n",
       "       [ 9, 67],\n",
       "       [11, 69],\n",
       "       [13, 71],\n",
       "       [65, 15],\n",
       "       [17, 63],\n",
       "       [57, 19],\n",
       "       [21, 59],\n",
       "       [23, 61],\n",
       "       [51, 25],\n",
       "       [53, 27],\n",
       "       [29, 55],\n",
       "       [31, 49],\n",
       "       [33, 89],\n",
       "       [35, 95],\n",
       "       [91, 37],\n",
       "       [93, 39],\n",
       "       [41, 81],\n",
       "       [43, 85],\n",
       "       [87, 45],\n",
       "       [47, 83],\n",
       "       [81, 15],\n",
       "       [ 9, 95],\n",
       "       [11, 91],\n",
       "       [13, 93],\n",
       "       [83,  3],\n",
       "       [85,  5],\n",
       "       [ 7, 87],\n",
       "       [ 1, 89],\n",
       "       [41, 49],\n",
       "       [35, 51],\n",
       "       [53, 37],\n",
       "       [55, 39],\n",
       "       [47, 57],\n",
       "       [43, 59],\n",
       "       [61, 45],\n",
       "       [63, 33],\n",
       "       [65, 31],\n",
       "       [73, 19],\n",
       "       [21, 75],\n",
       "       [23, 77],\n",
       "       [17, 79],\n",
       "       [69, 27],\n",
       "       [29, 71],\n",
       "       [67, 25]], dtype=int64)"
      ]
     },
     "execution_count": 60,
     "metadata": {},
     "output_type": "execute_result"
    }
   ],
   "source": [
    "neighs"
   ]
  },
  {
   "cell_type": "code",
   "execution_count": null,
   "id": "d16c3bc5-0503-440b-b868-eabf08a63586",
   "metadata": {},
   "outputs": [],
   "source": []
  }
 ],
 "metadata": {
  "kernelspec": {
   "display_name": "Python 3 (ipykernel)",
   "language": "python",
   "name": "python3"
  },
  "language_info": {
   "codemirror_mode": {
    "name": "ipython",
    "version": 3
   },
   "file_extension": ".py",
   "mimetype": "text/x-python",
   "name": "python",
   "nbconvert_exporter": "python",
   "pygments_lexer": "ipython3",
   "version": "3.10.12"
  }
 },
 "nbformat": 4,
 "nbformat_minor": 5
}
