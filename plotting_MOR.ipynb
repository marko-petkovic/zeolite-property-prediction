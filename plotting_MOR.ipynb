{
 "cells": [
  {
   "cell_type": "code",
   "execution_count": 1,
   "id": "f3efd022-431e-4c99-9062-f61ef85fa695",
   "metadata": {},
   "outputs": [],
   "source": [
    "import os\n",
    "import sys\n",
    "sys.path.append(os.getcwd())\n",
    "sys.path.insert(0, \"../zeolite-property-prediction/code/\")\n",
    "sys.path.insert(0, \"../zeolite-property-prediction/\")\n",
    "\n",
    "\n",
    "import numpy as np\n",
    "import pandas as pd\n",
    "import torch\n",
    "import torch.nn as nn\n",
    "import torch.nn.functional as F\n",
    "\n",
    "import torch.optim as optim\n",
    "\n",
    "import matplotlib.pyplot as plt\n",
    "import matplotlib.ticker as tick\n",
    "\n",
    "from tqdm import tqdm\n",
    "\n",
    "\n",
    "from models.equivariant_mpnn import MPNN, MPNNPORE\n",
    "from utils.ZeoliteData import get_zeolite, get_data_pore, get_data_graph, get_data_megnet\n",
    "from utils.dataloading import get_data, get_graph_data"
   ]
  },
  {
   "cell_type": "code",
   "execution_count": 2,
   "id": "2c0b07e6-76a3-416a-a251-adc2c7819176",
   "metadata": {},
   "outputs": [],
   "source": [
    "import matplotlib as mpl"
   ]
  },
  {
   "cell_type": "code",
   "execution_count": 3,
   "id": "6ff58c30-008d-4638-b374-ed14dfae9ed3",
   "metadata": {},
   "outputs": [],
   "source": [
    "plt.rc('font', family='serif',)\n"
   ]
  },
  {
   "cell_type": "code",
   "execution_count": 4,
   "id": "fb7220d8-320b-4679-a4ae-32f014a675be",
   "metadata": {},
   "outputs": [],
   "source": [
    "from matplotlib import rc"
   ]
  },
  {
   "cell_type": "code",
   "execution_count": 59,
   "id": "9a7b3a46-df85-42dc-b5bf-04c4cf4f2ec0",
   "metadata": {},
   "outputs": [],
   "source": [
    "data = get_zeolite('MOR', True)\n",
    "    \n",
    "ref = data['ref'] # reflections\n",
    "tra = data['tra'] # translations\n",
    "l = data['l'] # scale of the unit cell\n",
    "\n",
    "# specific for MOR\n",
    "atoms, hoa, X, A, d, X_pore, A_pore, d_pore, pore = get_data(l, 'MOR')\n",
    "\n",
    "edges, idx1, idx2, idx2_oh = get_graph_data(A, d)\n",
    "edges_sp, idx1_sp, idx2_sp, idx2_oh_sp = get_graph_data(A_pore, d_pore)\n",
    "edges_ps, idx1_ps, idx2_ps, idx2_oh_ps = get_graph_data(A_pore.T, d_pore.T)"
   ]
  },
  {
   "cell_type": "code",
   "execution_count": 6,
   "id": "99d1e285-d1db-47c6-83a8-68d00b0ec164",
   "metadata": {},
   "outputs": [],
   "source": [
    "_, testloader, trainloader = get_data_pore(atoms, hoa, edges, pore, edges_sp, edges_ps, bs=32, random=True)"
   ]
  },
  {
   "cell_type": "code",
   "execution_count": 7,
   "id": "7d0fabe0-3ea5-44e9-b918-f4c40492c82e",
   "metadata": {},
   "outputs": [],
   "source": [
    "trainX = trainloader.dataset.X.sum((1,2))[:,None].numpy()\n",
    "trainy = trainloader.dataset.y[:,None].numpy()\n",
    "testX = testloader.dataset.X.sum((1,2))[:,None].numpy()\n",
    "testy = testloader.dataset.y[:,None].numpy()"
   ]
  },
  {
   "cell_type": "code",
   "execution_count": 8,
   "id": "0c1678ff-9b63-4775-a55b-d397c6857476",
   "metadata": {},
   "outputs": [],
   "source": [
    "from sklearn.linear_model import LinearRegression as LR"
   ]
  },
  {
   "cell_type": "code",
   "execution_count": 9,
   "id": "e30695e3-91b8-40fd-a3a7-7f6780ce64d8",
   "metadata": {},
   "outputs": [
    {
     "data": {
      "text/html": [
       "<style>#sk-container-id-1 {color: black;}#sk-container-id-1 pre{padding: 0;}#sk-container-id-1 div.sk-toggleable {background-color: white;}#sk-container-id-1 label.sk-toggleable__label {cursor: pointer;display: block;width: 100%;margin-bottom: 0;padding: 0.3em;box-sizing: border-box;text-align: center;}#sk-container-id-1 label.sk-toggleable__label-arrow:before {content: \"▸\";float: left;margin-right: 0.25em;color: #696969;}#sk-container-id-1 label.sk-toggleable__label-arrow:hover:before {color: black;}#sk-container-id-1 div.sk-estimator:hover label.sk-toggleable__label-arrow:before {color: black;}#sk-container-id-1 div.sk-toggleable__content {max-height: 0;max-width: 0;overflow: hidden;text-align: left;background-color: #f0f8ff;}#sk-container-id-1 div.sk-toggleable__content pre {margin: 0.2em;color: black;border-radius: 0.25em;background-color: #f0f8ff;}#sk-container-id-1 input.sk-toggleable__control:checked~div.sk-toggleable__content {max-height: 200px;max-width: 100%;overflow: auto;}#sk-container-id-1 input.sk-toggleable__control:checked~label.sk-toggleable__label-arrow:before {content: \"▾\";}#sk-container-id-1 div.sk-estimator input.sk-toggleable__control:checked~label.sk-toggleable__label {background-color: #d4ebff;}#sk-container-id-1 div.sk-label input.sk-toggleable__control:checked~label.sk-toggleable__label {background-color: #d4ebff;}#sk-container-id-1 input.sk-hidden--visually {border: 0;clip: rect(1px 1px 1px 1px);clip: rect(1px, 1px, 1px, 1px);height: 1px;margin: -1px;overflow: hidden;padding: 0;position: absolute;width: 1px;}#sk-container-id-1 div.sk-estimator {font-family: monospace;background-color: #f0f8ff;border: 1px dotted black;border-radius: 0.25em;box-sizing: border-box;margin-bottom: 0.5em;}#sk-container-id-1 div.sk-estimator:hover {background-color: #d4ebff;}#sk-container-id-1 div.sk-parallel-item::after {content: \"\";width: 100%;border-bottom: 1px solid gray;flex-grow: 1;}#sk-container-id-1 div.sk-label:hover label.sk-toggleable__label {background-color: #d4ebff;}#sk-container-id-1 div.sk-serial::before {content: \"\";position: absolute;border-left: 1px solid gray;box-sizing: border-box;top: 0;bottom: 0;left: 50%;z-index: 0;}#sk-container-id-1 div.sk-serial {display: flex;flex-direction: column;align-items: center;background-color: white;padding-right: 0.2em;padding-left: 0.2em;position: relative;}#sk-container-id-1 div.sk-item {position: relative;z-index: 1;}#sk-container-id-1 div.sk-parallel {display: flex;align-items: stretch;justify-content: center;background-color: white;position: relative;}#sk-container-id-1 div.sk-item::before, #sk-container-id-1 div.sk-parallel-item::before {content: \"\";position: absolute;border-left: 1px solid gray;box-sizing: border-box;top: 0;bottom: 0;left: 50%;z-index: -1;}#sk-container-id-1 div.sk-parallel-item {display: flex;flex-direction: column;z-index: 1;position: relative;background-color: white;}#sk-container-id-1 div.sk-parallel-item:first-child::after {align-self: flex-end;width: 50%;}#sk-container-id-1 div.sk-parallel-item:last-child::after {align-self: flex-start;width: 50%;}#sk-container-id-1 div.sk-parallel-item:only-child::after {width: 0;}#sk-container-id-1 div.sk-dashed-wrapped {border: 1px dashed gray;margin: 0 0.4em 0.5em 0.4em;box-sizing: border-box;padding-bottom: 0.4em;background-color: white;}#sk-container-id-1 div.sk-label label {font-family: monospace;font-weight: bold;display: inline-block;line-height: 1.2em;}#sk-container-id-1 div.sk-label-container {text-align: center;}#sk-container-id-1 div.sk-container {/* jupyter's `normalize.less` sets `[hidden] { display: none; }` but bootstrap.min.css set `[hidden] { display: none !important; }` so we also need the `!important` here to be able to override the default hidden behavior on the sphinx rendered scikit-learn.org. See: https://github.com/scikit-learn/scikit-learn/issues/21755 */display: inline-block !important;position: relative;}#sk-container-id-1 div.sk-text-repr-fallback {display: none;}</style><div id=\"sk-container-id-1\" class=\"sk-top-container\"><div class=\"sk-text-repr-fallback\"><pre>LinearRegression()</pre><b>In a Jupyter environment, please rerun this cell to show the HTML representation or trust the notebook. <br />On GitHub, the HTML representation is unable to render, please try loading this page with nbviewer.org.</b></div><div class=\"sk-container\" hidden><div class=\"sk-item\"><div class=\"sk-estimator sk-toggleable\"><input class=\"sk-toggleable__control sk-hidden--visually\" id=\"sk-estimator-id-1\" type=\"checkbox\" checked><label for=\"sk-estimator-id-1\" class=\"sk-toggleable__label sk-toggleable__label-arrow\">LinearRegression</label><div class=\"sk-toggleable__content\"><pre>LinearRegression()</pre></div></div></div></div></div>"
      ],
      "text/plain": [
       "LinearRegression()"
      ]
     },
     "execution_count": 9,
     "metadata": {},
     "output_type": "execute_result"
    }
   ],
   "source": [
    "lr = LR()\n",
    "lr.fit(trainX, trainy)"
   ]
  },
  {
   "cell_type": "code",
   "execution_count": 10,
   "id": "4fbb26f2-3c57-413f-b4c4-785253da8d9a",
   "metadata": {},
   "outputs": [],
   "source": [
    "yhat = lr.predict(testX)"
   ]
  },
  {
   "cell_type": "code",
   "execution_count": 11,
   "id": "b40b646f-734e-4682-b43f-7b87be6bbfd9",
   "metadata": {},
   "outputs": [
    {
     "data": {
      "text/plain": [
       "((500, 1), (500, 1))"
      ]
     },
     "execution_count": 11,
     "metadata": {},
     "output_type": "execute_result"
    }
   ],
   "source": [
    "yhat.shape, testy.shape"
   ]
  },
  {
   "cell_type": "code",
   "execution_count": 12,
   "id": "bb7bc0e6-217d-4bb3-b43f-c52e5ce17a14",
   "metadata": {},
   "outputs": [],
   "source": [
    "lr_mse, lr_mae = np.mean((testy - yhat)**2), np.mean(np.abs(testy - yhat))"
   ]
  },
  {
   "cell_type": "code",
   "execution_count": 13,
   "id": "e46e64d1-5f63-4d8d-b4f7-6b334abb33dd",
   "metadata": {},
   "outputs": [
    {
     "data": {
      "text/plain": [
       "(6.583005794436991, 1.9449891450851584)"
      ]
     },
     "execution_count": 13,
     "metadata": {},
     "output_type": "execute_result"
    }
   ],
   "source": [
    "lr_mse, lr_mae"
   ]
  },
  {
   "cell_type": "code",
   "execution_count": 14,
   "id": "47419a91-fc9a-4744-a300-d0d733c24c1e",
   "metadata": {},
   "outputs": [],
   "source": [
    "title_size=7.5\n",
    "label_size=7"
   ]
  },
  {
   "cell_type": "code",
   "execution_count": 15,
   "id": "fea42040-dc95-4d30-ab01-2ac836b207fa",
   "metadata": {},
   "outputs": [
    {
     "data": {
      "image/png": "[encoded data removed]",
      "text/plain": [
       "<Figure size 225x175 with 1 Axes>"
      ]
     },
     "metadata": {},
     "output_type": "display_data"
    }
   ],
   "source": [
    "plt.figure(figsize=(2.25,1.75))\n",
    "plt.hist(hoa, bins=np.arange(20,55,1))\n",
    "plt.xlabel('CO$_2$ heat of adsorption (kJ/mol)', fontsize=label_size)\n",
    "plt.ylabel('Count', fontsize=label_size)\n",
    "plt.xticks(fontsize=6)\n",
    "plt.yticks(fontsize=6, rotation='vertical')\n",
    "plt.title('HoA distribution for MOR dataset', fontsize=title_size)\n",
    "plt.xlim(20,55)\n",
    "plt.savefig('figures/datadist_mor.pdf', dpi=1200, bbox_inches=\"tight\")\n",
    "tikzz = plt.xticks()[0]"
   ]
  },
  {
   "cell_type": "code",
   "execution_count": null,
   "id": "1f214754-f4d4-45df-9832-a1142a9d2824",
   "metadata": {},
   "outputs": [],
   "source": []
  },
  {
   "cell_type": "code",
   "execution_count": 16,
   "id": "f7b4bf14-7c93-4e76-bc9b-be98df6f4a40",
   "metadata": {},
   "outputs": [],
   "source": [
    "hoa_x = np.tile(np.linspace(20,55,35)[:,None], (1,12))\n",
    "hoa_y = np.tile(np.arange(0,12,1)[None], (hoa_x.shape[0],1))\n"
   ]
  },
  {
   "cell_type": "code",
   "execution_count": 17,
   "id": "ec2daf83-a462-453b-b86a-01845571e31e",
   "metadata": {},
   "outputs": [],
   "source": [
    "zi = np.zeros((len(hoa_x),12))\n",
    "\n",
    "for i in range(len(atoms)):\n",
    "    \n",
    "    curr_h = hoa[i]\n",
    "    \n",
    "    n_als = atoms[i].sum() - 1\n",
    "    if n_als == -1:\n",
    "        n_als = 0\n",
    "              \n",
    "    for _x in range(0,len(hoa_x)-1):\n",
    "        \n",
    "        if hoa_x[_x, n_als] < curr_h <= hoa_x[_x+1, n_als]:\n",
    "            zi[_x, n_als] += 1"
   ]
  },
  {
   "cell_type": "code",
   "execution_count": null,
   "id": "9af2d1a7-77b0-4aa1-b2f2-424cb8f553ff",
   "metadata": {},
   "outputs": [],
   "source": []
  },
  {
   "cell_type": "code",
   "execution_count": 18,
   "id": "a7947391-72e8-49bc-8a97-b607da3529a0",
   "metadata": {},
   "outputs": [],
   "source": [
    "zi = zi/zi.sum(0)[None]"
   ]
  },
  {
   "cell_type": "code",
   "execution_count": null,
   "id": "10b54fb1-adc0-40ee-adc5-46729820e45f",
   "metadata": {},
   "outputs": [],
   "source": []
  },
  {
   "cell_type": "code",
   "execution_count": 19,
   "id": "0c99e7a8-f619-49b3-a86a-6abe6a9f0f0e",
   "metadata": {},
   "outputs": [
    {
     "data": {
      "image/png": "[encoded data removed]",
      "text/plain": [
       "<Figure size 225x175 with 2 Axes>"
      ]
     },
     "metadata": {},
     "output_type": "display_data"
    }
   ],
   "source": [
    "fig, ax = plt.subplots(figsize=(2.25,1.75))\n",
    "CS = plt.pcolormesh(hoa_x, hoa_y, zi,\n",
    "                  vmax=zi.max(), vmin=0, cmap='Blues')\n",
    "\n",
    "plt.xlabel(f\"CO$_2$ heat of adsorption (kJ/mol)\", fontsize=label_size)\n",
    "plt.ylabel(f\"Amount of Al atoms\", fontsize=label_size)\n",
    "plt.title(\"HoA distribution per Al atoms\", fontsize=title_size)\n",
    "cbar = plt.colorbar()\n",
    "plt.yticks(np.arange(0.,12,1), ['0/1'] + np.arange(2,13,1).tolist(), fontsize=6, rotation='horizontal')\n",
    "plt.xticks(tikzz)\n",
    "plt.xticks(fontsize=6)\n",
    "plt.xlim(20,55)\n",
    "plt.ylim(-0.5,11.5)\n",
    "cbar.ax.tick_params(labelsize=6, rotation=270,pad=0)\n",
    "cbar.ax.get_yaxis().labelpad = 8\n",
    "cbar.ax.yaxis.set_major_formatter(tick.FormatStrFormatter('%.1f'))\n",
    "cbar.set_label('Proportion', rotation=270, fontsize=label_size)\n",
    "plt.savefig('figures/aldist_mor.pdf', dpi=1200, bbox_inches=\"tight\")"
   ]
  },
  {
   "cell_type": "code",
   "execution_count": 20,
   "id": "4b332147-9e5c-4724-beb7-33869abafeaa",
   "metadata": {},
   "outputs": [
    {
     "data": {
      "text/plain": [
       "((35, 12), (35, 12), (35, 12))"
      ]
     },
     "execution_count": 20,
     "metadata": {},
     "output_type": "execute_result"
    }
   ],
   "source": [
    "hoa_x.shape, hoa_y.shape, zi.shape"
   ]
  },
  {
   "cell_type": "code",
   "execution_count": 21,
   "id": "63460339-6aae-44b2-81c3-a2d339a158c7",
   "metadata": {},
   "outputs": [],
   "source": [
    "mpnn = MPNNPORE(idx1.to('cuda'), idx2.to('cuda'), idx2_oh.to('cuda'), X, X_pore, ref, tra,\n",
    "                    idx1_sp.to('cuda'), idx2_sp.to('cuda'), idx2_oh_sp.to('cuda'), \n",
    "                    idx1_ps.to('cuda'), idx2_ps.to('cuda'), idx2_oh_ps.to('cuda'),\n",
    "                    hid_size=[8]*6, site_emb_size=8, edge_emb_size=8, mlp_size=24,\n",
    "                    centers=10, mx_d=6, width=1, pool='sum', pool_pore=True).to('cuda')"
   ]
  },
  {
   "cell_type": "code",
   "execution_count": 22,
   "id": "0749c5ec-1880-4bc6-8743-5177aa36d57f",
   "metadata": {},
   "outputs": [],
   "source": [
    "def get_95_CI(x):\n",
    "    \n",
    "    ci = 1.96*np.std(x)/np.sqrt(len(x))\n",
    "    return ci"
   ]
  },
  {
   "cell_type": "code",
   "execution_count": 23,
   "id": "910f3219-dc8f-49f6-a927-b30b1cc28dc3",
   "metadata": {},
   "outputs": [
    {
     "name": "stderr",
     "output_type": "stream",
     "text": [
      "100%|██████████████████████████████████████████████████████████████████████████████████| 10/10 [00:09<00:00,  1.06it/s]\n"
     ]
    }
   ],
   "source": [
    "_mae_p = []\n",
    "_mse_p = []\n",
    "\n",
    "\n",
    "for j in tqdm(range(1,11)):\n",
    "\n",
    "    mpnn.load_state_dict(torch.load(f'model_data_random/MOR/1.0/pore/model_{j}/model.pth'))\n",
    "    y_pred, y_true = mpnn.predict(testloader)\n",
    "\n",
    "    _mse = ((y_pred - y_true)**2).mean().item()\n",
    "    _mae = (y_pred - y_true).abs().mean().item()\n",
    "\n",
    "    _mae_p.append(_mae)\n",
    "    _mse_p.append(_mse)\n",
    "\n",
    "\n",
    "mae_p  = np.mean(_mae_p)\n",
    "mse_p = np.mean(_mse_p)\n",
    "\n",
    "\n",
    "mae_p_ci = get_95_CI(_mae_p)\n",
    "mse_p_ci = get_95_CI(_mse_p)"
   ]
  },
  {
   "cell_type": "code",
   "execution_count": 24,
   "id": "a6e7d2fc-4af0-4203-97bc-2047ec2bb01c",
   "metadata": {},
   "outputs": [],
   "source": [
    "best_idx = np.argmin(_mae_p)\n",
    "mpnn.load_state_dict(torch.load(f'model_data_random/MOR/1.0/pore/model_{best_idx+1}/model.pth'))\n",
    "y_pred, y_true = mpnn.predict(testloader)"
   ]
  },
  {
   "cell_type": "code",
   "execution_count": null,
   "id": "43fb375b-823b-447d-a217-9810bf8aa71c",
   "metadata": {},
   "outputs": [],
   "source": []
  },
  {
   "cell_type": "code",
   "execution_count": 72,
   "id": "ccc30d71-bdf4-42a9-82a3-d521d9763347",
   "metadata": {},
   "outputs": [],
   "source": [
    "_X, _bonds, _X_p, _bonds_sp, _bonds_ps, _y = next(iter(testloader))"
   ]
  },
  {
   "cell_type": "code",
   "execution_count": 73,
   "id": "edf5a080-ed2c-439d-ac4c-53453025ff75",
   "metadata": {},
   "outputs": [],
   "source": [
    "pred, hidden = mpnn.forward(_X.float().cuda(), _bonds.float().cuda(), _X_p.float().cuda(), _bonds_sp.float().cuda(), _bonds_ps.float().cuda(), return_hidden=True)"
   ]
  },
  {
   "cell_type": "code",
   "execution_count": 74,
   "id": "8479be19-225f-4f59-9508-425ca75f0711",
   "metadata": {},
   "outputs": [],
   "source": [
    "hid = hidden[0].detach().cpu()"
   ]
  },
  {
   "cell_type": "code",
   "execution_count": 75,
   "id": "a2effbd0-27dd-4777-a4d5-cc4284b6c8b2",
   "metadata": {},
   "outputs": [],
   "source": [
    "hid = hid.abs().sum(1).numpy()"
   ]
  },
  {
   "cell_type": "code",
   "execution_count": 78,
   "id": "ed0098fb-9897-424a-8d9e-3f1edf0e18ca",
   "metadata": {},
   "outputs": [
    {
     "data": {
      "text/plain": [
       "array([156.80916 , 153.51634 ,  68.67219 ,  62.806957,  22.784391,\n",
       "        21.334812,  22.65324 ,  23.716782,  44.830017,  39.948647,\n",
       "        49.29442 ,  51.359108,  24.696802,  13.966723,  13.890806,\n",
       "        27.55384 ], dtype=float32)"
      ]
     },
     "execution_count": 78,
     "metadata": {},
     "output_type": "execute_result"
    }
   ],
   "source": [
    "hid"
   ]
  },
  {
   "cell_type": "code",
   "execution_count": 88,
   "id": "d2eaf799-5c1f-4218-b588-1c20f5c44970",
   "metadata": {},
   "outputs": [
    {
     "data": {
      "text/plain": [
       "<matplotlib.colorbar.Colorbar at 0x218b781b9d0>"
      ]
     },
     "execution_count": 88,
     "metadata": {},
     "output_type": "execute_result"
    },
    {
     "data": {
      "image/png": "[encoded data removed]",
      "text/plain": [
       "<Figure size 640x480 with 2 Axes>"
      ]
     },
     "metadata": {},
     "output_type": "display_data"
    }
   ],
   "source": [
    "\n",
    "plt.vlines([0,1], -1, 2, color='black', zorder=-200, alpha=0.5)\n",
    "plt.hlines([0,1], -1, 2, color='black', zorder=-200, alpha=0.5)\n",
    "\n",
    "\n",
    "plt.scatter(X[:,0], X[:,1], c= 'r')\n",
    "plt.scatter(X[:,0]+1, X[:,1]+1, c= 'r')\n",
    "plt.scatter(X[:,0]+1, X[:,1], c= 'r')\n",
    "plt.scatter(X[:,0], X[:,1]+1, c= 'r')\n",
    "\n",
    "\n",
    "plt.scatter(X[:,0]-1, X[:,1]-1, c= 'r')\n",
    "plt.scatter(X[:,0]-1, X[:,1], c= 'r')\n",
    "plt.scatter(X[:,0], X[:,1]-1, c= 'r')\n",
    "\n",
    "plt.scatter(X_pore[:,0], X_pore[:,1], c= hid, s=15)\n",
    "plt.scatter(X_pore[:,0]+1, X_pore[:,1]+1, c= hid, s=15)\n",
    "plt.scatter(X_pore[:,0]+1, X_pore[:,1], c= hid, s=15)\n",
    "plt.scatter(X_pore[:,0], X_pore[:,1]+1, c= hid, s=15)\n",
    "\n",
    "\n",
    "for i in range(A.shape[0]):\n",
    "    for j in range(A.shape[1]):\n",
    "        pass\n",
    "\n",
    "plt.xlim(-0.1,1.1)\n",
    "plt.ylim(-0.1,1.1)\n",
    "plt.colorbar()"
   ]
  },
  {
   "cell_type": "code",
   "execution_count": 81,
   "id": "ba3fabf7-6fe1-4356-a9ef-ee7d1c113f24",
   "metadata": {},
   "outputs": [
    {
     "data": {
      "text/plain": [
       "tensor([[-1.0400e-02,  2.6376e+01, -1.8811e-01, -9.6198e-02, -1.2540e-01,\n",
       "          5.5861e+00,  1.4925e+01, -2.3626e-01,  3.1855e+00, -1.0106e-03,\n",
       "         -1.9091e-01, -2.0032e-01,  2.0198e+01, -2.1612e-02, -3.7148e-01,\n",
       "          1.8951e+01, -1.6085e-01, -3.3693e-02, -3.3584e-01, -2.2447e-01,\n",
       "          3.7135e+01,  1.5571e+01, -2.4498e-02,  1.2661e+01],\n",
       "        [-8.4321e-03,  2.5933e+01, -1.8866e-01, -7.6087e-02, -1.2236e-01,\n",
       "          5.1124e+00,  1.4129e+01, -2.2542e-01,  2.5098e+00, -5.0644e-03,\n",
       "         -1.8451e-01, -1.8152e-01,  2.0228e+01, -3.0288e-02, -3.6221e-01,\n",
       "          1.8348e+01, -1.5699e-01, -3.3142e-02, -3.2931e-01, -2.1536e-01,\n",
       "          3.6864e+01,  1.5928e+01, -3.3912e-02,  1.2311e+01],\n",
       "        [ 9.8908e-01,  1.2972e+01, -1.3309e-01, -1.7444e-02, -4.2409e-02,\n",
       "          4.5719e+00,  3.6037e+00, -5.8306e-02, -1.0840e-02,  7.6119e-01,\n",
       "         -3.0052e-02, -1.6965e-02,  1.0704e+01, -3.6853e-02, -1.1881e-01,\n",
       "          4.0448e+00, -9.6868e-02, -5.3230e-02, -2.0115e-01, -9.8097e-02,\n",
       "          1.9344e+01,  6.1009e+00, -5.5727e-02,  4.6111e+00],\n",
       "        [ 2.2849e+00,  1.1696e+01, -1.0322e-01, -1.4904e-02, -4.5853e-02,\n",
       "          4.6970e+00,  4.1321e+00, -7.7523e-02, -5.7872e-04, -1.0358e-02,\n",
       "         -2.9571e-02, -3.0975e-02,  7.5417e+00, -2.8603e-02, -1.0173e-01,\n",
       "          5.4697e+00, -8.1020e-02, -3.5179e-02, -1.7197e-01, -1.0272e-01,\n",
       "          1.7182e+01,  5.3970e+00, -4.6201e-02,  3.5261e+00],\n",
       "        [ 1.9493e+00,  4.0996e+00, -3.4340e-02, -1.8551e-02, -7.8324e-03,\n",
       "          2.4910e+00,  7.5678e-01, -2.7236e-02,  6.1826e-01, -1.8027e-03,\n",
       "         -3.2374e-02, -4.4910e-03,  1.2790e+00, -2.8115e-03, -3.3279e-02,\n",
       "          1.3927e+00, -1.1760e-02, -4.1152e-03, -3.9411e-02, -5.5136e-02,\n",
       "          6.5123e+00,  1.7315e+00, -1.8506e-02,  1.6625e+00],\n",
       "        [ 2.1191e+00,  3.9437e+00, -2.8887e-02, -1.0631e-02, -8.9891e-03,\n",
       "          2.4702e+00,  6.1536e-01, -3.0711e-02,  4.4871e-01, -6.6132e-03,\n",
       "         -2.6514e-02, -2.8128e-04,  7.1621e-01, -1.7617e-03, -2.7312e-02,\n",
       "          1.8306e+00, -1.0499e-02, -2.6286e-03, -4.0385e-02, -5.2242e-02,\n",
       "          5.9287e+00,  1.7251e+00, -1.9848e-02,  1.2698e+00],\n",
       "        [ 1.7930e+00,  4.2590e+00, -3.6959e-02, -1.2111e-02, -8.2808e-03,\n",
       "          2.3220e+00,  5.7137e-01, -2.5524e-02,  2.1437e-01, -1.6202e-03,\n",
       "         -2.7994e-02,  1.2543e-01,  1.6520e+00, -4.6085e-03, -3.2675e-02,\n",
       "          1.3769e+00, -1.4920e-02, -6.9594e-03, -4.5928e-02, -5.0782e-02,\n",
       "          6.4921e+00,  1.9388e+00, -2.0917e-02,  1.6190e+00],\n",
       "        [ 1.9211e+00,  4.4291e+00, -4.0166e-02, -1.6494e-02, -8.7735e-03,\n",
       "          2.6810e+00,  7.0478e-01, -2.5420e-02,  3.9311e-01, -9.3152e-04,\n",
       "         -2.8124e-02, -1.0197e-03,  1.6745e+00, -5.1775e-03, -3.3736e-02,\n",
       "          1.2407e+00, -1.6148e-02, -7.8980e-03, -4.8218e-02, -5.6009e-02,\n",
       "          6.8629e+00,  1.7482e+00, -2.0345e-02,  1.7530e+00],\n",
       "        [-1.9422e-02,  8.2797e+00, -1.0023e-01, -3.9594e-02, -2.9009e-02,\n",
       "          5.3763e+00,  2.3284e+00, -2.2261e-02, -6.2154e-03,  2.8701e+00,\n",
       "         -1.2096e-02, -1.2556e-02,  6.8884e+00, -8.6037e-03, -9.8983e-02,\n",
       "          1.5728e+00, -6.1786e-02, -4.5501e-02, -1.5398e-01, -8.2194e-02,\n",
       "          1.0929e+01,  1.3879e+00, -1.1730e-02,  4.4936e+00],\n",
       "        [-1.3606e-02,  7.4606e+00, -8.9207e-02, -3.4813e-02, -2.6408e-02,\n",
       "          4.7795e+00,  2.1695e+00, -2.2474e-02, -5.5202e-03,  2.3150e+00,\n",
       "         -8.3316e-03, -1.2670e-02,  6.0695e+00, -9.4167e-03, -8.4109e-02,\n",
       "          1.4355e+00, -5.7473e-02, -4.1291e-02, -1.3757e-01, -7.3514e-02,\n",
       "          1.0084e+01,  1.3198e+00, -1.3572e-02,  3.6852e+00],\n",
       "        [-3.6235e-02,  8.7565e+00, -1.1105e-01, -4.9774e-02, -3.2082e-02,\n",
       "          6.2179e+00,  2.5748e+00, -1.8568e-02, -8.0818e-03,  3.9608e+00,\n",
       "         -5.5599e-03, -1.4910e-02,  7.8764e+00, -4.9195e-03, -1.1588e-01,\n",
       "          1.7089e+00, -7.0053e-02, -5.5843e-02, -1.8054e-01, -8.5811e-02,\n",
       "          1.1574e+01,  9.1267e-01, -1.0856e-02,  4.9126e+00],\n",
       "        [-3.6219e-02,  9.1070e+00, -1.1424e-01, -5.4217e-02, -3.3553e-02,\n",
       "          6.3604e+00,  2.8309e+00, -2.1134e-02, -6.6934e-03,  4.0847e+00,\n",
       "         -9.1689e-03, -1.9485e-02,  8.1515e+00, -4.4948e-03, -1.2127e-01,\n",
       "          1.8194e+00, -7.2190e-02, -5.6319e-02, -1.8404e-01, -9.0191e-02,\n",
       "          1.1977e+01,  9.7791e-01, -8.5772e-03,  5.2189e+00],\n",
       "        [ 1.1966e+00,  4.6166e+00, -4.5121e-02, -2.4599e-02, -1.2332e-02,\n",
       "          3.3235e+00,  1.0864e+00, -2.4589e-02,  5.3486e-01,  4.5318e-01,\n",
       "         -2.8415e-02, -7.2834e-03,  1.8642e+00, -1.8129e-03, -4.5327e-02,\n",
       "          1.2123e+00, -1.7520e-02, -9.5936e-03, -5.6112e-02, -6.3845e-02,\n",
       "          6.4690e+00,  1.1269e+00, -8.9236e-03,  2.4678e+00],\n",
       "        [ 2.1160e+00,  1.6263e+00, -1.0816e-02,  1.7225e+00, -2.5296e-03,\n",
       "          4.3275e-01, -2.9787e-03, -1.4219e-02, -5.9411e-03, -1.3906e-02,\n",
       "         -1.5776e-03,  1.4601e+00,  9.6523e-02, -1.2017e-02,  6.8027e-01,\n",
       "          6.3916e-01, -6.8709e-03, -2.1291e-03, -1.2294e-02, -1.3972e-02,\n",
       "          3.4133e+00,  1.6435e+00, -2.8884e-02, -8.1810e-03],\n",
       "        [ 2.0853e+00,  1.7519e+00, -1.2305e-02,  1.5803e+00, -3.1419e-03,\n",
       "          5.2351e-01, -2.1406e-03, -1.4724e-02, -5.4879e-03, -1.3318e-02,\n",
       "         -2.9057e-03,  1.3324e+00,  1.9494e-01, -1.1952e-02,  4.3374e-01,\n",
       "          6.6203e-01, -7.3785e-03, -2.2573e-03, -1.3710e-02, -1.6013e-02,\n",
       "          3.5439e+00,  1.6430e+00, -2.7803e-02, -6.6817e-03],\n",
       "        [ 5.9072e-01,  5.2276e+00, -5.4934e-02, -2.1898e-02, -1.7446e-02,\n",
       "          3.5718e+00,  1.4473e+00, -2.4695e-02,  1.9291e-01,  6.3124e-01,\n",
       "         -2.1724e-02, -8.5998e-03,  2.8592e+00, -6.3291e-03, -5.4975e-02,\n",
       "          1.3916e+00, -2.7131e-02, -1.6113e-02, -7.4656e-02, -6.5311e-02,\n",
       "          7.3086e+00,  1.2720e+00, -1.0564e-02,  2.6565e+00]], device='cuda:0',\n",
       "       grad_fn=<SelectBackward0>)"
      ]
     },
     "execution_count": 81,
     "metadata": {},
     "output_type": "execute_result"
    }
   ],
   "source": [
    "hidden[0]"
   ]
  },
  {
   "cell_type": "code",
   "execution_count": 69,
   "id": "48f2ee40-4ce0-4080-8b36-a57d5f4d7da1",
   "metadata": {},
   "outputs": [],
   "source": [
    "from scipy.interpolate import griddata"
   ]
  },
  {
   "cell_type": "code",
   "execution_count": 28,
   "id": "b1a66634-c794-4e8c-8cb2-845c30c1cf1b",
   "metadata": {},
   "outputs": [
    {
     "data": {
      "text/plain": [
       "(tensor(19.6512), tensor(47.6126), tensor(20.8601), tensor(48.3556))"
      ]
     },
     "execution_count": 28,
     "metadata": {},
     "output_type": "execute_result"
    }
   ],
   "source": [
    "y_pred.min(), y_pred.max(), y_true.min(), y_true.max()"
   ]
  },
  {
   "cell_type": "code",
   "execution_count": 100,
   "id": "f9da6dd8-182a-47d7-a5dc-d012cd94daba",
   "metadata": {},
   "outputs": [],
   "source": [
    "Z = torch.ones_like(y_pred)"
   ]
  },
  {
   "cell_type": "code",
   "execution_count": 29,
   "id": "a821a4bc-71aa-4710-b522-289eae3844b1",
   "metadata": {},
   "outputs": [],
   "source": [
    "nn = 60\n",
    "xmin = 20\n",
    "xmax = 50\n",
    "xi = np.linspace(xmin, xmax, nn)\n",
    "yi = np.linspace(xmin, xmax, nn)"
   ]
  },
  {
   "cell_type": "code",
   "execution_count": 30,
   "id": "5cbb4cdf-d733-479f-9823-fba8f5786d32",
   "metadata": {},
   "outputs": [],
   "source": [
    "#xi.shape, yi.shape, xi, yi"
   ]
  },
  {
   "cell_type": "code",
   "execution_count": 31,
   "id": "701adc9b-c415-4b5e-a60f-2ef721f3b177",
   "metadata": {},
   "outputs": [],
   "source": [
    "zi = np.zeros((nn,nn))\n",
    "\n",
    "for i in range(len(y_pred)):\n",
    "    \n",
    "    curr_p = y_pred[i].item()\n",
    "    curr_t = y_true[i].item()\n",
    "    \n",
    "    for _x in range(0,nn-1):\n",
    "        \n",
    "        if xi[_x] < curr_p <= xi[_x+1]:\n",
    "            \n",
    "            for _y in range(0,nn-1):\n",
    "                \n",
    "                if yi[_y] < curr_t <= xi[_y+1]:\n",
    "                    \n",
    "                    zi[_x,_y] += 1"
   ]
  },
  {
   "cell_type": "code",
   "execution_count": 32,
   "id": "554bb8f6-f026-475a-b1be-74eb3d4cd544",
   "metadata": {},
   "outputs": [],
   "source": [
    "n_colors = int(zi.max())"
   ]
  },
  {
   "cell_type": "code",
   "execution_count": 33,
   "id": "29bd91db-c620-49fe-94f3-bd097c376a33",
   "metadata": {},
   "outputs": [
    {
     "name": "stderr",
     "output_type": "stream",
     "text": [
      "C:\\Users\\20175552\\AppData\\Local\\Temp\\ipykernel_24820\\1783921490.py:2: MatplotlibDeprecationWarning: The get_cmap function was deprecated in Matplotlib 3.7 and will be removed two minor releases later. Use ``matplotlib.colormaps[name]`` or ``matplotlib.colormaps.get_cmap(obj)`` instead.\n",
      "  cmap = plt.cm.get_cmap('Blues', n_colors+1)\n"
     ]
    },
    {
     "data": {
      "image/png": "[encoded data removed]",
      "text/plain": [
       "<Figure size 225x175 with 2 Axes>"
      ]
     },
     "metadata": {},
     "output_type": "display_data"
    }
   ],
   "source": [
    "fig, ax = plt.subplots(figsize=(2.25,1.75))\n",
    "cmap = plt.cm.get_cmap('Blues', n_colors+1)\n",
    "CS = plt.pcolormesh(xi, yi, zi,\n",
    "                  vmax=zi.max(), vmin=0, cmap=cmap)\n",
    "plt.xlabel(f\"True CO$_2$ HoA (kJ/mol)\", fontsize=label_size)\n",
    "plt.ylabel(f\"Pred. CO$_2$ HoA (kJ/mol)\", fontsize=label_size)\n",
    "plt.title(\"Model performance on testing set\", fontsize=title_size)\n",
    "ax.plot(ax.get_xlim(), ax.get_ylim(), ls=\"--\", c=\".5\", lw=.5)\n",
    "cbar = plt.colorbar()\n",
    "cbar.ax.get_yaxis().labelpad = 12\n",
    "cbar.set_label('Count', rotation=270, fontsize=label_size)\n",
    "cbar.ax.get_yaxis().set_ticks(np.arange(n_colors/(2*(n_colors+1)), n_colors, n_colors/(n_colors+1)), np.arange(n_colors+1) )\n",
    "cbar.ax.tick_params(labelsize=6)\n",
    "plt.xticks(plt.yticks()[0])\n",
    "plt.xticks(fontsize=6)\n",
    "plt.yticks(fontsize=6)\n",
    "plt.xlim(xmin,xmax)\n",
    "plt.ylim(xmin,xmax)\n",
    "\n",
    "#plt.savefig('figures/truepred.svg', dpi=1200, bbox_inches=\"tight\")\n",
    "plt.savefig('figures/truepred_mor_int.pdf', dpi=1200, bbox_inches=\"tight\")"
   ]
  },
  {
   "cell_type": "code",
   "execution_count": null,
   "id": "ea84ba57-c45a-43ed-ab37-ad84e00d879d",
   "metadata": {},
   "outputs": [],
   "source": []
  }
 ],
 "metadata": {
  "kernelspec": {
   "display_name": "Python 3 (ipykernel)",
   "language": "python",
   "name": "python3"
  },
  "language_info": {
   "codemirror_mode": {
    "name": "ipython",
    "version": 3
   },
   "file_extension": ".py",
   "mimetype": "text/x-python",
   "name": "python",
   "nbconvert_exporter": "python",
   "pygments_lexer": "ipython3",
   "version": "3.10.12"
  }
 },
 "nbformat": 4,
 "nbformat_minor": 5
}
