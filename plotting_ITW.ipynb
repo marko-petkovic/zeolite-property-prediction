{
 "cells": [
  {
   "cell_type": "code",
   "execution_count": 1,
   "id": "f3efd022-431e-4c99-9062-f61ef85fa695",
   "metadata": {},
   "outputs": [],
   "source": [
    "import os\n",
    "import sys\n",
    "sys.path.append(os.getcwd())\n",
    "sys.path.insert(0, \"../zeolite-property-prediction/code/\")\n",
    "sys.path.insert(0, \"../zeolite-property-prediction/\")\n",
    "\n",
    "\n",
    "import numpy as np\n",
    "import pandas as pd\n",
    "import torch\n",
    "import torch.nn as nn\n",
    "import torch.nn.functional as F\n",
    "\n",
    "import torch.optim as optim\n",
    "\n",
    "import matplotlib.pyplot as plt\n",
    "import matplotlib.ticker as tick\n",
    "\n",
    "from tqdm import tqdm\n",
    "\n",
    "\n",
    "from models.equivariant_mpnn import MPNNPORE\n",
    "from utils.ZeoliteData import get_zeolite, get_data_pore\n",
    "from utils.dataloading import get_data, get_graph_data, get_transform_matrix"
   ]
  },
  {
   "cell_type": "code",
   "execution_count": 2,
   "id": "2c0b07e6-76a3-416a-a251-adc2c7819176",
   "metadata": {},
   "outputs": [],
   "source": [
    "import matplotlib as mpl"
   ]
  },
  {
   "cell_type": "code",
   "execution_count": 3,
   "id": "6ff58c30-008d-4638-b374-ed14dfae9ed3",
   "metadata": {},
   "outputs": [],
   "source": [
    "plt.rc('font', family='serif',)\n"
   ]
  },
  {
   "cell_type": "code",
   "execution_count": 4,
   "id": "fb7220d8-320b-4679-a4ae-32f014a675be",
   "metadata": {},
   "outputs": [],
   "source": [
    "from matplotlib import rc"
   ]
  },
  {
   "cell_type": "code",
   "execution_count": 5,
   "id": "9a7b3a46-df85-42dc-b5bf-04c4cf4f2ec0",
   "metadata": {},
   "outputs": [],
   "source": [
    "data = get_zeolite('ITW', True)\n",
    "    \n",
    "ref = data['ref'] # reflections\n",
    "tra = data['tra'] # translations\n",
    "l = data['l'] # scale of the unit cell\n",
    "ang = data['ang']\n",
    "\n",
    "# specific for MOR\n",
    "atoms, hoa, X, A, d, X_pore, A_pore, d_pore, pore = get_data(l, 'ITW', ang)\n",
    "\n",
    "edges, idx1, idx2, idx2_oh = get_graph_data(A, d)\n",
    "edges_sp, idx1_sp, idx2_sp, idx2_oh_sp = get_graph_data(A_pore, d_pore)\n",
    "edges_ps, idx1_ps, idx2_ps, idx2_oh_ps = get_graph_data(A_pore.T, d_pore.T)"
   ]
  },
  {
   "cell_type": "code",
   "execution_count": 6,
   "id": "99d1e285-d1db-47c6-83a8-68d00b0ec164",
   "metadata": {},
   "outputs": [],
   "source": [
    "_, testloader, trainloader = get_data_pore(atoms, hoa, edges, pore, edges_sp, edges_ps, bs=32, random=True)"
   ]
  },
  {
   "cell_type": "code",
   "execution_count": 7,
   "id": "7d0fabe0-3ea5-44e9-b918-f4c40492c82e",
   "metadata": {},
   "outputs": [],
   "source": [
    "trainX = trainloader.dataset.X.sum((1,2))[:,None].numpy()\n",
    "trainy = trainloader.dataset.y[:,None].numpy()\n",
    "testX = testloader.dataset.X.sum((1,2))[:,None].numpy()\n",
    "testy = testloader.dataset.y[:,None].numpy()"
   ]
  },
  {
   "cell_type": "code",
   "execution_count": 8,
   "id": "0c1678ff-9b63-4775-a55b-d397c6857476",
   "metadata": {},
   "outputs": [],
   "source": [
    "from sklearn.linear_model import LinearRegression as LR"
   ]
  },
  {
   "cell_type": "code",
   "execution_count": 9,
   "id": "e30695e3-91b8-40fd-a3a7-7f6780ce64d8",
   "metadata": {},
   "outputs": [
    {
     "data": {
      "text/html": [
       "<style>#sk-container-id-1 {color: black;}#sk-container-id-1 pre{padding: 0;}#sk-container-id-1 div.sk-toggleable {background-color: white;}#sk-container-id-1 label.sk-toggleable__label {cursor: pointer;display: block;width: 100%;margin-bottom: 0;padding: 0.3em;box-sizing: border-box;text-align: center;}#sk-container-id-1 label.sk-toggleable__label-arrow:before {content: \"▸\";float: left;margin-right: 0.25em;color: #696969;}#sk-container-id-1 label.sk-toggleable__label-arrow:hover:before {color: black;}#sk-container-id-1 div.sk-estimator:hover label.sk-toggleable__label-arrow:before {color: black;}#sk-container-id-1 div.sk-toggleable__content {max-height: 0;max-width: 0;overflow: hidden;text-align: left;background-color: #f0f8ff;}#sk-container-id-1 div.sk-toggleable__content pre {margin: 0.2em;color: black;border-radius: 0.25em;background-color: #f0f8ff;}#sk-container-id-1 input.sk-toggleable__control:checked~div.sk-toggleable__content {max-height: 200px;max-width: 100%;overflow: auto;}#sk-container-id-1 input.sk-toggleable__control:checked~label.sk-toggleable__label-arrow:before {content: \"▾\";}#sk-container-id-1 div.sk-estimator input.sk-toggleable__control:checked~label.sk-toggleable__label {background-color: #d4ebff;}#sk-container-id-1 div.sk-label input.sk-toggleable__control:checked~label.sk-toggleable__label {background-color: #d4ebff;}#sk-container-id-1 input.sk-hidden--visually {border: 0;clip: rect(1px 1px 1px 1px);clip: rect(1px, 1px, 1px, 1px);height: 1px;margin: -1px;overflow: hidden;padding: 0;position: absolute;width: 1px;}#sk-container-id-1 div.sk-estimator {font-family: monospace;background-color: #f0f8ff;border: 1px dotted black;border-radius: 0.25em;box-sizing: border-box;margin-bottom: 0.5em;}#sk-container-id-1 div.sk-estimator:hover {background-color: #d4ebff;}#sk-container-id-1 div.sk-parallel-item::after {content: \"\";width: 100%;border-bottom: 1px solid gray;flex-grow: 1;}#sk-container-id-1 div.sk-label:hover label.sk-toggleable__label {background-color: #d4ebff;}#sk-container-id-1 div.sk-serial::before {content: \"\";position: absolute;border-left: 1px solid gray;box-sizing: border-box;top: 0;bottom: 0;left: 50%;z-index: 0;}#sk-container-id-1 div.sk-serial {display: flex;flex-direction: column;align-items: center;background-color: white;padding-right: 0.2em;padding-left: 0.2em;position: relative;}#sk-container-id-1 div.sk-item {position: relative;z-index: 1;}#sk-container-id-1 div.sk-parallel {display: flex;align-items: stretch;justify-content: center;background-color: white;position: relative;}#sk-container-id-1 div.sk-item::before, #sk-container-id-1 div.sk-parallel-item::before {content: \"\";position: absolute;border-left: 1px solid gray;box-sizing: border-box;top: 0;bottom: 0;left: 50%;z-index: -1;}#sk-container-id-1 div.sk-parallel-item {display: flex;flex-direction: column;z-index: 1;position: relative;background-color: white;}#sk-container-id-1 div.sk-parallel-item:first-child::after {align-self: flex-end;width: 50%;}#sk-container-id-1 div.sk-parallel-item:last-child::after {align-self: flex-start;width: 50%;}#sk-container-id-1 div.sk-parallel-item:only-child::after {width: 0;}#sk-container-id-1 div.sk-dashed-wrapped {border: 1px dashed gray;margin: 0 0.4em 0.5em 0.4em;box-sizing: border-box;padding-bottom: 0.4em;background-color: white;}#sk-container-id-1 div.sk-label label {font-family: monospace;font-weight: bold;display: inline-block;line-height: 1.2em;}#sk-container-id-1 div.sk-label-container {text-align: center;}#sk-container-id-1 div.sk-container {/* jupyter's `normalize.less` sets `[hidden] { display: none; }` but bootstrap.min.css set `[hidden] { display: none !important; }` so we also need the `!important` here to be able to override the default hidden behavior on the sphinx rendered scikit-learn.org. See: https://github.com/scikit-learn/scikit-learn/issues/21755 */display: inline-block !important;position: relative;}#sk-container-id-1 div.sk-text-repr-fallback {display: none;}</style><div id=\"sk-container-id-1\" class=\"sk-top-container\"><div class=\"sk-text-repr-fallback\"><pre>LinearRegression()</pre><b>In a Jupyter environment, please rerun this cell to show the HTML representation or trust the notebook. <br />On GitHub, the HTML representation is unable to render, please try loading this page with nbviewer.org.</b></div><div class=\"sk-container\" hidden><div class=\"sk-item\"><div class=\"sk-estimator sk-toggleable\"><input class=\"sk-toggleable__control sk-hidden--visually\" id=\"sk-estimator-id-1\" type=\"checkbox\" checked><label for=\"sk-estimator-id-1\" class=\"sk-toggleable__label sk-toggleable__label-arrow\">LinearRegression</label><div class=\"sk-toggleable__content\"><pre>LinearRegression()</pre></div></div></div></div></div>"
      ],
      "text/plain": [
       "LinearRegression()"
      ]
     },
     "execution_count": 9,
     "metadata": {},
     "output_type": "execute_result"
    }
   ],
   "source": [
    "lr = LR()\n",
    "lr.fit(trainX, trainy)"
   ]
  },
  {
   "cell_type": "code",
   "execution_count": 10,
   "id": "4fbb26f2-3c57-413f-b4c4-785253da8d9a",
   "metadata": {},
   "outputs": [],
   "source": [
    "yhat = lr.predict(testX)"
   ]
  },
  {
   "cell_type": "code",
   "execution_count": 11,
   "id": "b40b646f-734e-4682-b43f-7b87be6bbfd9",
   "metadata": {},
   "outputs": [
    {
     "data": {
      "text/plain": [
       "((77, 1), (77, 1))"
      ]
     },
     "execution_count": 11,
     "metadata": {},
     "output_type": "execute_result"
    }
   ],
   "source": [
    "yhat.shape, testy.shape"
   ]
  },
  {
   "cell_type": "code",
   "execution_count": 12,
   "id": "bb7bc0e6-217d-4bb3-b43f-c52e5ce17a14",
   "metadata": {},
   "outputs": [],
   "source": [
    "lr_mse, lr_mae = np.mean((testy - yhat)**2), np.mean(np.abs(testy - yhat))"
   ]
  },
  {
   "cell_type": "code",
   "execution_count": 13,
   "id": "e46e64d1-5f63-4d8d-b4f7-6b334abb33dd",
   "metadata": {},
   "outputs": [
    {
     "data": {
      "text/plain": [
       "(27.226569534500012, 3.510505944719408)"
      ]
     },
     "execution_count": 13,
     "metadata": {},
     "output_type": "execute_result"
    }
   ],
   "source": [
    "lr_mse, lr_mae"
   ]
  },
  {
   "cell_type": "code",
   "execution_count": 14,
   "id": "47419a91-fc9a-4744-a300-d0d733c24c1e",
   "metadata": {},
   "outputs": [],
   "source": [
    "title_size=7.5\n",
    "label_size=7"
   ]
  },
  {
   "cell_type": "code",
   "execution_count": 15,
   "id": "fea42040-dc95-4d30-ab01-2ac836b207fa",
   "metadata": {},
   "outputs": [
    {
     "data": {
      "image/png": "[encoded data removed]",
      "text/plain": [
       "<Figure size 225x175 with 1 Axes>"
      ]
     },
     "metadata": {},
     "output_type": "display_data"
    }
   ],
   "source": [
    "plt.figure(figsize=(2.25,1.75))\n",
    "plt.hist(hoa, bins=np.arange(20,105,1))\n",
    "plt.xlabel('CO$_2$ heat of adsorption (kJ/mol)', fontsize=label_size)\n",
    "plt.ylabel('Count', fontsize=label_size)\n",
    "plt.xticks(fontsize=6)\n",
    "plt.yticks(fontsize=6, rotation='vertical')\n",
    "plt.title('HoA distribution for ITW dataset', fontsize=title_size)\n",
    "plt.xlim(20,105)\n",
    "plt.savefig('figures/datadist_itw.pdf', dpi=1200, bbox_inches=\"tight\")\n",
    "tikzz = plt.xticks()[0]"
   ]
  },
  {
   "cell_type": "code",
   "execution_count": 16,
   "id": "1f214754-f4d4-45df-9832-a1142a9d2824",
   "metadata": {},
   "outputs": [
    {
     "data": {
      "text/plain": [
       "2"
      ]
     },
     "execution_count": 16,
     "metadata": {},
     "output_type": "execute_result"
    }
   ],
   "source": [
    "uniq = np.unique(atoms.sum(1))[1:]\n",
    "np.where(uniq==3)[0][0]"
   ]
  },
  {
   "cell_type": "code",
   "execution_count": 17,
   "id": "f7b4bf14-7c93-4e76-bc9b-be98df6f4a40",
   "metadata": {},
   "outputs": [],
   "source": [
    "hoa_x = np.tile(np.linspace(20,105,86)[:,None], (1,9))\n",
    "hoa_y = np.tile(np.arange(0,9,1)[None], (hoa_x.shape[0],1))\n"
   ]
  },
  {
   "cell_type": "code",
   "execution_count": 18,
   "id": "0e4ff3a9-f339-4d99-ae40-25b92e026296",
   "metadata": {},
   "outputs": [
    {
     "data": {
      "text/plain": [
       "(86, 9)"
      ]
     },
     "execution_count": 18,
     "metadata": {},
     "output_type": "execute_result"
    }
   ],
   "source": [
    "hoa_x.shape"
   ]
  },
  {
   "cell_type": "code",
   "execution_count": 19,
   "id": "ec2daf83-a462-453b-b86a-01845571e31e",
   "metadata": {},
   "outputs": [],
   "source": [
    "uniq = np.unique(atoms.sum(1))[1:]\n",
    "\n",
    "zi = np.zeros((len(hoa_x),9))\n",
    "\n",
    "for i in range(len(atoms)):\n",
    "    \n",
    "    curr_h = hoa[i]\n",
    "    \n",
    "    _n_als = atoms[i].sum()\n",
    "    if _n_als == 0:\n",
    "        _n_als = 1\n",
    "\n",
    "    n_als = np.where(uniq==_n_als)[0][0]\n",
    "    # print(_n_als, n_als, curr_h)\n",
    "    for _x in range(len(hoa_x)):\n",
    "        # print(hoa_x[_x, n_als], curr_h)\n",
    "        if hoa_x[_x, n_als] < curr_h <= hoa_x[_x+1, n_als]:\n",
    "            # print('111')\n",
    "            zi[_x, n_als] += 1"
   ]
  },
  {
   "cell_type": "code",
   "execution_count": 20,
   "id": "9af2d1a7-77b0-4aa1-b2f2-424cb8f553ff",
   "metadata": {},
   "outputs": [
    {
     "data": {
      "text/plain": [
       "array([ 6, 10,  8, 12,  6, 13, 22, 24, 35])"
      ]
     },
     "execution_count": 20,
     "metadata": {},
     "output_type": "execute_result"
    }
   ],
   "source": [
    "sum(zi > 0)"
   ]
  },
  {
   "cell_type": "code",
   "execution_count": 21,
   "id": "a7947391-72e8-49bc-8a97-b607da3529a0",
   "metadata": {},
   "outputs": [],
   "source": [
    "zi = zi/zi.sum(0)[None]"
   ]
  },
  {
   "cell_type": "code",
   "execution_count": 22,
   "id": "10b54fb1-adc0-40ee-adc5-46729820e45f",
   "metadata": {},
   "outputs": [
    {
     "data": {
      "text/plain": [
       "array([ 1,  2,  3,  4,  5,  6,  8, 10, 12])"
      ]
     },
     "execution_count": 22,
     "metadata": {},
     "output_type": "execute_result"
    }
   ],
   "source": [
    "uniq"
   ]
  },
  {
   "cell_type": "code",
   "execution_count": 23,
   "id": "0c99e7a8-f619-49b3-a86a-6abe6a9f0f0e",
   "metadata": {},
   "outputs": [
    {
     "data": {
      "image/png": "[encoded data removed]",
      "text/plain": [
       "<Figure size 225x175 with 2 Axes>"
      ]
     },
     "metadata": {},
     "output_type": "display_data"
    }
   ],
   "source": [
    "fig, ax = plt.subplots(figsize=(2.25,1.75))\n",
    "CS = plt.pcolormesh(hoa_x, hoa_y, zi,\n",
    "                  vmax=zi.max(), vmin=0, cmap='Blues')\n",
    "\n",
    "plt.xlabel(f\"CO$_2$ heat of adsorption (kJ/mol)\", fontsize=label_size)\n",
    "plt.ylabel(f\"Amount of Al atoms\", fontsize=label_size)\n",
    "plt.title(\"HoA distribution per Al atoms\", fontsize=title_size)\n",
    "cbar = plt.colorbar()\n",
    "plt.yticks(np.arange(0.,9,1), ['0/1',2,3,4,5,6,8,10,12], fontsize=6, rotation='horizontal')\n",
    "plt.xticks(tikzz)\n",
    "plt.xticks(fontsize=6)\n",
    "plt.xlim(20,105)\n",
    "plt.ylim(-0.5,8.5)\n",
    "cbar.ax.tick_params(labelsize=6, rotation=270,pad=0)\n",
    "cbar.ax.get_yaxis().labelpad = 8\n",
    "cbar.ax.yaxis.set_major_formatter(tick.FormatStrFormatter('%.1f'))\n",
    "cbar.set_label('Proportion', rotation=270, fontsize=label_size)\n",
    "plt.savefig('figures/aldist_itw.pdf', dpi=1200, bbox_inches=\"tight\")"
   ]
  },
  {
   "cell_type": "code",
   "execution_count": 24,
   "id": "4b332147-9e5c-4724-beb7-33869abafeaa",
   "metadata": {},
   "outputs": [
    {
     "data": {
      "text/plain": [
       "((86, 9), (86, 9), (86, 9))"
      ]
     },
     "execution_count": 24,
     "metadata": {},
     "output_type": "execute_result"
    }
   ],
   "source": [
    "hoa_x.shape, hoa_y.shape, zi.shape"
   ]
  },
  {
   "cell_type": "code",
   "execution_count": 25,
   "id": "63460339-6aae-44b2-81c3-a2d339a158c7",
   "metadata": {},
   "outputs": [],
   "source": [
    "mpnn = MPNNPORE(idx1.to('cuda'), idx2.to('cuda'), idx2_oh.to('cuda'), X, X_pore, ref, tra,\n",
    "                    idx1_sp.to('cuda'), idx2_sp.to('cuda'), idx2_oh_sp.to('cuda'), \n",
    "                    idx1_ps.to('cuda'), idx2_ps.to('cuda'), idx2_oh_ps.to('cuda'),\n",
    "                    hid_size=[8]*6, site_emb_size=8, edge_emb_size=8, mlp_size=24,\n",
    "                    centers=10, mx_d=6, width=1, pool='sum', pool_pore=True).to('cuda')\n",
    "\n",
    "mpnn2 = MPNNPORE(idx1.to('cuda'), idx2.to('cuda'), idx2_oh.to('cuda'), X, X_pore, ref, tra,\n",
    "                    idx1_sp.to('cuda'), idx2_sp.to('cuda'), idx2_oh_sp.to('cuda'), \n",
    "                    idx1_ps.to('cuda'), idx2_ps.to('cuda'), idx2_oh_ps.to('cuda'),\n",
    "                    hid_size=[8]*6, site_emb_size=8, edge_emb_size=8, mlp_size=24,\n",
    "                    centers=10, mx_d=6, width=1, pool='sum', pool_pore=True, site_pred=True).to('cuda')"
   ]
  },
  {
   "cell_type": "code",
   "execution_count": 26,
   "id": "0749c5ec-1880-4bc6-8743-5177aa36d57f",
   "metadata": {},
   "outputs": [],
   "source": [
    "def get_95_CI(x):\n",
    "    \n",
    "    ci = 1.96*np.std(x)/np.sqrt(len(x))\n",
    "    return ci"
   ]
  },
  {
   "cell_type": "code",
   "execution_count": 27,
   "id": "910f3219-dc8f-49f6-a927-b30b1cc28dc3",
   "metadata": {},
   "outputs": [
    {
     "name": "stderr",
     "output_type": "stream",
     "text": [
      "  0%|                                                                                   | 0/10 [00:00<?, ?it/s]\n"
     ]
    },
    {
     "ename": "RuntimeError",
     "evalue": "Error(s) in loading state_dict for MPNNPORE:\n\tsize mismatch for message_steps.0.edge_update.layer1.0.weight: copying a param with shape torch.Size([7680]) from checkpoint, the shape in current model is torch.Size([13824]).\n\tsize mismatch for message_steps.0.edge_update.layer1.0.bias: copying a param with shape torch.Size([16]) from checkpoint, the shape in current model is torch.Size([24]).\n\tsize mismatch for message_steps.0.edge_update_sp.layer1.0.weight: copying a param with shape torch.Size([384]) from checkpoint, the shape in current model is torch.Size([1152]).\n\tsize mismatch for message_steps.0.edge_update_sp.layer1.0.bias: copying a param with shape torch.Size([8]) from checkpoint, the shape in current model is torch.Size([16]).\n\tsize mismatch for message_steps.0.edge_update_ps.layer1.0.weight: copying a param with shape torch.Size([7680]) from checkpoint, the shape in current model is torch.Size([13824]).\n\tsize mismatch for message_steps.0.edge_update_ps.layer1.0.bias: copying a param with shape torch.Size([16]) from checkpoint, the shape in current model is torch.Size([24]).\n\tsize mismatch for message_steps.1.edge_update.layer1.0.weight: copying a param with shape torch.Size([7680]) from checkpoint, the shape in current model is torch.Size([13824]).\n\tsize mismatch for message_steps.1.edge_update.layer1.0.bias: copying a param with shape torch.Size([16]) from checkpoint, the shape in current model is torch.Size([24]).\n\tsize mismatch for message_steps.1.edge_update_sp.layer1.0.weight: copying a param with shape torch.Size([384]) from checkpoint, the shape in current model is torch.Size([1152]).\n\tsize mismatch for message_steps.1.edge_update_sp.layer1.0.bias: copying a param with shape torch.Size([8]) from checkpoint, the shape in current model is torch.Size([16]).\n\tsize mismatch for message_steps.1.edge_update_ps.layer1.0.weight: copying a param with shape torch.Size([7680]) from checkpoint, the shape in current model is torch.Size([13824]).\n\tsize mismatch for message_steps.1.edge_update_ps.layer1.0.bias: copying a param with shape torch.Size([16]) from checkpoint, the shape in current model is torch.Size([24]).\n\tsize mismatch for message_steps.2.edge_update.layer1.0.weight: copying a param with shape torch.Size([7680]) from checkpoint, the shape in current model is torch.Size([13824]).\n\tsize mismatch for message_steps.2.edge_update.layer1.0.bias: copying a param with shape torch.Size([16]) from checkpoint, the shape in current model is torch.Size([24]).\n\tsize mismatch for message_steps.2.edge_update_sp.layer1.0.weight: copying a param with shape torch.Size([384]) from checkpoint, the shape in current model is torch.Size([1152]).\n\tsize mismatch for message_steps.2.edge_update_sp.layer1.0.bias: copying a param with shape torch.Size([8]) from checkpoint, the shape in current model is torch.Size([16]).\n\tsize mismatch for message_steps.2.edge_update_ps.layer1.0.weight: copying a param with shape torch.Size([7680]) from checkpoint, the shape in current model is torch.Size([13824]).\n\tsize mismatch for message_steps.2.edge_update_ps.layer1.0.bias: copying a param with shape torch.Size([16]) from checkpoint, the shape in current model is torch.Size([24]).\n\tsize mismatch for message_steps.3.edge_update.layer1.0.weight: copying a param with shape torch.Size([7680]) from checkpoint, the shape in current model is torch.Size([13824]).\n\tsize mismatch for message_steps.3.edge_update.layer1.0.bias: copying a param with shape torch.Size([16]) from checkpoint, the shape in current model is torch.Size([24]).\n\tsize mismatch for message_steps.3.edge_update_sp.layer1.0.weight: copying a param with shape torch.Size([384]) from checkpoint, the shape in current model is torch.Size([1152]).\n\tsize mismatch for message_steps.3.edge_update_sp.layer1.0.bias: copying a param with shape torch.Size([8]) from checkpoint, the shape in current model is torch.Size([16]).\n\tsize mismatch for message_steps.3.edge_update_ps.layer1.0.weight: copying a param with shape torch.Size([7680]) from checkpoint, the shape in current model is torch.Size([13824]).\n\tsize mismatch for message_steps.3.edge_update_ps.layer1.0.bias: copying a param with shape torch.Size([16]) from checkpoint, the shape in current model is torch.Size([24]).\n\tsize mismatch for message_steps.4.edge_update.layer1.0.weight: copying a param with shape torch.Size([7680]) from checkpoint, the shape in current model is torch.Size([13824]).\n\tsize mismatch for message_steps.4.edge_update.layer1.0.bias: copying a param with shape torch.Size([16]) from checkpoint, the shape in current model is torch.Size([24]).\n\tsize mismatch for message_steps.4.edge_update_sp.layer1.0.weight: copying a param with shape torch.Size([384]) from checkpoint, the shape in current model is torch.Size([1152]).\n\tsize mismatch for message_steps.4.edge_update_sp.layer1.0.bias: copying a param with shape torch.Size([8]) from checkpoint, the shape in current model is torch.Size([16]).\n\tsize mismatch for message_steps.4.edge_update_ps.layer1.0.weight: copying a param with shape torch.Size([7680]) from checkpoint, the shape in current model is torch.Size([13824]).\n\tsize mismatch for message_steps.4.edge_update_ps.layer1.0.bias: copying a param with shape torch.Size([16]) from checkpoint, the shape in current model is torch.Size([24]).\n\tsize mismatch for message_steps.5.edge_update.layer1.0.weight: copying a param with shape torch.Size([7680]) from checkpoint, the shape in current model is torch.Size([13824]).\n\tsize mismatch for message_steps.5.edge_update.layer1.0.bias: copying a param with shape torch.Size([16]) from checkpoint, the shape in current model is torch.Size([24]).\n\tsize mismatch for message_steps.5.edge_update_sp.layer1.0.weight: copying a param with shape torch.Size([384]) from checkpoint, the shape in current model is torch.Size([1152]).\n\tsize mismatch for message_steps.5.edge_update_sp.layer1.0.bias: copying a param with shape torch.Size([8]) from checkpoint, the shape in current model is torch.Size([16]).\n\tsize mismatch for message_steps.5.edge_update_ps.layer1.0.weight: copying a param with shape torch.Size([7680]) from checkpoint, the shape in current model is torch.Size([13824]).\n\tsize mismatch for message_steps.5.edge_update_ps.layer1.0.bias: copying a param with shape torch.Size([16]) from checkpoint, the shape in current model is torch.Size([24]).",
     "output_type": "error",
     "traceback": [
      "\u001b[1;31m---------------------------------------------------------------------------\u001b[0m",
      "\u001b[1;31mRuntimeError\u001b[0m                              Traceback (most recent call last)",
      "Cell \u001b[1;32mIn[27], line 10\u001b[0m\n\u001b[0;32m      6\u001b[0m _mse_p2 \u001b[38;5;241m=\u001b[39m []\n\u001b[0;32m      8\u001b[0m \u001b[38;5;28;01mfor\u001b[39;00m j \u001b[38;5;129;01min\u001b[39;00m tqdm(\u001b[38;5;28mrange\u001b[39m(\u001b[38;5;241m1\u001b[39m,\u001b[38;5;241m11\u001b[39m)):\n\u001b[1;32m---> 10\u001b[0m     \u001b[43mmpnn\u001b[49m\u001b[38;5;241;43m.\u001b[39;49m\u001b[43mload_state_dict\u001b[49m\u001b[43m(\u001b[49m\u001b[43mtorch\u001b[49m\u001b[38;5;241;43m.\u001b[39;49m\u001b[43mload\u001b[49m\u001b[43m(\u001b[49m\u001b[38;5;124;43mf\u001b[39;49m\u001b[38;5;124;43m'\u001b[39;49m\u001b[38;5;124;43mmodel_data_random/ITW/1.0/pore/model_\u001b[39;49m\u001b[38;5;132;43;01m{\u001b[39;49;00m\u001b[43mj\u001b[49m\u001b[38;5;132;43;01m}\u001b[39;49;00m\u001b[38;5;124;43m/model.pth\u001b[39;49m\u001b[38;5;124;43m'\u001b[39;49m\u001b[43m)\u001b[49m\u001b[43m)\u001b[49m\n\u001b[0;32m     11\u001b[0m     y_pred, y_true \u001b[38;5;241m=\u001b[39m mpnn\u001b[38;5;241m.\u001b[39mpredict(testloader)\n\u001b[0;32m     13\u001b[0m     _mse \u001b[38;5;241m=\u001b[39m ((y_pred \u001b[38;5;241m-\u001b[39m y_true)\u001b[38;5;241m*\u001b[39m\u001b[38;5;241m*\u001b[39m\u001b[38;5;241m2\u001b[39m)\u001b[38;5;241m.\u001b[39mmean()\u001b[38;5;241m.\u001b[39mitem()\n",
      "File \u001b[1;32m~\\.conda\\envs\\torch4\\lib\\site-packages\\torch\\nn\\modules\\module.py:2041\u001b[0m, in \u001b[0;36mModule.load_state_dict\u001b[1;34m(self, state_dict, strict)\u001b[0m\n\u001b[0;32m   2036\u001b[0m         error_msgs\u001b[38;5;241m.\u001b[39minsert(\n\u001b[0;32m   2037\u001b[0m             \u001b[38;5;241m0\u001b[39m, \u001b[38;5;124m'\u001b[39m\u001b[38;5;124mMissing key(s) in state_dict: \u001b[39m\u001b[38;5;132;01m{}\u001b[39;00m\u001b[38;5;124m. \u001b[39m\u001b[38;5;124m'\u001b[39m\u001b[38;5;241m.\u001b[39mformat(\n\u001b[0;32m   2038\u001b[0m                 \u001b[38;5;124m'\u001b[39m\u001b[38;5;124m, \u001b[39m\u001b[38;5;124m'\u001b[39m\u001b[38;5;241m.\u001b[39mjoin(\u001b[38;5;124m'\u001b[39m\u001b[38;5;124m\"\u001b[39m\u001b[38;5;132;01m{}\u001b[39;00m\u001b[38;5;124m\"\u001b[39m\u001b[38;5;124m'\u001b[39m\u001b[38;5;241m.\u001b[39mformat(k) \u001b[38;5;28;01mfor\u001b[39;00m k \u001b[38;5;129;01min\u001b[39;00m missing_keys)))\n\u001b[0;32m   2040\u001b[0m \u001b[38;5;28;01mif\u001b[39;00m \u001b[38;5;28mlen\u001b[39m(error_msgs) \u001b[38;5;241m>\u001b[39m \u001b[38;5;241m0\u001b[39m:\n\u001b[1;32m-> 2041\u001b[0m     \u001b[38;5;28;01mraise\u001b[39;00m \u001b[38;5;167;01mRuntimeError\u001b[39;00m(\u001b[38;5;124m'\u001b[39m\u001b[38;5;124mError(s) in loading state_dict for \u001b[39m\u001b[38;5;132;01m{}\u001b[39;00m\u001b[38;5;124m:\u001b[39m\u001b[38;5;130;01m\\n\u001b[39;00m\u001b[38;5;130;01m\\t\u001b[39;00m\u001b[38;5;132;01m{}\u001b[39;00m\u001b[38;5;124m'\u001b[39m\u001b[38;5;241m.\u001b[39mformat(\n\u001b[0;32m   2042\u001b[0m                        \u001b[38;5;28mself\u001b[39m\u001b[38;5;241m.\u001b[39m\u001b[38;5;18m__class__\u001b[39m\u001b[38;5;241m.\u001b[39m\u001b[38;5;18m__name__\u001b[39m, \u001b[38;5;124m\"\u001b[39m\u001b[38;5;130;01m\\n\u001b[39;00m\u001b[38;5;130;01m\\t\u001b[39;00m\u001b[38;5;124m\"\u001b[39m\u001b[38;5;241m.\u001b[39mjoin(error_msgs)))\n\u001b[0;32m   2043\u001b[0m \u001b[38;5;28;01mreturn\u001b[39;00m _IncompatibleKeys(missing_keys, unexpected_keys)\n",
      "\u001b[1;31mRuntimeError\u001b[0m: Error(s) in loading state_dict for MPNNPORE:\n\tsize mismatch for message_steps.0.edge_update.layer1.0.weight: copying a param with shape torch.Size([7680]) from checkpoint, the shape in current model is torch.Size([13824]).\n\tsize mismatch for message_steps.0.edge_update.layer1.0.bias: copying a param with shape torch.Size([16]) from checkpoint, the shape in current model is torch.Size([24]).\n\tsize mismatch for message_steps.0.edge_update_sp.layer1.0.weight: copying a param with shape torch.Size([384]) from checkpoint, the shape in current model is torch.Size([1152]).\n\tsize mismatch for message_steps.0.edge_update_sp.layer1.0.bias: copying a param with shape torch.Size([8]) from checkpoint, the shape in current model is torch.Size([16]).\n\tsize mismatch for message_steps.0.edge_update_ps.layer1.0.weight: copying a param with shape torch.Size([7680]) from checkpoint, the shape in current model is torch.Size([13824]).\n\tsize mismatch for message_steps.0.edge_update_ps.layer1.0.bias: copying a param with shape torch.Size([16]) from checkpoint, the shape in current model is torch.Size([24]).\n\tsize mismatch for message_steps.1.edge_update.layer1.0.weight: copying a param with shape torch.Size([7680]) from checkpoint, the shape in current model is torch.Size([13824]).\n\tsize mismatch for message_steps.1.edge_update.layer1.0.bias: copying a param with shape torch.Size([16]) from checkpoint, the shape in current model is torch.Size([24]).\n\tsize mismatch for message_steps.1.edge_update_sp.layer1.0.weight: copying a param with shape torch.Size([384]) from checkpoint, the shape in current model is torch.Size([1152]).\n\tsize mismatch for message_steps.1.edge_update_sp.layer1.0.bias: copying a param with shape torch.Size([8]) from checkpoint, the shape in current model is torch.Size([16]).\n\tsize mismatch for message_steps.1.edge_update_ps.layer1.0.weight: copying a param with shape torch.Size([7680]) from checkpoint, the shape in current model is torch.Size([13824]).\n\tsize mismatch for message_steps.1.edge_update_ps.layer1.0.bias: copying a param with shape torch.Size([16]) from checkpoint, the shape in current model is torch.Size([24]).\n\tsize mismatch for message_steps.2.edge_update.layer1.0.weight: copying a param with shape torch.Size([7680]) from checkpoint, the shape in current model is torch.Size([13824]).\n\tsize mismatch for message_steps.2.edge_update.layer1.0.bias: copying a param with shape torch.Size([16]) from checkpoint, the shape in current model is torch.Size([24]).\n\tsize mismatch for message_steps.2.edge_update_sp.layer1.0.weight: copying a param with shape torch.Size([384]) from checkpoint, the shape in current model is torch.Size([1152]).\n\tsize mismatch for message_steps.2.edge_update_sp.layer1.0.bias: copying a param with shape torch.Size([8]) from checkpoint, the shape in current model is torch.Size([16]).\n\tsize mismatch for message_steps.2.edge_update_ps.layer1.0.weight: copying a param with shape torch.Size([7680]) from checkpoint, the shape in current model is torch.Size([13824]).\n\tsize mismatch for message_steps.2.edge_update_ps.layer1.0.bias: copying a param with shape torch.Size([16]) from checkpoint, the shape in current model is torch.Size([24]).\n\tsize mismatch for message_steps.3.edge_update.layer1.0.weight: copying a param with shape torch.Size([7680]) from checkpoint, the shape in current model is torch.Size([13824]).\n\tsize mismatch for message_steps.3.edge_update.layer1.0.bias: copying a param with shape torch.Size([16]) from checkpoint, the shape in current model is torch.Size([24]).\n\tsize mismatch for message_steps.3.edge_update_sp.layer1.0.weight: copying a param with shape torch.Size([384]) from checkpoint, the shape in current model is torch.Size([1152]).\n\tsize mismatch for message_steps.3.edge_update_sp.layer1.0.bias: copying a param with shape torch.Size([8]) from checkpoint, the shape in current model is torch.Size([16]).\n\tsize mismatch for message_steps.3.edge_update_ps.layer1.0.weight: copying a param with shape torch.Size([7680]) from checkpoint, the shape in current model is torch.Size([13824]).\n\tsize mismatch for message_steps.3.edge_update_ps.layer1.0.bias: copying a param with shape torch.Size([16]) from checkpoint, the shape in current model is torch.Size([24]).\n\tsize mismatch for message_steps.4.edge_update.layer1.0.weight: copying a param with shape torch.Size([7680]) from checkpoint, the shape in current model is torch.Size([13824]).\n\tsize mismatch for message_steps.4.edge_update.layer1.0.bias: copying a param with shape torch.Size([16]) from checkpoint, the shape in current model is torch.Size([24]).\n\tsize mismatch for message_steps.4.edge_update_sp.layer1.0.weight: copying a param with shape torch.Size([384]) from checkpoint, the shape in current model is torch.Size([1152]).\n\tsize mismatch for message_steps.4.edge_update_sp.layer1.0.bias: copying a param with shape torch.Size([8]) from checkpoint, the shape in current model is torch.Size([16]).\n\tsize mismatch for message_steps.4.edge_update_ps.layer1.0.weight: copying a param with shape torch.Size([7680]) from checkpoint, the shape in current model is torch.Size([13824]).\n\tsize mismatch for message_steps.4.edge_update_ps.layer1.0.bias: copying a param with shape torch.Size([16]) from checkpoint, the shape in current model is torch.Size([24]).\n\tsize mismatch for message_steps.5.edge_update.layer1.0.weight: copying a param with shape torch.Size([7680]) from checkpoint, the shape in current model is torch.Size([13824]).\n\tsize mismatch for message_steps.5.edge_update.layer1.0.bias: copying a param with shape torch.Size([16]) from checkpoint, the shape in current model is torch.Size([24]).\n\tsize mismatch for message_steps.5.edge_update_sp.layer1.0.weight: copying a param with shape torch.Size([384]) from checkpoint, the shape in current model is torch.Size([1152]).\n\tsize mismatch for message_steps.5.edge_update_sp.layer1.0.bias: copying a param with shape torch.Size([8]) from checkpoint, the shape in current model is torch.Size([16]).\n\tsize mismatch for message_steps.5.edge_update_ps.layer1.0.weight: copying a param with shape torch.Size([7680]) from checkpoint, the shape in current model is torch.Size([13824]).\n\tsize mismatch for message_steps.5.edge_update_ps.layer1.0.bias: copying a param with shape torch.Size([16]) from checkpoint, the shape in current model is torch.Size([24])."
     ]
    }
   ],
   "source": [
    "_mae_p = []\n",
    "_mse_p = []\n",
    "\n",
    "\n",
    "_mae_p2 = []\n",
    "_mse_p2 = []\n",
    "\n",
    "for j in tqdm(range(1,11)):\n",
    "\n",
    "    mpnn.load_state_dict(torch.load(f'model_data_random/ITW/1.0/pore/model_{j}/model.pth'))\n",
    "    y_pred, y_true = mpnn.predict(testloader)\n",
    "\n",
    "    _mse = ((y_pred - y_true)**2).mean().item()\n",
    "    _mae = (y_pred - y_true).abs().mean().item()\n",
    "\n",
    "    _mae_p.append(_mae)\n",
    "    _mse_p.append(_mse)\n",
    "\n",
    "\n",
    "    mpnn2.load_state_dict(torch.load(f'model_data_random2/ITW/1.0/pore/model_{j}/model.pth'))\n",
    "    y_pred, y_true = mpnn2.predict(testloader)\n",
    "\n",
    "    _mse = ((y_pred - y_true)**2).mean().item()\n",
    "    _mae = (y_pred - y_true).abs().mean().item()\n",
    "\n",
    "    _mae_p2.append(_mae)\n",
    "    _mse_p2.append(_mse)\n",
    "\n",
    "\n",
    "mae_p  = np.mean(_mae_p)\n",
    "mse_p = np.mean(_mse_p)\n",
    "mae_p2  = np.mean(_mae_p2)\n",
    "mse_p2 = np.mean(_mse_p2)\n",
    "\n",
    "\n",
    "mae_p_ci = get_95_CI(_mae_p)\n",
    "mse_p_ci = get_95_CI(_mse_p)\n",
    "mae_p2_ci = get_95_CI(_mae_p2)\n",
    "mse_p2_ci = get_95_CI(_mse_p2)"
   ]
  },
  {
   "cell_type": "code",
   "execution_count": 28,
   "id": "c5ef8b2b-def1-403c-bef2-877238b11c6f",
   "metadata": {},
   "outputs": [
    {
     "ename": "NameError",
     "evalue": "name 'mae_p' is not defined",
     "output_type": "error",
     "traceback": [
      "\u001b[1;31m---------------------------------------------------------------------------\u001b[0m",
      "\u001b[1;31mNameError\u001b[0m                                 Traceback (most recent call last)",
      "Cell \u001b[1;32mIn[28], line 1\u001b[0m\n\u001b[1;32m----> 1\u001b[0m \u001b[43mmae_p\u001b[49m, mae_p2, mse_p, mse_p2\n",
      "\u001b[1;31mNameError\u001b[0m: name 'mae_p' is not defined"
     ]
    }
   ],
   "source": [
    "mae_p, mae_p2, mse_p, mse_p2"
   ]
  },
  {
   "cell_type": "code",
   "execution_count": 29,
   "id": "a6e7d2fc-4af0-4203-97bc-2047ec2bb01c",
   "metadata": {},
   "outputs": [
    {
     "ename": "ValueError",
     "evalue": "attempt to get argmin of an empty sequence",
     "output_type": "error",
     "traceback": [
      "\u001b[1;31m---------------------------------------------------------------------------\u001b[0m",
      "\u001b[1;31mValueError\u001b[0m                                Traceback (most recent call last)",
      "Cell \u001b[1;32mIn[29], line 1\u001b[0m\n\u001b[1;32m----> 1\u001b[0m best_idx \u001b[38;5;241m=\u001b[39m \u001b[43mnp\u001b[49m\u001b[38;5;241;43m.\u001b[39;49m\u001b[43margmin\u001b[49m\u001b[43m(\u001b[49m\u001b[43m_mae_p\u001b[49m\u001b[43m)\u001b[49m\n\u001b[0;32m      2\u001b[0m mpnn\u001b[38;5;241m.\u001b[39mload_state_dict(torch\u001b[38;5;241m.\u001b[39mload(\u001b[38;5;124mf\u001b[39m\u001b[38;5;124m'\u001b[39m\u001b[38;5;124mmodel_data_random/ITW/1.0/pore/model_\u001b[39m\u001b[38;5;132;01m{\u001b[39;00mbest_idx\u001b[38;5;241m+\u001b[39m\u001b[38;5;241m1\u001b[39m\u001b[38;5;132;01m}\u001b[39;00m\u001b[38;5;124m/model.pth\u001b[39m\u001b[38;5;124m'\u001b[39m))\n\u001b[0;32m      3\u001b[0m y_pred, y_true \u001b[38;5;241m=\u001b[39m mpnn\u001b[38;5;241m.\u001b[39mpredict(testloader)\n",
      "File \u001b[1;32m~\\.conda\\envs\\torch4\\lib\\site-packages\\numpy\\core\\fromnumeric.py:1325\u001b[0m, in \u001b[0;36margmin\u001b[1;34m(a, axis, out, keepdims)\u001b[0m\n\u001b[0;32m   1238\u001b[0m \u001b[38;5;250m\u001b[39m\u001b[38;5;124;03m\"\"\"\u001b[39;00m\n\u001b[0;32m   1239\u001b[0m \u001b[38;5;124;03mReturns the indices of the minimum values along an axis.\u001b[39;00m\n\u001b[0;32m   1240\u001b[0m \n\u001b[1;32m   (...)\u001b[0m\n\u001b[0;32m   1322\u001b[0m \u001b[38;5;124;03m(2, 1, 4)\u001b[39;00m\n\u001b[0;32m   1323\u001b[0m \u001b[38;5;124;03m\"\"\"\u001b[39;00m\n\u001b[0;32m   1324\u001b[0m kwds \u001b[38;5;241m=\u001b[39m {\u001b[38;5;124m'\u001b[39m\u001b[38;5;124mkeepdims\u001b[39m\u001b[38;5;124m'\u001b[39m: keepdims} \u001b[38;5;28;01mif\u001b[39;00m keepdims \u001b[38;5;129;01mis\u001b[39;00m \u001b[38;5;129;01mnot\u001b[39;00m np\u001b[38;5;241m.\u001b[39m_NoValue \u001b[38;5;28;01melse\u001b[39;00m {}\n\u001b[1;32m-> 1325\u001b[0m \u001b[38;5;28;01mreturn\u001b[39;00m _wrapfunc(a, \u001b[38;5;124m'\u001b[39m\u001b[38;5;124margmin\u001b[39m\u001b[38;5;124m'\u001b[39m, axis\u001b[38;5;241m=\u001b[39maxis, out\u001b[38;5;241m=\u001b[39mout, \u001b[38;5;241m*\u001b[39m\u001b[38;5;241m*\u001b[39mkwds)\n",
      "File \u001b[1;32m~\\.conda\\envs\\torch4\\lib\\site-packages\\numpy\\core\\fromnumeric.py:56\u001b[0m, in \u001b[0;36m_wrapfunc\u001b[1;34m(obj, method, *args, **kwds)\u001b[0m\n\u001b[0;32m     54\u001b[0m bound \u001b[38;5;241m=\u001b[39m \u001b[38;5;28mgetattr\u001b[39m(obj, method, \u001b[38;5;28;01mNone\u001b[39;00m)\n\u001b[0;32m     55\u001b[0m \u001b[38;5;28;01mif\u001b[39;00m bound \u001b[38;5;129;01mis\u001b[39;00m \u001b[38;5;28;01mNone\u001b[39;00m:\n\u001b[1;32m---> 56\u001b[0m     \u001b[38;5;28;01mreturn\u001b[39;00m _wrapit(obj, method, \u001b[38;5;241m*\u001b[39margs, \u001b[38;5;241m*\u001b[39m\u001b[38;5;241m*\u001b[39mkwds)\n\u001b[0;32m     58\u001b[0m \u001b[38;5;28;01mtry\u001b[39;00m:\n\u001b[0;32m     59\u001b[0m     \u001b[38;5;28;01mreturn\u001b[39;00m bound(\u001b[38;5;241m*\u001b[39margs, \u001b[38;5;241m*\u001b[39m\u001b[38;5;241m*\u001b[39mkwds)\n",
      "File \u001b[1;32m~\\.conda\\envs\\torch4\\lib\\site-packages\\numpy\\core\\fromnumeric.py:45\u001b[0m, in \u001b[0;36m_wrapit\u001b[1;34m(obj, method, *args, **kwds)\u001b[0m\n\u001b[0;32m     43\u001b[0m \u001b[38;5;28;01mexcept\u001b[39;00m \u001b[38;5;167;01mAttributeError\u001b[39;00m:\n\u001b[0;32m     44\u001b[0m     wrap \u001b[38;5;241m=\u001b[39m \u001b[38;5;28;01mNone\u001b[39;00m\n\u001b[1;32m---> 45\u001b[0m result \u001b[38;5;241m=\u001b[39m \u001b[38;5;28mgetattr\u001b[39m(asarray(obj), method)(\u001b[38;5;241m*\u001b[39margs, \u001b[38;5;241m*\u001b[39m\u001b[38;5;241m*\u001b[39mkwds)\n\u001b[0;32m     46\u001b[0m \u001b[38;5;28;01mif\u001b[39;00m wrap:\n\u001b[0;32m     47\u001b[0m     \u001b[38;5;28;01mif\u001b[39;00m \u001b[38;5;129;01mnot\u001b[39;00m \u001b[38;5;28misinstance\u001b[39m(result, mu\u001b[38;5;241m.\u001b[39mndarray):\n",
      "\u001b[1;31mValueError\u001b[0m: attempt to get argmin of an empty sequence"
     ]
    }
   ],
   "source": [
    "best_idx = np.argmin(_mae_p)\n",
    "mpnn.load_state_dict(torch.load(f'model_data_random/ITW/1.0/pore/model_{best_idx+1}/model.pth'))\n",
    "y_pred, y_true = mpnn.predict(testloader)"
   ]
  },
  {
   "cell_type": "code",
   "execution_count": 30,
   "id": "48f2ee40-4ce0-4080-8b36-a57d5f4d7da1",
   "metadata": {},
   "outputs": [],
   "source": [
    "from scipy.interpolate import griddata"
   ]
  },
  {
   "cell_type": "code",
   "execution_count": 31,
   "id": "b1a66634-c794-4e8c-8cb2-845c30c1cf1b",
   "metadata": {},
   "outputs": [
    {
     "ename": "NameError",
     "evalue": "name 'y_pred' is not defined",
     "output_type": "error",
     "traceback": [
      "\u001b[1;31m---------------------------------------------------------------------------\u001b[0m",
      "\u001b[1;31mNameError\u001b[0m                                 Traceback (most recent call last)",
      "Cell \u001b[1;32mIn[31], line 1\u001b[0m\n\u001b[1;32m----> 1\u001b[0m \u001b[43my_pred\u001b[49m\u001b[38;5;241m.\u001b[39mmin(), y_pred\u001b[38;5;241m.\u001b[39mmax(), y_true\u001b[38;5;241m.\u001b[39mmin(), y_true\u001b[38;5;241m.\u001b[39mmax()\n",
      "\u001b[1;31mNameError\u001b[0m: name 'y_pred' is not defined"
     ]
    }
   ],
   "source": [
    "y_pred.min(), y_pred.max(), y_true.min(), y_true.max()"
   ]
  },
  {
   "cell_type": "code",
   "execution_count": 73,
   "id": "f9da6dd8-182a-47d7-a5dc-d012cd94daba",
   "metadata": {},
   "outputs": [],
   "source": [
    "Z = torch.ones_like(y_pred)"
   ]
  },
  {
   "cell_type": "code",
   "execution_count": 75,
   "id": "a821a4bc-71aa-4710-b522-289eae3844b1",
   "metadata": {},
   "outputs": [],
   "source": [
    "nn = 60\n",
    "xmin = 30\n",
    "xmax = 75\n",
    "xi = np.linspace(xmin, xmax, nn)\n",
    "yi = np.linspace(xmin, xmax, nn)"
   ]
  },
  {
   "cell_type": "code",
   "execution_count": 76,
   "id": "5cbb4cdf-d733-479f-9823-fba8f5786d32",
   "metadata": {},
   "outputs": [],
   "source": [
    "#xi.shape, yi.shape, xi, yi"
   ]
  },
  {
   "cell_type": "code",
   "execution_count": 77,
   "id": "701adc9b-c415-4b5e-a60f-2ef721f3b177",
   "metadata": {},
   "outputs": [],
   "source": [
    "zi = np.zeros((nn,nn))\n",
    "\n",
    "for i in range(len(y_pred)):\n",
    "    \n",
    "    curr_p = y_pred[i].item()\n",
    "    curr_t = y_true[i].item()\n",
    "    \n",
    "    for _x in range(0,nn-1):\n",
    "        \n",
    "        if xi[_x] < curr_p <= xi[_x+1]:\n",
    "            \n",
    "            for _y in range(0,nn-1):\n",
    "                \n",
    "                if yi[_y] < curr_t <= xi[_y+1]:\n",
    "                    \n",
    "                    zi[_x,_y] += 1"
   ]
  },
  {
   "cell_type": "code",
   "execution_count": 78,
   "id": "554bb8f6-f026-475a-b1be-74eb3d4cd544",
   "metadata": {},
   "outputs": [],
   "source": [
    "n_colors = int(zi.max())"
   ]
  },
  {
   "cell_type": "code",
   "execution_count": 79,
   "id": "29bd91db-c620-49fe-94f3-bd097c376a33",
   "metadata": {},
   "outputs": [
    {
     "name": "stderr",
     "output_type": "stream",
     "text": [
      "C:\\Users\\20175552\\AppData\\Local\\Temp\\ipykernel_18384\\4064518472.py:2: MatplotlibDeprecationWarning: The get_cmap function was deprecated in Matplotlib 3.7 and will be removed two minor releases later. Use ``matplotlib.colormaps[name]`` or ``matplotlib.colormaps.get_cmap(obj)`` instead.\n",
      "  cmap = plt.cm.get_cmap('Blues', n_colors+1)\n"
     ]
    },
    {
     "data": {
      "image/png": "[encoded data removed]",
      "text/plain": [
       "<Figure size 225x175 with 2 Axes>"
      ]
     },
     "metadata": {},
     "output_type": "display_data"
    }
   ],
   "source": [
    "fig, ax = plt.subplots(figsize=(2.25,1.75))\n",
    "cmap = plt.cm.get_cmap('Blues', n_colors+1)\n",
    "CS = plt.pcolormesh(xi, yi, zi,\n",
    "                  vmax=zi.max(), vmin=0, cmap=cmap)\n",
    "plt.xlabel(f\"True CO$_2$ HoA (kJ/mol)\", fontsize=label_size)\n",
    "plt.ylabel(f\"Pred. CO$_2$ HoA (kJ/mol)\", fontsize=label_size)\n",
    "plt.title(\"Model performance on testing set\", fontsize=title_size)\n",
    "ax.plot(ax.get_xlim(), ax.get_ylim(), ls=\"--\", c=\".5\", lw=.5)\n",
    "cbar = plt.colorbar()\n",
    "cbar.ax.get_yaxis().labelpad = 12\n",
    "cbar.set_label('Count', rotation=270, fontsize=label_size)\n",
    "cbar.ax.get_yaxis().set_ticks(np.arange(n_colors/(2*(n_colors+1)), n_colors, n_colors/(n_colors+1)), np.arange(n_colors+1) )\n",
    "cbar.ax.tick_params(labelsize=6)\n",
    "plt.xticks(plt.yticks()[0])\n",
    "plt.xticks(fontsize=6)\n",
    "plt.yticks(fontsize=6)\n",
    "plt.xlim(xmin,xmax)\n",
    "plt.ylim(xmin,xmax)\n",
    "\n",
    "#plt.savefig('figures/truepred.svg', dpi=1200, bbox_inches=\"tight\")\n",
    "plt.savefig('figures/truepred_itw.pdf', dpi=1200, bbox_inches=\"tight\")"
   ]
  },
  {
   "cell_type": "code",
   "execution_count": 32,
   "id": "fc56a8e4-3609-4d71-8556-03eda123f01b",
   "metadata": {},
   "outputs": [],
   "source": [
    "h = get_transform_matrix(*l, *ang)"
   ]
  },
  {
   "cell_type": "code",
   "execution_count": 33,
   "id": "d1b66a86-a803-4443-99f1-6e02120542b7",
   "metadata": {},
   "outputs": [],
   "source": [
    "beta = 2*np.pi-np.radians(ang[1]) "
   ]
  },
  {
   "cell_type": "code",
   "execution_count": 34,
   "id": "f2c2fbbc-610a-455e-a0bd-5be6cdbb3e7e",
   "metadata": {
    "scrolled": true
   },
   "outputs": [
    {
     "data": {
      "text/plain": [
       "4.439419485372777"
      ]
     },
     "execution_count": 34,
     "metadata": {},
     "output_type": "execute_result"
    }
   ],
   "source": [
    "beta"
   ]
  },
  {
   "cell_type": "code",
   "execution_count": 35,
   "id": "9912a1f4-ee9e-4161-8523-06bebbd8fc23",
   "metadata": {},
   "outputs": [],
   "source": [
    "# rotation_matrix = np.array([\n",
    "#     [1, 0, 0],\n",
    "#     [0, np.cos(beta), -np.sin(beta)],\n",
    "#     [0, np.sin(beta), np.cos(beta)]\n",
    "# ])"
   ]
  },
  {
   "cell_type": "code",
   "execution_count": 36,
   "id": "dc084150-f1f9-4aa7-8e5f-af07ca5c391f",
   "metadata": {},
   "outputs": [],
   "source": [
    "# rotation_matrix = np.array([\n",
    "#     [np.cos(gamma), -np.sin(gamma), 0],\n",
    "#     [np.sin(gamma), np.cos(gamma), 0],\n",
    "#     [0, 0, 1]\n",
    "# ])"
   ]
  },
  {
   "cell_type": "code",
   "execution_count": 37,
   "id": "a5c051fb-fe30-49db-85d1-0d5e5ee599b8",
   "metadata": {},
   "outputs": [],
   "source": [
    "beta=2.87"
   ]
  },
  {
   "cell_type": "code",
   "execution_count": 38,
   "id": "7c138ef4-a2c5-4714-82e3-7ff8cccdb16e",
   "metadata": {},
   "outputs": [],
   "source": [
    "rotation_matrix = np.array([\n",
    "    [np.cos(beta), 0, np.sin(beta)],\n",
    "    [0, 1, 0],\n",
    "    [-np.sin(beta), 0, np.cos(beta)]\n",
    "])"
   ]
  },
  {
   "cell_type": "code",
   "execution_count": 39,
   "id": "833a8efa-d5eb-4a10-9305-187caa1eff45",
   "metadata": {},
   "outputs": [],
   "source": [
    "_X = X @ rotation_matrix.T\n",
    "_X_pore = X_pore @ rotation_matrix.T"
   ]
  },
  {
   "cell_type": "code",
   "execution_count": 40,
   "id": "f379c49b-a960-462c-a069-df19a221a98e",
   "metadata": {},
   "outputs": [],
   "source": [
    "#_X = X @ h\n",
    "#_X = X[X[:,2]>0.5]"
   ]
  },
  {
   "cell_type": "code",
   "execution_count": 41,
   "id": "aa400ed8-695c-465d-9c2f-485651707a02",
   "metadata": {},
   "outputs": [
    {
     "data": {
      "text/plain": [
       "array([10.45 , 15.028,  8.954])"
      ]
     },
     "execution_count": 41,
     "metadata": {},
     "output_type": "execute_result"
    }
   ],
   "source": [
    "l"
   ]
  },
  {
   "cell_type": "code",
   "execution_count": 42,
   "id": "034e77d8-1d6e-4196-8f4d-1294bf6c55ea",
   "metadata": {},
   "outputs": [
    {
     "data": {
      "text/plain": [
       "array([ 90.  , 105.64,  90.  ])"
      ]
     },
     "execution_count": 42,
     "metadata": {},
     "output_type": "execute_result"
    }
   ],
   "source": [
    "ang"
   ]
  },
  {
   "cell_type": "code",
   "execution_count": 43,
   "id": "b9c04017-7ee5-40a1-8371-a934eed1018a",
   "metadata": {},
   "outputs": [
    {
     "data": {
      "text/plain": [
       "<matplotlib.collections.PathCollection at 0x21d912dbdc0>"
      ]
     },
     "execution_count": 43,
     "metadata": {},
     "output_type": "execute_result"
    },
    {
     "data": {
      "image/png": "[encoded data removed]",
      "text/plain": [
       "<Figure size 250x375 with 1 Axes>"
      ]
     },
     "metadata": {},
     "output_type": "display_data"
    }
   ],
   "source": [
    "plt.figure(figsize=(10/4,15/4))\n",
    "plt.scatter(_X[:,0], _X[:,1])"
   ]
  },
  {
   "cell_type": "code",
   "execution_count": 68,
   "id": "d98c603f-139f-4a8c-9b11-3cff8ad3595d",
   "metadata": {},
   "outputs": [],
   "source": [
    "_X_pore = X_pore[:2]"
   ]
  },
  {
   "cell_type": "code",
   "execution_count": 69,
   "id": "35a85bc0-0901-4c8d-9f1a-6f92252d5258",
   "metadata": {},
   "outputs": [],
   "source": [
    "color = np.zeros((X.shape[0],))\n",
    "for i in range(len(X)):\n",
    "    \n",
    "    for j in range(3):\n",
    "        \n",
    "        for k in range(ref.shape[0]):\n",
    "            \n",
    "            if np.abs(X[i] - (np.mod(X[j]*ref[k] + tra[k], 1))).sum() < 0.1:\n",
    "                \n",
    "                color[i] = j\n",
    "                \n",
    "                break\n",
    "\n",
    "\n",
    "color2 = np.zeros((_X_pore.shape[0],))\n",
    "for i in range(len(_X_pore)):\n",
    "    \n",
    "    for j in range(5):\n",
    "        \n",
    "        for k in range(ref.shape[0]):\n",
    "            \n",
    "            if np.abs(_X_pore[i] - (np.mod(X_pore[j]*ref[k] + tra[k], 1))).sum() < 0.001:\n",
    "                \n",
    "                color2[i] = j\n",
    "                \n",
    "                break"
   ]
  },
  {
   "cell_type": "code",
   "execution_count": 70,
   "id": "31342ea9-423d-4e73-b2a9-ce22225f9da0",
   "metadata": {},
   "outputs": [
    {
     "data": {
      "text/plain": [
       "(array([0., 1., 2., 0., 1., 2., 0., 1., 2., 0., 1., 2., 0., 1., 2., 0., 1.,\n",
       "        2., 0., 1., 2., 0., 1., 2.]),\n",
       " array([1., 1.]))"
      ]
     },
     "execution_count": 70,
     "metadata": {},
     "output_type": "execute_result"
    }
   ],
   "source": [
    "color, color2"
   ]
  },
  {
   "cell_type": "code",
   "execution_count": 71,
   "id": "e23821a1-1889-4023-8680-652fcef3cc55",
   "metadata": {},
   "outputs": [
    {
     "name": "stdout",
     "output_type": "stream",
     "text": [
      "[0.352 0.244 0.894] [0.352 0.244 0.894]\n",
      "[0.307 0.398 0.332] [0.307 0.398 0.332]\n",
      "[0.404 0.398 0.686] [0.404 0.398 0.686]\n",
      "[0.852 0.744 0.894] [0.648 0.244 0.106]\n",
      "[0.807 0.898 0.332] [0.693 0.398 0.668]\n",
      "[0.904 0.898 0.686] [0.596 0.398 0.314]\n",
      "[0.648 0.244 0.106] [0.648 0.755 0.106]\n",
      "[0.693 0.398 0.668] [0.693 0.602 0.668]\n",
      "[0.596 0.398 0.314] [0.596 0.602 0.314]\n",
      "[0.148 0.744 0.106] [0.352 0.755 0.894]\n",
      "[0.193 0.898 0.668] [0.307 0.602 0.332]\n",
      "[0.096 0.898 0.314] [0.404 0.602 0.686]\n",
      "[0.648 0.756 0.106] [0.852 0.745 0.894]\n",
      "[0.693 0.602 0.668] [0.807 0.898 0.332]\n",
      "[0.596 0.602 0.314] [0.904 0.898 0.686]\n",
      "[0.148 0.256 0.106] [0.148 0.745 0.106]\n",
      "[0.193 0.102 0.668] [0.193 0.898 0.668]\n",
      "[0.096 0.102 0.314] [0.096 0.898 0.314]\n",
      "[0.352 0.756 0.894] [0.148 0.256 0.106]\n",
      "[0.307 0.602 0.332] [0.193 0.102 0.668]\n",
      "[0.404 0.602 0.686] [0.096 0.102 0.314]\n",
      "[0.852 0.256 0.894] [0.852 0.256 0.894]\n",
      "[0.807 0.102 0.332] [0.807 0.102 0.332]\n",
      "[0.904 0.102 0.686] [0.904 0.102 0.686]\n"
     ]
    }
   ],
   "source": [
    "for k in range(len(ref)):\n",
    "    print(np.mod(X[0]*ref[k] + tra[k], 1), X[k*3])\n",
    "    print(np.mod(X[1]*ref[k] + tra[k], 1), X[k*3+1])\n",
    "    print(np.mod(X[2]*ref[k] + tra[k], 1), X[k*3+2])"
   ]
  },
  {
   "cell_type": "code",
   "execution_count": 72,
   "id": "34206312-bb0d-452c-a41d-f38ba4d6468d",
   "metadata": {},
   "outputs": [
    {
     "data": {
      "text/plain": [
       "array([24., 24., 12., 12., 16., 16.,  8.,  8.])"
      ]
     },
     "execution_count": 72,
     "metadata": {},
     "output_type": "execute_result"
    }
   ],
   "source": [
    "A_pore.sum(0)"
   ]
  },
  {
   "cell_type": "code",
   "execution_count": 73,
   "id": "8f0f10be-9ba3-4484-8244-a1b0018d878e",
   "metadata": {},
   "outputs": [],
   "source": [
    "ce_dict = {}\n",
    "row, col = np.nonzero(A)\n",
    "n_c = 0\n",
    "for i in range(len(row)):\n",
    "    \n",
    "    added = False\n",
    "    \n",
    "    r,c = row[i], col[i]\n",
    "    \n",
    "    for j in ce_dict:\n",
    "        \n",
    "        if added: break\n",
    "        \n",
    "        test = ce_dict[j][0]\n",
    "        \n",
    "        test_r = X[test[0]]\n",
    "        test_c = X[test[1]]\n",
    "        \n",
    "        \n",
    "        for k in range(ref.shape[0]):\n",
    "            \n",
    "            r1 = np.mod(X[r]*ref[k] + tra[k], 1)\n",
    "            r2 = np.mod(X[c]*ref[k] + tra[k], 1)\n",
    "            \n",
    "            if np.abs(r1-test_r).sum() < 0.05 and np.abs(r2-test_c).sum() < 0.05:\n",
    "                \n",
    "                ce_dict[j].append((r,c))\n",
    "                \n",
    "                added = True\n",
    "                break\n",
    "        \n",
    "    if not added:\n",
    "        ce_dict[n_c] = [(r,c)]\n",
    "        n_c += 1"
   ]
  },
  {
   "cell_type": "code",
   "execution_count": 79,
   "id": "0bc1bb76-b790-4e66-b2f6-7276fe1dbc0a",
   "metadata": {},
   "outputs": [
    {
     "data": {
      "text/plain": [
       "array([[1., 1., 1., 0., 0., 1., 1., 0.],\n",
       "       [1., 1., 1., 0., 0., 1., 1., 0.],\n",
       "       [1., 1., 1., 0., 0., 1., 1., 0.],\n",
       "       [1., 1., 1., 0., 0., 1., 1., 0.],\n",
       "       [1., 1., 1., 0., 1., 1., 0., 0.],\n",
       "       [1., 1., 1., 0., 1., 1., 0., 0.],\n",
       "       [1., 1., 1., 0., 1., 1., 0., 0.],\n",
       "       [1., 1., 1., 0., 1., 1., 0., 0.],\n",
       "       [1., 1., 1., 0., 1., 0., 0., 1.],\n",
       "       [1., 1., 1., 0., 1., 0., 0., 1.],\n",
       "       [1., 1., 1., 0., 1., 0., 0., 1.],\n",
       "       [1., 1., 1., 0., 1., 0., 0., 1.],\n",
       "       [1., 1., 0., 1., 1., 0., 0., 1.],\n",
       "       [1., 1., 0., 1., 1., 0., 0., 1.],\n",
       "       [1., 1., 0., 1., 1., 0., 0., 1.],\n",
       "       [1., 1., 0., 1., 1., 0., 0., 1.],\n",
       "       [1., 1., 0., 1., 1., 1., 0., 0.],\n",
       "       [1., 1., 0., 1., 1., 1., 0., 0.],\n",
       "       [1., 1., 0., 1., 1., 1., 0., 0.],\n",
       "       [1., 1., 0., 1., 1., 1., 0., 0.],\n",
       "       [1., 1., 0., 1., 0., 1., 1., 0.],\n",
       "       [1., 1., 0., 1., 0., 1., 1., 0.],\n",
       "       [1., 1., 0., 1., 0., 1., 1., 0.],\n",
       "       [1., 1., 0., 1., 0., 1., 1., 0.]])"
      ]
     },
     "execution_count": 79,
     "metadata": {},
     "output_type": "execute_result"
    }
   ],
   "source": [
    "A_pore"
   ]
  },
  {
   "cell_type": "code",
   "execution_count": 80,
   "id": "c7366768-beb4-4b6f-99c1-0c1e3cca4495",
   "metadata": {},
   "outputs": [],
   "source": [
    "_A_pore = A_pore[:,:2]"
   ]
  },
  {
   "cell_type": "code",
   "execution_count": 81,
   "id": "9d267913-367c-407a-b1d9-35767a4ebf6c",
   "metadata": {},
   "outputs": [],
   "source": [
    "cp_dict = {}\n",
    "row, col = np.nonzero(_A_pore)\n",
    "n_c = 0\n",
    "for i in range(len(row)):\n",
    "    \n",
    "    added = False\n",
    "    \n",
    "    r,c = row[i], col[i]\n",
    "    \n",
    "    for j in cp_dict:\n",
    "        \n",
    "        if added: break\n",
    "        \n",
    "        test = cp_dict[j][0]\n",
    "        \n",
    "        test_r = X[test[0]]\n",
    "        test_c = _X_pore[test[1]]\n",
    "        \n",
    "        \n",
    "        for k in range(ref.shape[0]):\n",
    "            \n",
    "            r1 = np.mod(ref[k]*X[r] + tra[k], 1)\n",
    "            r2 = np.mod(ref[k]*_X_pore[c] + tra[k], 1)\n",
    "            \n",
    "            if np.abs(r1-test_r).sum() < 0.001 and np.abs(r2-test_c).sum() < 0.001:\n",
    "                \n",
    "                cp_dict[j].append((r,c))\n",
    "                \n",
    "                added = True\n",
    "                break\n",
    "        \n",
    "    if not added:\n",
    "        cp_dict[n_c] = [(r,c)]\n",
    "        n_c += 1"
   ]
  },
  {
   "cell_type": "code",
   "execution_count": 82,
   "id": "7f45a39e-16b2-402b-b658-40684d4f66cd",
   "metadata": {},
   "outputs": [],
   "source": [
    "import matplotlib.patheffects as pe"
   ]
  },
  {
   "cell_type": "code",
   "execution_count": 84,
   "id": "81a27b71-7ee9-4047-b340-5c514637986b",
   "metadata": {},
   "outputs": [
    {
     "data": {
      "image/png": "[encoded data removed]",
      "text/plain": [
       "<Figure size 250x375 with 1 Axes>"
      ]
     },
     "metadata": {},
     "output_type": "display_data"
    }
   ],
   "source": [
    "plt.figure(figsize=(10/4,15/4))\n",
    "for i in ce_dict:\n",
    "    x = 0\n",
    "    for j in ce_dict[i]:\n",
    "        \n",
    "        x1, x2 = X[j[0]].copy(), X[j[1]].copy()\n",
    "        \n",
    "        d = x2-x1\n",
    "        \n",
    "        for _d in range(3):\n",
    "            \n",
    "            if d[_d] > 0.5:\n",
    "                \n",
    "                x2[_d] -= 1\n",
    "            \n",
    "            elif d[_d] < -.5:\n",
    "                \n",
    "                x2[_d] += 1\n",
    "            \n",
    "        \n",
    "        \n",
    "        \n",
    "        if x == 0:\n",
    "            \n",
    "            line = plt.plot([x1[0], x2[0]], [x1[1], x2[1]], lw=4, zorder=5)\n",
    "            plt.plot([x1[0], x2[0]], [x1[1], x2[1]], lw=6, c='black', zorder=4)\n",
    "        \n",
    "        plt.plot([x1[0], x2[0]], [x1[1], x2[1]], c= line[0].get_c(),lw=4, zorder=5)\n",
    "        plt.plot([x1[0], x2[0]], [x1[1], x2[1]], c= 'black',lw=6, zorder=4)\n",
    "        x+=1\n",
    "        \n",
    "        \n",
    "for i in cp_dict:\n",
    "    x = 0\n",
    "    for j in cp_dict[i]:\n",
    "        \n",
    "        x1, x2 = X[j[0]].copy(), X_pore[j[1]].copy()\n",
    "        \n",
    "        d = x2-x1\n",
    "        \n",
    "        for _d in range(3):\n",
    "            \n",
    "            if d[_d] > 0.5:\n",
    "                \n",
    "                x2[_d] -= 1\n",
    "            \n",
    "            elif d[_d] < -.5:\n",
    "                \n",
    "                x2[_d] += 1\n",
    "            \n",
    "        \n",
    "        \n",
    "        \n",
    "        if x == 0:\n",
    "            line = plt.plot([x1[0], x2[0]], [x1[1], x2[1]],lw=2,ls='--', path_effects=[pe.Stroke(linewidth=4, foreground='black'), pe.Normal()])\n",
    "        \n",
    "        plt.plot([x1[0], x2[0]], [x1[1], x2[1]], c= line[0].get_c(),lw=2,ls='--', path_effects=[pe.Stroke(linewidth=4, foreground='black'), pe.Normal()])\n",
    "        #     line = plt.plot([x1[0], x2[0]], [x1[1], x2[1]],lw=2,ls='--', path_effects=[pe.Stroke(linewidth=4, foreground='black')])\n",
    "        \n",
    "        # plt.plot([x1[0], x2[0]], [x1[1], x2[1]], c= line[0].get_c(),lw=2,ls='--', path_effects=[pe.Stroke(linewidth=4, foreground='black')])\n",
    "        x+=1\n",
    "        \n",
    "\n",
    "# Xp0 = X_pore@rotation_matrix.T\n",
    "# Xp10 = (X_pore+[1,0,0])@rotation_matrix.T\n",
    "# Xp01 = (X_pore+[0,1,0])@rotation_matrix.T\n",
    "# Xp11 = (X_pore+[1,1,0])@rotation_matrix.T\n",
    "# plt.scatter(Xp0[:,0], Xp0[:,1], s=150, zorder=10, c=color2, marker='s', edgecolors='black')\n",
    "# plt.scatter(Xp10[:,0], Xp10[:,1], s=150, zorder=10, c=color2, marker='s', edgecolors='black')\n",
    "# plt.scatter(Xp01[:,0], Xp01[:,1], s=150, zorder=10, c=color2, marker='s', edgecolors='black')\n",
    "# plt.scatter(Xp11[:,0], Xp11[:,1], s=150, zorder=10, c=color2, marker='s', edgecolors='black')\n",
    "plt.xlim(0,1)\n",
    "plt.ylim(0,1)\n",
    "plt.xticks([],[])\n",
    "plt.yticks([],[])\n",
    "plt.scatter(X[:,0], X[:,1], c=color, s=350, zorder=10, edgecolors='black')\n",
    "\n",
    "plt.scatter(X_pore[:2,0], X_pore[:2,1], s=150, zorder=10, c=color2, marker='s', edgecolors='black')\n",
    "plt.scatter(X_pore[:2,0]+1, X_pore[:2,1], s=150, zorder=10, c=color2, marker='s', edgecolors='black')\n",
    "plt.scatter(X_pore[:2,0], X_pore[:2,1]+1, s=150, zorder=10, c=color2, marker='s', edgecolors='black')\n",
    "plt.scatter(X_pore[:2,0]+1, X_pore[:2,1]+1, s=150, zorder=10, c=color2, marker='s', edgecolors='black')\n",
    "# plt.scatter(X[:,0], X[:,1], c='black', s=500, zorder=9)\n",
    "plt.savefig('figures/weight_sharing_pore_itw.pdf', bbox_inches='tight', dpi=1200);"
   ]
  },
  {
   "cell_type": "code",
   "execution_count": 100,
   "id": "976ec72a-845f-418d-bdb0-f89be1e061b9",
   "metadata": {},
   "outputs": [
    {
     "data": {
      "text/plain": [
       "array([[0.5       , 0.        , 0.5       ],\n",
       "       [0.        , 0.5       , 0.5       ],\n",
       "       [0.5       , 0.49983333, 0.5       ],\n",
       "       [0.5       , 0.50016667, 0.5       ],\n",
       "       [0.5       , 0.5       , 0.        ],\n",
       "       [0.        , 0.        , 0.        ],\n",
       "       [0.5       , 0.        , 0.5       ],\n",
       "       [0.54625   , 0.730875  , 0.5305    ]])"
      ]
     },
     "execution_count": 100,
     "metadata": {},
     "output_type": "execute_result"
    }
   ],
   "source": [
    "X_pore"
   ]
  },
  {
   "cell_type": "code",
   "execution_count": 101,
   "id": "d00eea2c-7cc6-4d1a-8171-b444df346897",
   "metadata": {},
   "outputs": [
    {
     "data": {
      "text/plain": [
       "(0.0, 1.0)"
      ]
     },
     "execution_count": 101,
     "metadata": {},
     "output_type": "execute_result"
    },
    {
     "data": {
      "image/png": "[encoded data removed]",
      "text/plain": [
       "<Figure size 640x480 with 1 Axes>"
      ]
     },
     "metadata": {},
     "output_type": "display_data"
    }
   ],
   "source": [
    "plt.scatter(X_pore[:,1], X_pore[:,2])\n",
    "plt.xlim(0,1)\n",
    "plt.ylim(0,1)"
   ]
  },
  {
   "cell_type": "code",
   "execution_count": 98,
   "id": "fb20c4d2-1bf8-4ea3-a0c7-8590d4724157",
   "metadata": {},
   "outputs": [],
   "source": [
    "tmp = X[A_pore[:,-2]==1]"
   ]
  },
  {
   "cell_type": "code",
   "execution_count": 99,
   "id": "34b2645d-9ec4-427a-bd96-c9c77913ecf2",
   "metadata": {},
   "outputs": [
    {
     "data": {
      "text/plain": [
       "(0.0, 1.0)"
      ]
     },
     "execution_count": 99,
     "metadata": {},
     "output_type": "execute_result"
    },
    {
     "data": {
      "image/png": "[encoded data removed]",
      "text/plain": [
       "<Figure size 640x480 with 1 Axes>"
      ]
     },
     "metadata": {},
     "output_type": "display_data"
    }
   ],
   "source": [
    "plt.scatter(tmp[:,1], tmp[:,2])\n",
    "plt.xlim(0,1)\n",
    "plt.ylim(0,1)"
   ]
  },
  {
   "cell_type": "code",
   "execution_count": null,
   "id": "a634e429-6587-40e6-96ce-c3dab334ff9b",
   "metadata": {},
   "outputs": [],
   "source": []
  }
 ],
 "metadata": {
  "kernelspec": {
   "display_name": "Python 3 (ipykernel)",
   "language": "python",
   "name": "python3"
  },
  "language_info": {
   "codemirror_mode": {
    "name": "ipython",
    "version": 3
   },
   "file_extension": ".py",
   "mimetype": "text/x-python",
   "name": "python",
   "nbconvert_exporter": "python",
   "pygments_lexer": "ipython3",
   "version": "3.10.12"
  }
 },
 "nbformat": 4,
 "nbformat_minor": 5
}
