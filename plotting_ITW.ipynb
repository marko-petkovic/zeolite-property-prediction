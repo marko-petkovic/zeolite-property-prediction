{
 "cells": [
  {
   "cell_type": "code",
   "execution_count": 10,
   "id": "f3efd022-431e-4c99-9062-f61ef85fa695",
   "metadata": {},
   "outputs": [],
   "source": [
    "import os\n",
    "import sys\n",
    "sys.path.append(os.getcwd())\n",
    "sys.path.insert(0, \"../zeolite-property-prediction/code/\")\n",
    "sys.path.insert(0, \"../zeolite-property-prediction/\")\n",
    "\n",
    "\n",
    "import numpy as np\n",
    "import pandas as pd\n",
    "import torch\n",
    "import torch.nn as nn\n",
    "import torch.nn.functional as F\n",
    "\n",
    "import torch.optim as optim\n",
    "\n",
    "import matplotlib.pyplot as plt\n",
    "import matplotlib.ticker as tick\n",
    "\n",
    "from tqdm import tqdm\n",
    "\n",
    "from sklearn.metrics import r2_score\n",
    "\n",
    "from models.equivariant_mpnn import MPNNPORE\n",
    "from utils.ZeoliteData import get_zeolite, get_data_pore\n",
    "from utils.dataloading import get_data, get_graph_data, get_transform_matrix"
   ]
  },
  {
   "cell_type": "code",
   "execution_count": 2,
   "id": "2c0b07e6-76a3-416a-a251-adc2c7819176",
   "metadata": {},
   "outputs": [],
   "source": [
    "import matplotlib as mpl"
   ]
  },
  {
   "cell_type": "code",
   "execution_count": 3,
   "id": "6ff58c30-008d-4638-b374-ed14dfae9ed3",
   "metadata": {},
   "outputs": [],
   "source": [
    "plt.rc('font', family='serif',)\n"
   ]
  },
  {
   "cell_type": "code",
   "execution_count": 4,
   "id": "fb7220d8-320b-4679-a4ae-32f014a675be",
   "metadata": {},
   "outputs": [],
   "source": [
    "from matplotlib import rc"
   ]
  },
  {
   "cell_type": "code",
   "execution_count": 5,
   "id": "9a7b3a46-df85-42dc-b5bf-04c4cf4f2ec0",
   "metadata": {},
   "outputs": [],
   "source": [
    "data = get_zeolite('ITW', True)\n",
    "    \n",
    "ref = data['ref'] # reflections\n",
    "tra = data['tra'] # translations\n",
    "l = data['l'] # scale of the unit cell\n",
    "ang = data['ang']\n",
    "\n",
    "# specific for MOR\n",
    "atoms, hoa, X, A, d, X_pore, A_pore, d_pore, pore = get_data(l, 'ITW', ang)\n",
    "\n",
    "edges, idx1, idx2, idx2_oh = get_graph_data(A, d)\n",
    "edges_sp, idx1_sp, idx2_sp, idx2_oh_sp = get_graph_data(A_pore, d_pore)\n",
    "edges_ps, idx1_ps, idx2_ps, idx2_oh_ps = get_graph_data(A_pore.T, d_pore.T)"
   ]
  },
  {
   "cell_type": "code",
   "execution_count": 6,
   "id": "99d1e285-d1db-47c6-83a8-68d00b0ec164",
   "metadata": {},
   "outputs": [],
   "source": [
    "_, testloader, trainloader = get_data_pore(atoms, hoa, edges, pore, edges_sp, edges_ps, bs=32, random=True)"
   ]
  },
  {
   "cell_type": "code",
   "execution_count": 10,
   "id": "47419a91-fc9a-4744-a300-d0d733c24c1e",
   "metadata": {},
   "outputs": [],
   "source": [
    "title_size=7.5\n",
    "label_size=7"
   ]
  },
  {
   "cell_type": "code",
   "execution_count": 7,
   "id": "63460339-6aae-44b2-81c3-a2d339a158c7",
   "metadata": {},
   "outputs": [],
   "source": [
    "mpnn = MPNNPORE(idx1.to('cuda'), idx2.to('cuda'), idx2_oh.to('cuda'), X, X_pore, ref, tra,\n",
    "                    idx1_sp.to('cuda'), idx2_sp.to('cuda'), idx2_oh_sp.to('cuda'), \n",
    "                    idx1_ps.to('cuda'), idx2_ps.to('cuda'), idx2_oh_ps.to('cuda'),\n",
    "                    hid_size=[8]*6, site_emb_size=8, edge_emb_size=8, mlp_size=24,\n",
    "                    centers=10, mx_d=6, width=1, pool='sum', pool_pore=True, out_size=2).to('cuda')\n",
    "\n",
    "mpnn2 = MPNNPORE(idx1.to('cuda'), idx2.to('cuda'), idx2_oh.to('cuda'), X, X_pore, ref, tra,\n",
    "                    idx1_sp.to('cuda'), idx2_sp.to('cuda'), idx2_oh_sp.to('cuda'), \n",
    "                    idx1_ps.to('cuda'), idx2_ps.to('cuda'), idx2_oh_ps.to('cuda'),\n",
    "                    hid_size=[8]*6, site_emb_size=8, edge_emb_size=8, mlp_size=24,\n",
    "                    centers=10, mx_d=6, width=1, pool='sum', pool_pore=True, site_pred=True, out_size=2).to('cuda')"
   ]
  },
  {
   "cell_type": "code",
   "execution_count": 8,
   "id": "0749c5ec-1880-4bc6-8743-5177aa36d57f",
   "metadata": {},
   "outputs": [],
   "source": [
    "def get_95_CI(x):\n",
    "    \n",
    "    ci = 1.96*np.std(x)/np.sqrt(len(x))\n",
    "    return ci"
   ]
  },
  {
   "cell_type": "code",
   "execution_count": 11,
   "id": "910f3219-dc8f-49f6-a927-b30b1cc28dc3",
   "metadata": {},
   "outputs": [
    {
     "name": "stderr",
     "output_type": "stream",
     "text": [
      "100%|██████████████████████████████████████████████████████████████████████████████████| 10/10 [00:03<00:00,  2.75it/s]\n"
     ]
    }
   ],
   "source": [
    "_mae_p_hoa = []\n",
    "_mae_p_henry = []\n",
    "_mse_p_hoa = []\n",
    "_mse_p_henry = []\n",
    "_r2_p_hoa = []\n",
    "_r2_p_henry = []\n",
    "\n",
    "\n",
    "_mae_p2_hoa = []\n",
    "_mse_p2_hoa = []\n",
    "_mae_p2_henry = []\n",
    "_mse_p2_henry = []\n",
    "_r2_p2_hoa = []\n",
    "_r2_p2_henry = []\n",
    "    \n",
    "\n",
    "for j in tqdm(range(1,11)):\n",
    "\n",
    "    mpnn.load_state_dict(torch.load(f'model_data_random/ITW/1.0/pore/model_{j}/model.pth'))\n",
    "    y_pred, y_true = mpnn.predict(testloader)\n",
    "    y_true[:,1] = torch.log10(y_true[:,1])\n",
    "    \n",
    "    _mse = ((y_pred - y_true)**2)#.mean().item()\n",
    "    _mae = (y_pred - y_true).abs()#.mean().item()\n",
    "\n",
    "    _r2_hoa = r2_score(y_true[:,0].numpy(), y_pred[:,0].numpy())\n",
    "    _r2_henry = r2_score(y_true[:,1].numpy(), y_pred[:,1].numpy())\n",
    "\n",
    "    _mae_hoa = _mae[:,0].mean().item()\n",
    "    _mae_henry = _mae[:,1].mean().item()\n",
    "    _mse_hoa = _mse[:,0].mean().item()\n",
    "    _mse_henry = _mse[:,1].mean().item()\n",
    "    \n",
    "    _mae_p_hoa.append(_mae_hoa)\n",
    "    _mae_p_henry.append(_mae_henry)\n",
    "    _mse_p_hoa.append(_mse_hoa)\n",
    "    _mse_p_henry.append(_mse_henry)\n",
    "    _r2_p_hoa.append(_r2_hoa)\n",
    "    _r2_p_henry.append(_r2_henry)\n",
    "\n",
    "\n",
    "    mpnn2.load_state_dict(torch.load(f'model_data_random2/ITW/1.0/pore/model_{j}/model.pth'))\n",
    "    y_pred, y_true = mpnn2.predict(testloader)\n",
    "    y_true[:,1] = torch.log10(y_true[:,1])\n",
    "    \n",
    "    _mse = ((y_pred - y_true)**2)#.mean().item()\n",
    "    _mae = (y_pred - y_true).abs()#.mean().item()\n",
    "\n",
    "\n",
    "    _r2_hoa = r2_score(y_true[:,0].numpy(), y_pred[:,0].numpy())\n",
    "    _r2_henry = r2_score(y_true[:,1].numpy(), y_pred[:,1].numpy())\n",
    "\n",
    "    _mae_hoa = _mae[:,0].mean().item()\n",
    "    _mae_henry = _mae[:,1].mean().item()\n",
    "    _mse_hoa = _mse[:,0].mean().item()\n",
    "    _mse_henry = _mse[:,1].mean().item()\n",
    "    \n",
    "    \n",
    "    _mae_p2_hoa.append(_mae_hoa)\n",
    "    _mae_p2_henry.append(_mae_henry)\n",
    "    _mse_p2_hoa.append(_mse_hoa)\n",
    "    _mse_p2_henry.append(_mse_henry)\n",
    "    _r2_p2_hoa.append(_r2_hoa)\n",
    "    _r2_p2_henry.append(_r2_henry)\n",
    "    \n",
    "mae_p_hoa  = np.mean(_mae_p_hoa)\n",
    "mse_p_hoa = np.mean(_mse_p_hoa)\n",
    "r2_p_hoa = np.mean(_r2_p_hoa)\n",
    "mae_p2_hoa  = np.mean(_mae_p2_hoa)\n",
    "mse_p2_hoa = np.mean(_mse_p2_hoa)\n",
    "r2_p2_hoa = np.mean(_r2_p2_hoa)\n",
    "\n",
    "mae_p_henry  = np.mean(_mae_p_henry)\n",
    "mse_p_henry = np.mean(_mse_p_henry)\n",
    "r2_p_henry = np.mean(_r2_p_henry)\n",
    "mae_p2_henry  = np.mean(_mae_p2_henry)\n",
    "mse_p2_henry = np.mean(_mse_p2_henry)\n",
    "r2_p2_henry = np.mean(_r2_p2_henry)"
   ]
  },
  {
   "cell_type": "code",
   "execution_count": 12,
   "id": "4b9f0b8a-5274-49ee-a219-5049f8dd81a0",
   "metadata": {},
   "outputs": [],
   "source": [
    "maes = [_mae_p_hoa, _mae_p2_hoa, _mae_p_henry, _mae_p2_henry]\n",
    "mses = [_mse_p_hoa, _mse_p2_hoa, _mse_p_henry, _mse_p2_henry]\n",
    "r2s = [_r2_p_hoa, _r2_p2_hoa, _r2_p_henry, _r2_p2_henry]"
   ]
  },
  {
   "cell_type": "code",
   "execution_count": 13,
   "id": "8fea11ba-17a5-4a54-9760-71f04d7b1de9",
   "metadata": {},
   "outputs": [],
   "source": [
    "df = pd.DataFrame(columns = ['MAE','MSE','R2'], index=['EPCN (hoa)','Ours (hoa)','EPCN (henry)', 'Ours (henry)'])\n",
    "for i in range(len(df.index)):\n",
    "\n",
    "    mu_a = np.mean(maes[i]).round(2)\n",
    "    mu_s = np.mean(mses[i]).round(2)\n",
    "    mu_r = np.mean(r2s[i]).round(2)\n",
    "    \n",
    "    ci_a = get_95_CI(maes[i]).round(2)\n",
    "    ci_s = get_95_CI(mses[i]).round(2)\n",
    "    ci_r = get_95_CI(r2s[i]).round(2)\n",
    "    \n",
    "    a = fr'{mu_a} $$\\pm$$ {ci_a}'\n",
    "    s = fr'{mu_s} $$\\pm$$ {ci_s}'\n",
    "    r = fr'{mu_r} $$\\pm$$ {ci_r}'\n",
    "    \n",
    "    df.loc[df.index[i]] = [a,s,r]"
   ]
  },
  {
   "cell_type": "code",
   "execution_count": 14,
   "id": "45645071-2c75-484b-9851-7afe53491b84",
   "metadata": {},
   "outputs": [
    {
     "data": {
      "text/html": [
       "<div>\n",
       "<style scoped>\n",
       "    .dataframe tbody tr th:only-of-type {\n",
       "        vertical-align: middle;\n",
       "    }\n",
       "\n",
       "    .dataframe tbody tr th {\n",
       "        vertical-align: top;\n",
       "    }\n",
       "\n",
       "    .dataframe thead th {\n",
       "        text-align: right;\n",
       "    }\n",
       "</style>\n",
       "<table border=\"1\" class=\"dataframe\">\n",
       "  <thead>\n",
       "    <tr style=\"text-align: right;\">\n",
       "      <th></th>\n",
       "      <th>MAE</th>\n",
       "      <th>MSE</th>\n",
       "      <th>R2</th>\n",
       "    </tr>\n",
       "  </thead>\n",
       "  <tbody>\n",
       "    <tr>\n",
       "      <th>EPCN (hoa)</th>\n",
       "      <td>2.6 $$\\pm$$ 0.13</td>\n",
       "      <td>16.69 $$\\pm$$ 1.36</td>\n",
       "      <td>0.7 $$\\pm$$ 0.02</td>\n",
       "    </tr>\n",
       "    <tr>\n",
       "      <th>Ours (hoa)</th>\n",
       "      <td>2.66 $$\\pm$$ 0.11</td>\n",
       "      <td>17.42 $$\\pm$$ 1.28</td>\n",
       "      <td>0.69 $$\\pm$$ 0.02</td>\n",
       "    </tr>\n",
       "    <tr>\n",
       "      <th>EPCN (henry)</th>\n",
       "      <td>0.25 $$\\pm$$ 0.02</td>\n",
       "      <td>0.1 $$\\pm$$ 0.01</td>\n",
       "      <td>0.72 $$\\pm$$ 0.04</td>\n",
       "    </tr>\n",
       "    <tr>\n",
       "      <th>Ours (henry)</th>\n",
       "      <td>0.27 $$\\pm$$ 0.06</td>\n",
       "      <td>0.13 $$\\pm$$ 0.05</td>\n",
       "      <td>0.66 $$\\pm$$ 0.14</td>\n",
       "    </tr>\n",
       "  </tbody>\n",
       "</table>\n",
       "</div>"
      ],
      "text/plain": [
       "                            MAE                 MSE                 R2\n",
       "EPCN (hoa)     2.6 $$\\pm$$ 0.13  16.69 $$\\pm$$ 1.36   0.7 $$\\pm$$ 0.02\n",
       "Ours (hoa)    2.66 $$\\pm$$ 0.11  17.42 $$\\pm$$ 1.28  0.69 $$\\pm$$ 0.02\n",
       "EPCN (henry)  0.25 $$\\pm$$ 0.02    0.1 $$\\pm$$ 0.01  0.72 $$\\pm$$ 0.04\n",
       "Ours (henry)  0.27 $$\\pm$$ 0.06   0.13 $$\\pm$$ 0.05  0.66 $$\\pm$$ 0.14"
      ]
     },
     "execution_count": 14,
     "metadata": {},
     "output_type": "execute_result"
    }
   ],
   "source": [
    "df"
   ]
  },
  {
   "cell_type": "code",
   "execution_count": 31,
   "id": "a6e7d2fc-4af0-4203-97bc-2047ec2bb01c",
   "metadata": {},
   "outputs": [],
   "source": [
    "best_idx = np.argmin(_mae_p2_hoa)\n",
    "mpnn2.load_state_dict(torch.load(f'model_data_random2/ITW/1.0/pore/model_{best_idx+1}/model.pth'))\n",
    "y_pred, y_true = mpnn2.predict(testloader)\n",
    "y_true[:,1] = np.log10(y_true[:,1])"
   ]
  },
  {
   "cell_type": "code",
   "execution_count": 32,
   "id": "14ee989f-3cb1-46a0-b16f-253d2c1c179b",
   "metadata": {},
   "outputs": [],
   "source": [
    "np.save('pred_itw.npy', y_pred)"
   ]
  },
  {
   "cell_type": "code",
   "execution_count": 33,
   "id": "bcacac8b-6350-4af4-8699-01535bff5e57",
   "metadata": {},
   "outputs": [],
   "source": [
    "np.save('true_itw.npy', y_true)"
   ]
  },
  {
   "cell_type": "code",
   "execution_count": 17,
   "id": "c14f9de9-790c-400b-9a0a-893056da7ed2",
   "metadata": {},
   "outputs": [],
   "source": [
    "np.save('ats_itw.npy',testloader.dataset.X.numpy())"
   ]
  },
  {
   "cell_type": "code",
   "execution_count": 34,
   "id": "fc56a8e4-3609-4d71-8556-03eda123f01b",
   "metadata": {},
   "outputs": [],
   "source": [
    "h = get_transform_matrix(*l, *ang)"
   ]
  },
  {
   "cell_type": "code",
   "execution_count": 35,
   "id": "a5c051fb-fe30-49db-85d1-0d5e5ee599b8",
   "metadata": {},
   "outputs": [],
   "source": [
    "beta=2.87"
   ]
  },
  {
   "cell_type": "code",
   "execution_count": 36,
   "id": "7c138ef4-a2c5-4714-82e3-7ff8cccdb16e",
   "metadata": {},
   "outputs": [],
   "source": [
    "rotation_matrix = np.array([\n",
    "    [np.cos(beta), 0, np.sin(beta)],\n",
    "    [0, 1, 0],\n",
    "    [-np.sin(beta), 0, np.cos(beta)]\n",
    "])"
   ]
  },
  {
   "cell_type": "code",
   "execution_count": 37,
   "id": "833a8efa-d5eb-4a10-9305-187caa1eff45",
   "metadata": {},
   "outputs": [],
   "source": [
    "_X = X @ rotation_matrix.T\n",
    "_X_pore = X_pore @ rotation_matrix.T"
   ]
  },
  {
   "cell_type": "code",
   "execution_count": 38,
   "id": "d98c603f-139f-4a8c-9b11-3cff8ad3595d",
   "metadata": {},
   "outputs": [],
   "source": [
    "_X_pore = X_pore[:2]"
   ]
  },
  {
   "cell_type": "code",
   "execution_count": 39,
   "id": "35a85bc0-0901-4c8d-9f1a-6f92252d5258",
   "metadata": {},
   "outputs": [],
   "source": [
    "color = np.zeros((X.shape[0],))\n",
    "for i in range(len(X)):\n",
    "    \n",
    "    for j in range(3):\n",
    "        \n",
    "        for k in range(ref.shape[0]):\n",
    "            \n",
    "            if np.abs(X[i] - (np.mod(X[j]*ref[k] + tra[k], 1))).sum() < 0.1:\n",
    "                \n",
    "                color[i] = j\n",
    "                \n",
    "                break\n",
    "\n",
    "\n",
    "color2 = np.zeros((_X_pore.shape[0],))\n",
    "for i in range(len(_X_pore)):\n",
    "    \n",
    "    for j in range(5):\n",
    "        \n",
    "        for k in range(ref.shape[0]):\n",
    "            \n",
    "            if np.abs(_X_pore[i] - (np.mod(X_pore[j]*ref[k] + tra[k], 1))).sum() < 0.001:\n",
    "                \n",
    "                color2[i] = j\n",
    "                \n",
    "                break"
   ]
  },
  {
   "cell_type": "code",
   "execution_count": 40,
   "id": "8f0f10be-9ba3-4484-8244-a1b0018d878e",
   "metadata": {},
   "outputs": [],
   "source": [
    "ce_dict = {}\n",
    "row, col = np.nonzero(A)\n",
    "n_c = 0\n",
    "for i in range(len(row)):\n",
    "    \n",
    "    added = False\n",
    "    \n",
    "    r,c = row[i], col[i]\n",
    "    \n",
    "    for j in ce_dict:\n",
    "        \n",
    "        if added: break\n",
    "        \n",
    "        test = ce_dict[j][0]\n",
    "        \n",
    "        test_r = X[test[0]]\n",
    "        test_c = X[test[1]]\n",
    "        \n",
    "        \n",
    "        for k in range(ref.shape[0]):\n",
    "            \n",
    "            r1 = np.mod(X[r]*ref[k] + tra[k], 1)\n",
    "            r2 = np.mod(X[c]*ref[k] + tra[k], 1)\n",
    "            \n",
    "            if np.abs(r1-test_r).sum() < 0.05 and np.abs(r2-test_c).sum() < 0.05:\n",
    "                \n",
    "                ce_dict[j].append((r,c))\n",
    "                \n",
    "                added = True\n",
    "                break\n",
    "        \n",
    "    if not added:\n",
    "        ce_dict[n_c] = [(r,c)]\n",
    "        n_c += 1"
   ]
  },
  {
   "cell_type": "code",
   "execution_count": 41,
   "id": "c7366768-beb4-4b6f-99c1-0c1e3cca4495",
   "metadata": {},
   "outputs": [],
   "source": [
    "_A_pore = A_pore[:,:2]"
   ]
  },
  {
   "cell_type": "code",
   "execution_count": 42,
   "id": "9d267913-367c-407a-b1d9-35767a4ebf6c",
   "metadata": {},
   "outputs": [],
   "source": [
    "cp_dict = {}\n",
    "row, col = np.nonzero(_A_pore)\n",
    "n_c = 0\n",
    "for i in range(len(row)):\n",
    "    \n",
    "    added = False\n",
    "    \n",
    "    r,c = row[i], col[i]\n",
    "    \n",
    "    for j in cp_dict:\n",
    "        \n",
    "        if added: break\n",
    "        \n",
    "        test = cp_dict[j][0]\n",
    "        \n",
    "        test_r = X[test[0]]\n",
    "        test_c = _X_pore[test[1]]\n",
    "        \n",
    "        \n",
    "        for k in range(ref.shape[0]):\n",
    "            \n",
    "            r1 = np.mod(ref[k]*X[r] + tra[k], 1)\n",
    "            r2 = np.mod(ref[k]*_X_pore[c] + tra[k], 1)\n",
    "            \n",
    "            if np.abs(r1-test_r).sum() < 0.001 and np.abs(r2-test_c).sum() < 0.001:\n",
    "                \n",
    "                cp_dict[j].append((r,c))\n",
    "                \n",
    "                added = True\n",
    "                break\n",
    "        \n",
    "    if not added:\n",
    "        cp_dict[n_c] = [(r,c)]\n",
    "        n_c += 1"
   ]
  },
  {
   "cell_type": "code",
   "execution_count": 43,
   "id": "7f45a39e-16b2-402b-b658-40684d4f66cd",
   "metadata": {},
   "outputs": [],
   "source": [
    "import matplotlib.patheffects as pe"
   ]
  },
  {
   "cell_type": "code",
   "execution_count": 44,
   "id": "81a27b71-7ee9-4047-b340-5c514637986b",
   "metadata": {},
   "outputs": [
    {
     "data": {
      "image/png": "[encoded data removed]",
      "text/plain": [
       "<Figure size 250x375 with 1 Axes>"
      ]
     },
     "metadata": {},
     "output_type": "display_data"
    }
   ],
   "source": [
    "plt.figure(figsize=(10/4,15/4))\n",
    "for i in ce_dict:\n",
    "    x = 0\n",
    "    for j in ce_dict[i]:\n",
    "        \n",
    "        x1, x2 = X[j[0]].copy(), X[j[1]].copy()\n",
    "        \n",
    "        d = x2-x1\n",
    "        \n",
    "        for _d in range(3):\n",
    "            \n",
    "            if d[_d] > 0.5:\n",
    "                \n",
    "                x2[_d] -= 1\n",
    "            \n",
    "            elif d[_d] < -.5:\n",
    "                \n",
    "                x2[_d] += 1\n",
    "            \n",
    "        \n",
    "        \n",
    "        \n",
    "        if x == 0:\n",
    "            \n",
    "            line = plt.plot([x1[0], x2[0]], [x1[1], x2[1]], lw=4, zorder=5)\n",
    "            plt.plot([x1[0], x2[0]], [x1[1], x2[1]], lw=6, c='black', zorder=4)\n",
    "        \n",
    "        plt.plot([x1[0], x2[0]], [x1[1], x2[1]], c= line[0].get_c(),lw=4, zorder=5)\n",
    "        plt.plot([x1[0], x2[0]], [x1[1], x2[1]], c= 'black',lw=6, zorder=4)\n",
    "        x+=1\n",
    "        \n",
    "        \n",
    "for i in cp_dict:\n",
    "    x = 0\n",
    "    for j in cp_dict[i]:\n",
    "        \n",
    "        x1, x2 = X[j[0]].copy(), X_pore[j[1]].copy()\n",
    "        \n",
    "        d = x2-x1\n",
    "        \n",
    "        for _d in range(3):\n",
    "            \n",
    "            if d[_d] > 0.5:\n",
    "                \n",
    "                x2[_d] -= 1\n",
    "            \n",
    "            elif d[_d] < -.5:\n",
    "                \n",
    "                x2[_d] += 1\n",
    "            \n",
    "        \n",
    "        \n",
    "        \n",
    "        if x == 0:\n",
    "            line = plt.plot([x1[0], x2[0]], [x1[1], x2[1]],lw=2,ls='--', path_effects=[pe.Stroke(linewidth=4, foreground='black'), pe.Normal()])\n",
    "        \n",
    "        plt.plot([x1[0], x2[0]], [x1[1], x2[1]], c= line[0].get_c(),lw=2,ls='--', path_effects=[pe.Stroke(linewidth=4, foreground='black'), pe.Normal()])\n",
    "        x+=1\n",
    "        \n",
    "plt.xlim(0,1)\n",
    "plt.ylim(0,1)\n",
    "plt.xticks([],[])\n",
    "plt.yticks([],[])\n",
    "plt.scatter(X[:,0], X[:,1], c=color, s=350, zorder=10, edgecolors='black')\n",
    "\n",
    "plt.scatter(X_pore[:2,0], X_pore[:2,1], s=150, zorder=10, c=color2, marker='s', edgecolors='black')\n",
    "plt.scatter(X_pore[:2,0]+1, X_pore[:2,1], s=150, zorder=10, c=color2, marker='s', edgecolors='black')\n",
    "plt.scatter(X_pore[:2,0], X_pore[:2,1]+1, s=150, zorder=10, c=color2, marker='s', edgecolors='black')\n",
    "plt.scatter(X_pore[:2,0]+1, X_pore[:2,1]+1, s=150, zorder=10, c=color2, marker='s', edgecolors='black')\n",
    "# plt.scatter(X[:,0], X[:,1], c='black', s=500, zorder=9)\n",
    "plt.savefig('figures/weight_sharing_pore_itw.pdf', bbox_inches='tight', dpi=1200);\n",
    "plt.savefig('figures/weight_sharing_pore_itw.png', bbox_inches='tight', dpi=1200);"
   ]
  },
  {
   "cell_type": "code",
   "execution_count": null,
   "id": "27a87aa3-18ee-4dbb-b47a-7e6d7b947577",
   "metadata": {},
   "outputs": [],
   "source": []
  }
 ],
 "metadata": {
  "kernelspec": {
   "display_name": "Python 3 (ipykernel)",
   "language": "python",
   "name": "python3"
  },
  "language_info": {
   "codemirror_mode": {
    "name": "ipython",
    "version": 3
   },
   "file_extension": ".py",
   "mimetype": "text/x-python",
   "name": "python",
   "nbconvert_exporter": "python",
   "pygments_lexer": "ipython3",
   "version": "3.10.12"
  }
 },
 "nbformat": 4,
 "nbformat_minor": 5
}
